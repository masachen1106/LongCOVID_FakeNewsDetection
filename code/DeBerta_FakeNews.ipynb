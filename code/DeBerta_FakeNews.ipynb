{
 "cells": [
  {
   "cell_type": "code",
   "execution_count": 2,
   "id": "4b2820e0-d876-4549-8c80-e328c3584452",
   "metadata": {
    "tags": []
   },
   "outputs": [
    {
     "name": "stdout",
     "output_type": "stream",
     "text": [
      "Looking in indexes: https://pypi.org/simple, https://pypi.ngc.nvidia.com\n",
      "Requirement already satisfied: pytorch-transformers in /usr/local/lib/python3.9/dist-packages (1.2.0)\n",
      "Requirement already satisfied: torch>=1.0.0 in /usr/local/lib/python3.9/dist-packages (from pytorch-transformers) (1.13.1)\n",
      "Requirement already satisfied: numpy in /usr/local/lib/python3.9/dist-packages (from pytorch-transformers) (1.24.3)\n",
      "Requirement already satisfied: boto3 in /usr/local/lib/python3.9/dist-packages (from pytorch-transformers) (1.26.142)\n",
      "Requirement already satisfied: requests in /usr/local/lib/python3.9/dist-packages (from pytorch-transformers) (2.28.2)\n",
      "Requirement already satisfied: tqdm in /usr/local/lib/python3.9/dist-packages (from pytorch-transformers) (4.65.0)\n",
      "Requirement already satisfied: regex in /usr/local/lib/python3.9/dist-packages (from pytorch-transformers) (2023.3.23)\n",
      "Requirement already satisfied: sentencepiece in /usr/local/lib/python3.9/dist-packages (from pytorch-transformers) (0.1.96)\n",
      "Requirement already satisfied: sacremoses in /usr/local/lib/python3.9/dist-packages (from pytorch-transformers) (0.0.53)\n",
      "Requirement already satisfied: typing-extensions in /usr/local/lib/python3.9/dist-packages (from torch>=1.0.0->pytorch-transformers) (4.5.0)\n",
      "Requirement already satisfied: nvidia-cuda-runtime-cu11==11.7.99 in /usr/local/lib/python3.9/dist-packages (from torch>=1.0.0->pytorch-transformers) (11.7.99)\n",
      "Requirement already satisfied: nvidia-cudnn-cu11==8.5.0.96 in /usr/local/lib/python3.9/dist-packages (from torch>=1.0.0->pytorch-transformers) (8.5.0.96)\n",
      "Requirement already satisfied: nvidia-cublas-cu11==11.10.3.66 in /usr/local/lib/python3.9/dist-packages (from torch>=1.0.0->pytorch-transformers) (11.10.3.66)\n",
      "Requirement already satisfied: nvidia-cuda-nvrtc-cu11==11.7.99 in /usr/local/lib/python3.9/dist-packages (from torch>=1.0.0->pytorch-transformers) (11.7.99)\n",
      "Requirement already satisfied: setuptools in /usr/lib/python3/dist-packages (from nvidia-cublas-cu11==11.10.3.66->torch>=1.0.0->pytorch-transformers) (45.2.0)\n",
      "Requirement already satisfied: wheel in /usr/lib/python3/dist-packages (from nvidia-cublas-cu11==11.10.3.66->torch>=1.0.0->pytorch-transformers) (0.34.2)\n",
      "Requirement already satisfied: botocore<1.30.0,>=1.29.142 in /usr/local/lib/python3.9/dist-packages (from boto3->pytorch-transformers) (1.29.142)\n",
      "Requirement already satisfied: jmespath<2.0.0,>=0.7.1 in /usr/local/lib/python3.9/dist-packages (from boto3->pytorch-transformers) (1.0.1)\n",
      "Requirement already satisfied: s3transfer<0.7.0,>=0.6.0 in /usr/local/lib/python3.9/dist-packages (from boto3->pytorch-transformers) (0.6.1)\n",
      "Requirement already satisfied: charset-normalizer<4,>=2 in /usr/local/lib/python3.9/dist-packages (from requests->pytorch-transformers) (3.1.0)\n",
      "Requirement already satisfied: idna<4,>=2.5 in /usr/lib/python3/dist-packages (from requests->pytorch-transformers) (2.8)\n",
      "Requirement already satisfied: urllib3<1.27,>=1.21.1 in /usr/local/lib/python3.9/dist-packages (from requests->pytorch-transformers) (1.26.15)\n",
      "Requirement already satisfied: certifi>=2017.4.17 in /usr/lib/python3/dist-packages (from requests->pytorch-transformers) (2019.11.28)\n",
      "Requirement already satisfied: click in /usr/local/lib/python3.9/dist-packages (from sacremoses->pytorch-transformers) (8.1.3)\n",
      "Requirement already satisfied: joblib in /usr/local/lib/python3.9/dist-packages (from sacremoses->pytorch-transformers) (1.2.0)\n",
      "Requirement already satisfied: six in /usr/lib/python3/dist-packages (from sacremoses->pytorch-transformers) (1.14.0)\n",
      "Requirement already satisfied: python-dateutil<3.0.0,>=2.1 in /usr/local/lib/python3.9/dist-packages (from botocore<1.30.0,>=1.29.142->boto3->pytorch-transformers) (2.8.2)\n",
      "\u001b[33mDEPRECATION: distro-info 0.23ubuntu1 has a non-standard version number. pip 23.3 will enforce this behaviour change. A possible replacement is to upgrade to a newer version of distro-info or contact the author to suggest that they release a version with a conforming version number. Discussion can be found at https://github.com/pypa/pip/issues/12063\u001b[0m\u001b[33m\n",
      "\u001b[0m\u001b[33mWARNING: Running pip as the 'root' user can result in broken permissions and conflicting behaviour with the system package manager. It is recommended to use a virtual environment instead: https://pip.pypa.io/warnings/venv\u001b[0m\u001b[33m\n",
      "\u001b[0mNote: you may need to restart the kernel to use updated packages.\n"
     ]
    }
   ],
   "source": [
    "pip install pytorch-transformers"
   ]
  },
  {
   "cell_type": "code",
   "execution_count": 3,
   "id": "714ea3c2-0baf-4448-a9aa-9147363e94b2",
   "metadata": {
    "tags": []
   },
   "outputs": [
    {
     "name": "stdout",
     "output_type": "stream",
     "text": [
      "Looking in indexes: https://pypi.org/simple, https://pypi.ngc.nvidia.com\n",
      "Requirement already satisfied: transformers in /usr/local/lib/python3.9/dist-packages (4.28.0.dev0)\n",
      "Requirement already satisfied: filelock in /usr/local/lib/python3.9/dist-packages (from transformers) (3.12.0)\n",
      "Requirement already satisfied: huggingface-hub<1.0,>=0.11.0 in /usr/local/lib/python3.9/dist-packages (from transformers) (0.13.3)\n",
      "Requirement already satisfied: numpy>=1.17 in /usr/local/lib/python3.9/dist-packages (from transformers) (1.24.3)\n",
      "Requirement already satisfied: packaging>=20.0 in /usr/local/lib/python3.9/dist-packages (from transformers) (23.0)\n",
      "Requirement already satisfied: pyyaml>=5.1 in /usr/local/lib/python3.9/dist-packages (from transformers) (6.0)\n",
      "Requirement already satisfied: regex!=2019.12.17 in /usr/local/lib/python3.9/dist-packages (from transformers) (2023.3.23)\n",
      "Requirement already satisfied: requests in /usr/local/lib/python3.9/dist-packages (from transformers) (2.28.2)\n",
      "Requirement already satisfied: tokenizers!=0.11.3,<0.14,>=0.11.1 in /usr/local/lib/python3.9/dist-packages (from transformers) (0.13.2)\n",
      "Requirement already satisfied: tqdm>=4.27 in /usr/local/lib/python3.9/dist-packages (from transformers) (4.65.0)\n",
      "Requirement already satisfied: typing-extensions>=3.7.4.3 in /usr/local/lib/python3.9/dist-packages (from huggingface-hub<1.0,>=0.11.0->transformers) (4.5.0)\n",
      "Requirement already satisfied: charset-normalizer<4,>=2 in /usr/local/lib/python3.9/dist-packages (from requests->transformers) (3.1.0)\n",
      "Requirement already satisfied: idna<4,>=2.5 in /usr/lib/python3/dist-packages (from requests->transformers) (2.8)\n",
      "Requirement already satisfied: urllib3<1.27,>=1.21.1 in /usr/local/lib/python3.9/dist-packages (from requests->transformers) (1.26.15)\n",
      "Requirement already satisfied: certifi>=2017.4.17 in /usr/lib/python3/dist-packages (from requests->transformers) (2019.11.28)\n",
      "\u001b[33mDEPRECATION: distro-info 0.23ubuntu1 has a non-standard version number. pip 23.3 will enforce this behaviour change. A possible replacement is to upgrade to a newer version of distro-info or contact the author to suggest that they release a version with a conforming version number. Discussion can be found at https://github.com/pypa/pip/issues/12063\u001b[0m\u001b[33m\n",
      "\u001b[0m\u001b[33mWARNING: Running pip as the 'root' user can result in broken permissions and conflicting behaviour with the system package manager. It is recommended to use a virtual environment instead: https://pip.pypa.io/warnings/venv\u001b[0m\u001b[33m\n",
      "\u001b[0mNote: you may need to restart the kernel to use updated packages.\n"
     ]
    }
   ],
   "source": [
    "pip install transformers"
   ]
  },
  {
   "cell_type": "markdown",
   "id": "07d3a788-b1d5-45a6-93d2-40991988c27a",
   "metadata": {
    "tags": []
   },
   "source": [
    "# Import module"
   ]
  },
  {
   "cell_type": "code",
   "execution_count": 2,
   "id": "1953b200-95fa-4cbb-99c8-bdabbc1fad3b",
   "metadata": {
    "tags": []
   },
   "outputs": [
    {
     "name": "stderr",
     "output_type": "stream",
     "text": [
      "[nltk_data] Downloading package punkt to /root/nltk_data...\n",
      "[nltk_data]   Package punkt is already up-to-date!\n",
      "[nltk_data] Downloading package wordnet to /root/nltk_data...\n",
      "[nltk_data]   Package wordnet is already up-to-date!\n",
      "[nltk_data] Downloading package stopwords to /root/nltk_data...\n",
      "[nltk_data]   Package stopwords is already up-to-date!\n"
     ]
    }
   ],
   "source": [
    "import torch\n",
    "from torch.utils.data import TensorDataset, DataLoader, RandomSampler, SequentialSampler\n",
    "from keras_preprocessing.sequence import pad_sequences\n",
    "from sklearn.model_selection import train_test_split\n",
    "from sklearn.metrics import accuracy_score, precision_score, recall_score, f1_score, roc_curve, auc, roc_auc_score, RocCurveDisplay, confusion_matrix, ConfusionMatrixDisplay\n",
    "import preprocessor as p\n",
    "\n",
    "from transformers import DebertaTokenizer, DebertaModel, DebertaForSequenceClassification\n",
    "import nltk\n",
    "nltk.download('punkt')\n",
    "nltk.download('wordnet')\n",
    "nltk.download('stopwords')\n",
    "from nltk.stem import WordNetLemmatizer\n",
    "from nltk.stem.porter import PorterStemmer\n",
    "from nltk.corpus import stopwords\n",
    "stop_words = set(stopwords.words('english'))\n",
    "\n",
    "from tqdm import tqdm, trange\n",
    "import pandas as pd\n",
    "import io\n",
    "import numpy as np\n",
    "import matplotlib.pyplot as plt\n",
    "%matplotlib inline"
   ]
  },
  {
   "cell_type": "code",
   "execution_count": 3,
   "id": "14cc471c-30de-4a09-843c-9e103d51fe4a",
   "metadata": {
    "tags": []
   },
   "outputs": [
    {
     "data": {
      "text/plain": [
       "'NVIDIA RTX A5000'"
      ]
     },
     "execution_count": 3,
     "metadata": {},
     "output_type": "execute_result"
    }
   ],
   "source": [
    "device = torch.device(\"cuda\" if torch.cuda.is_available() else \"cpu\")\n",
    "n_gpu = torch.cuda.device_count()\n",
    "torch.cuda.get_device_name(0)"
   ]
  },
  {
   "cell_type": "code",
   "execution_count": 4,
   "id": "d582934b-e81f-4a8b-8d01-c16bb6bcd163",
   "metadata": {
    "tags": []
   },
   "outputs": [],
   "source": [
    "MAX_LEN = 256"
   ]
  },
  {
   "cell_type": "markdown",
   "id": "987b4b5d-684a-4866-b779-05c62df125ac",
   "metadata": {
    "jp-MarkdownHeadingCollapsed": true,
    "tags": []
   },
   "source": [
    "# Load data & preprocessing"
   ]
  },
  {
   "cell_type": "code",
   "execution_count": 5,
   "id": "a248809a-90f8-4aef-9533-8e3e593233e6",
   "metadata": {
    "tags": []
   },
   "outputs": [
    {
     "name": "stdout",
     "output_type": "stream",
     "text": [
      "Total shape : (2927, 3)\n",
      "Label distribution : \n",
      "\t0:566\n",
      "\t1:2361\n",
      "Split shape :  (2341, 3) (293, 3) (293, 3)\n"
     ]
    }
   ],
   "source": [
    "#long_covid\n",
    "df = pd.read_csv('long_covid1003_unique.csv', encoding= 'unicode_escape')\n",
    "print(f'Total shape : {df.shape}\\nLabel distribution : \\n\\t0:{df.shape[0]-df.label.values.sum()}\\n\\t1:{df.label.values.sum()}')\n",
    "df, val_df = train_test_split(df, test_size = 0.2, stratify = df.label, random_state = 42 )\n",
    "val_df, test_df = train_test_split(val_df, test_size = 0.5, stratify = val_df.label, random_state = 42 )\n",
    "print('Split shape : ',df.shape, val_df.shape, test_df.shape)"
   ]
  },
  {
   "cell_type": "code",
   "execution_count": 6,
   "id": "e1b1f269-cca6-44df-809c-3669161ab007",
   "metadata": {
    "tags": []
   },
   "outputs": [
    {
     "data": {
      "text/plain": [
       "1888"
      ]
     },
     "execution_count": 6,
     "metadata": {},
     "output_type": "execute_result"
    }
   ],
   "source": [
    "df.label.values.sum()"
   ]
  },
  {
   "cell_type": "code",
   "execution_count": 7,
   "id": "2ccce5c3-94a9-470d-bfce-619670777c01",
   "metadata": {
    "tags": []
   },
   "outputs": [],
   "source": [
    "#df.tweet.values"
   ]
  },
  {
   "cell_type": "code",
   "execution_count": 8,
   "id": "8faa4a0c-fc1d-447a-9cde-1b688f43de92",
   "metadata": {
    "tags": []
   },
   "outputs": [],
   "source": [
    "wordnet_lemmatizer = WordNetLemmatizer()\n",
    "porter_stemmer  = PorterStemmer()"
   ]
  },
  {
   "cell_type": "code",
   "execution_count": 9,
   "id": "e6e00ff4-ba1a-4bdf-8a93-441e132a7772",
   "metadata": {
    "tags": []
   },
   "outputs": [],
   "source": [
    "p.set_options(p.OPT.URL, p.OPT.EMOJI)\n",
    "\n",
    "def preprocess(row, lemmatizer, stemmer):\n",
    "    text = row['tweet']\n",
    "    # text = text.strip('\\xa0')\n",
    "    text = p.clean(text)\n",
    "    tokenization = nltk.word_tokenize(text)     \n",
    "    tokenization = [w for w in tokenization if not w in stop_words]\n",
    "    #   text = ' '.join([porter_stemmer.stem(w) for w in tokenization])\n",
    "    #   text = ' '.join([lemmatizer.lemmatize(w) for w in tokenization])\n",
    "    # text = re.sub(r'\\([0-9]+\\)', '', text).strip()    \n",
    "    return text"
   ]
  },
  {
   "cell_type": "code",
   "execution_count": 10,
   "id": "8c4dfe63-de3a-4c33-9282-f820f32a602c",
   "metadata": {
    "tags": []
   },
   "outputs": [],
   "source": [
    "df['tweet'] = df.apply(lambda x: preprocess(x, wordnet_lemmatizer, porter_stemmer), 1)\n",
    "val_df['tweet'] = val_df.apply(lambda x: preprocess(x, wordnet_lemmatizer, porter_stemmer), 1)\n",
    "test_df['tweet'] = test_df.apply(lambda x: preprocess(x, wordnet_lemmatizer, porter_stemmer), 1)"
   ]
  },
  {
   "cell_type": "code",
   "execution_count": 11,
   "id": "facda6d4-4034-4b99-bf40-4c5049054889",
   "metadata": {
    "tags": []
   },
   "outputs": [],
   "source": [
    "train_sentences = df.tweet.values\n",
    "val_sentences = val_df.tweet.values\n",
    "test_sentences = test_df.tweet.values\n",
    "\n",
    "train_labels = df.label.values\n",
    "val_labels = val_df.label.values\n",
    "test_labels = test_df.label.values\n",
    "#print(train_sentences)"
   ]
  },
  {
   "cell_type": "markdown",
   "id": "96dfa8b2-9eb4-4059-af47-f1964792da5f",
   "metadata": {
    "tags": []
   },
   "source": [
    "# DeBerta"
   ]
  },
  {
   "cell_type": "code",
   "execution_count": 20,
   "id": "6a5dfa2c-6343-4606-a7e1-0793cc4448d3",
   "metadata": {
    "tags": []
   },
   "outputs": [],
   "source": [
    "tokenizer = DebertaTokenizer.from_pretrained('microsoft/deberta-base', do_lower_case=False)\n",
    "#tokenizer = DebertaTokenizer.from_pretrained('microsoft/deberta-base', do_lower_case=True)"
   ]
  },
  {
   "cell_type": "code",
   "execution_count": 14,
   "id": "662d004c-443b-47c3-b57c-f017ca5d6e55",
   "metadata": {
    "tags": []
   },
   "outputs": [],
   "source": [
    "def Encode_TextWithAttention(sentence,tokenizer,maxlen,padding_type='max_length',attention_mask_flag=True):\n",
    "    encoded_dict = tokenizer.encode_plus(sentence, add_special_tokens=True, max_length=maxlen, truncation=True, padding=padding_type, return_attention_mask=attention_mask_flag)\n",
    "    return encoded_dict['input_ids'],encoded_dict['attention_mask']\n",
    "\n",
    "def Encode_TextWithoutAttention(sentence,tokenizer,maxlen,padding_type='max_length',attention_mask_flag=False):\n",
    "    encoded_dict = tokenizer.encode_plus(sentence, add_special_tokens=True, max_length=maxlen, truncation=True, padding=padding_type, return_attention_mask=attention_mask_flag)\n",
    "    return encoded_dict['input_ids']\n",
    "\n",
    "def get_TokenizedTextWithAttentionMask(sentenceList, tokenizer):\n",
    "    token_ids_list,attention_mask_list = [],[]\n",
    "    for sentence in sentenceList:\n",
    "        token_ids,attention_mask = Encode_TextWithAttention(sentence,tokenizer,MAX_LEN)\n",
    "        token_ids_list.append(token_ids)\n",
    "        attention_mask_list.append(attention_mask)\n",
    "    return token_ids_list,attention_mask_list\n",
    "\n",
    "def get_TokenizedText(sentenceList, tokenizer):\n",
    "    token_ids_list = []\n",
    "    for sentence in sentenceList:\n",
    "        token_ids = Encode_TextWithoutAttention(sentence,tokenizer,MAX_LEN)\n",
    "        token_ids_list.append(token_ids)\n",
    "    return token_ids_list"
   ]
  },
  {
   "cell_type": "code",
   "execution_count": 15,
   "id": "870830e1-23af-40f1-be4d-3a3dd163fb30",
   "metadata": {
    "tags": []
   },
   "outputs": [],
   "source": [
    "train_token_ids,train_attention_masks = torch.tensor(get_TokenizedTextWithAttentionMask(train_sentences,tokenizer))\n",
    "val_token_ids,val_attention_masks = torch.tensor(get_TokenizedTextWithAttentionMask(val_sentences,tokenizer))\n",
    "test_token_ids,test_attention_masks = torch.tensor(get_TokenizedTextWithAttentionMask(test_sentences,tokenizer))\n",
    "\n",
    "train_labels = torch.tensor(train_labels)\n",
    "val_labels = torch.tensor(val_labels)\n",
    "test_labels = torch.tensor(test_labels)"
   ]
  },
  {
   "cell_type": "code",
   "execution_count": 16,
   "id": "f34101e5-f70c-4f17-b457-6241612577dd",
   "metadata": {
    "tags": []
   },
   "outputs": [
    {
     "name": "stdout",
     "output_type": "stream",
     "text": [
      "Train token ids:\n",
      " tensor([    1,  6968,   769,  9161,     7,     5,  9240,  4488,  6793,   114,\n",
      "           47,  2584,   198,    10, 17126, 26144,     9,   514,     7,  4076,\n",
      "          148,     5,   183,    11,  1692,   334,     2,     0,     0,     0,\n",
      "            0,     0,     0,     0,     0,     0,     0,     0,     0,     0,\n",
      "            0,     0,     0,     0,     0,     0,     0,     0,     0,     0,\n",
      "            0,     0,     0,     0,     0,     0,     0,     0,     0,     0,\n",
      "            0,     0,     0,     0,     0,     0,     0,     0,     0,     0,\n",
      "            0,     0,     0,     0,     0,     0,     0,     0,     0,     0,\n",
      "            0,     0,     0,     0,     0,     0,     0,     0,     0,     0,\n",
      "            0,     0,     0,     0,     0,     0,     0,     0,     0,     0,\n",
      "            0,     0,     0,     0,     0,     0,     0,     0,     0,     0,\n",
      "            0,     0,     0,     0,     0,     0,     0,     0,     0,     0,\n",
      "            0,     0,     0,     0,     0,     0,     0,     0,     0,     0,\n",
      "            0,     0,     0,     0,     0,     0,     0,     0,     0,     0,\n",
      "            0,     0,     0,     0,     0,     0,     0,     0,     0,     0,\n",
      "            0,     0,     0,     0,     0,     0,     0,     0,     0,     0,\n",
      "            0,     0,     0,     0,     0,     0,     0,     0,     0,     0,\n",
      "            0,     0,     0,     0,     0,     0,     0,     0,     0,     0,\n",
      "            0,     0,     0,     0,     0,     0,     0,     0,     0,     0,\n",
      "            0,     0,     0,     0,     0,     0,     0,     0,     0,     0,\n",
      "            0,     0,     0,     0,     0,     0,     0,     0,     0,     0,\n",
      "            0,     0,     0,     0,     0,     0,     0,     0,     0,     0,\n",
      "            0,     0,     0,     0,     0,     0,     0,     0,     0,     0,\n",
      "            0,     0,     0,     0,     0,     0,     0,     0,     0,     0,\n",
      "            0,     0,     0,     0,     0,     0,     0,     0,     0,     0,\n",
      "            0,     0,     0,     0,     0,     0])\n",
      "Train attention masks:\n",
      " tensor([1, 1, 1, 1, 1, 1, 1, 1, 1, 1, 1, 1, 1, 1, 1, 1, 1, 1, 1, 1, 1, 1, 1, 1,\n",
      "        1, 1, 1, 0, 0, 0, 0, 0, 0, 0, 0, 0, 0, 0, 0, 0, 0, 0, 0, 0, 0, 0, 0, 0,\n",
      "        0, 0, 0, 0, 0, 0, 0, 0, 0, 0, 0, 0, 0, 0, 0, 0, 0, 0, 0, 0, 0, 0, 0, 0,\n",
      "        0, 0, 0, 0, 0, 0, 0, 0, 0, 0, 0, 0, 0, 0, 0, 0, 0, 0, 0, 0, 0, 0, 0, 0,\n",
      "        0, 0, 0, 0, 0, 0, 0, 0, 0, 0, 0, 0, 0, 0, 0, 0, 0, 0, 0, 0, 0, 0, 0, 0,\n",
      "        0, 0, 0, 0, 0, 0, 0, 0, 0, 0, 0, 0, 0, 0, 0, 0, 0, 0, 0, 0, 0, 0, 0, 0,\n",
      "        0, 0, 0, 0, 0, 0, 0, 0, 0, 0, 0, 0, 0, 0, 0, 0, 0, 0, 0, 0, 0, 0, 0, 0,\n",
      "        0, 0, 0, 0, 0, 0, 0, 0, 0, 0, 0, 0, 0, 0, 0, 0, 0, 0, 0, 0, 0, 0, 0, 0,\n",
      "        0, 0, 0, 0, 0, 0, 0, 0, 0, 0, 0, 0, 0, 0, 0, 0, 0, 0, 0, 0, 0, 0, 0, 0,\n",
      "        0, 0, 0, 0, 0, 0, 0, 0, 0, 0, 0, 0, 0, 0, 0, 0, 0, 0, 0, 0, 0, 0, 0, 0,\n",
      "        0, 0, 0, 0, 0, 0, 0, 0, 0, 0, 0, 0, 0, 0, 0, 0])\n"
     ]
    }
   ],
   "source": [
    "print('Train token ids:\\n',train_token_ids[0])\n",
    "print('Train attention masks:\\n', train_attention_masks[0])"
   ]
  },
  {
   "cell_type": "code",
   "execution_count": 17,
   "id": "db739442-b710-49b5-a171-bb56eb28f510",
   "metadata": {
    "tags": []
   },
   "outputs": [],
   "source": [
    "batch_size = 32\n",
    "\n",
    "train_data = TensorDataset(train_token_ids, train_attention_masks, train_labels)\n",
    "train_sampler = RandomSampler(train_data)\n",
    "train_dataloader = DataLoader(train_data, sampler=train_sampler, batch_size=batch_size)\n",
    "\n",
    "validation_data = TensorDataset(val_token_ids, val_attention_masks, val_labels)\n",
    "validation_sampler = SequentialSampler(validation_data)\n",
    "validation_dataloader = DataLoader(validation_data, sampler=validation_sampler, batch_size=batch_size)\n",
    "\n",
    "test_data = TensorDataset(test_token_ids, test_attention_masks, test_labels)\n",
    "test_sampler = SequentialSampler(test_data)\n",
    "test_dataloader = DataLoader(test_data, sampler=test_sampler, batch_size=batch_size)"
   ]
  },
  {
   "cell_type": "code",
   "execution_count": 3,
   "id": "2c5f01b5-1d8b-4155-9bdb-0e86c3966cd4",
   "metadata": {
    "tags": []
   },
   "outputs": [
    {
     "name": "stderr",
     "output_type": "stream",
     "text": [
      "Some weights of the model checkpoint at microsoft/deberta-base were not used when initializing DebertaForSequenceClassification: ['lm_predictions.lm_head.bias', 'lm_predictions.lm_head.LayerNorm.bias', 'lm_predictions.lm_head.dense.weight', 'lm_predictions.lm_head.dense.bias', 'lm_predictions.lm_head.LayerNorm.weight']\n",
      "- This IS expected if you are initializing DebertaForSequenceClassification from the checkpoint of a model trained on another task or with another architecture (e.g. initializing a BertForSequenceClassification model from a BertForPreTraining model).\n",
      "- This IS NOT expected if you are initializing DebertaForSequenceClassification from the checkpoint of a model that you expect to be exactly identical (initializing a BertForSequenceClassification model from a BertForSequenceClassification model).\n",
      "Some weights of DebertaForSequenceClassification were not initialized from the model checkpoint at microsoft/deberta-base and are newly initialized: ['classifier.weight', 'classifier.bias', 'pooler.dense.bias', 'pooler.dense.weight']\n",
      "You should probably TRAIN this model on a down-stream task to be able to use it for predictions and inference.\n"
     ]
    }
   ],
   "source": [
    "#load model\n",
    "model = DebertaForSequenceClassification.from_pretrained(\"microsoft/deberta-base\", num_labels=2).cuda()\n",
    "epochs = 20\n",
    "#setting parameters of optimizer\n",
    "param_optimizer = list(model.named_parameters())\n",
    "no_decay = ['bias', 'gamma', 'beta']\n",
    "optimizer_grouped_parameters = [\n",
    "    {'params': [p for n, p in param_optimizer if not any(nd in n for nd in no_decay)],\n",
    "     'weight_decay_rate': 0.01},\n",
    "    {'params': [p for n, p in param_optimizer if any(nd in n for nd in no_decay)],\n",
    "     'weight_decay_rate': 0.0}\n",
    "]\n",
    "\n",
    "#load optimizer\n",
    "optimizer = torch.optim.AdamW(optimizer_grouped_parameters, lr=2e-5)\n"
   ]
  },
  {
   "cell_type": "code",
   "execution_count": 4,
   "id": "e64bd0e7-9995-4817-84cf-f73d026c362d",
   "metadata": {
    "tags": []
   },
   "outputs": [
    {
     "name": "stdout",
     "output_type": "stream",
     "text": [
      "Number of parameter:139193858\n",
      " and each layer is:[38603520, 768, 768, 768, 768, 1769472, 589824, 589824, 768, 589824, 768, 768, 768, 2359296, 3072, 2359296, 768, 768, 768, 768, 768, 1769472, 589824, 589824, 768, 589824, 768, 768, 768, 2359296, 3072, 2359296, 768, 768, 768, 768, 768, 1769472, 589824, 589824, 768, 589824, 768, 768, 768, 2359296, 3072, 2359296, 768, 768, 768, 768, 768, 1769472, 589824, 589824, 768, 589824, 768, 768, 768, 2359296, 3072, 2359296, 768, 768, 768, 768, 768, 1769472, 589824, 589824, 768, 589824, 768, 768, 768, 2359296, 3072, 2359296, 768, 768, 768, 768, 768, 1769472, 589824, 589824, 768, 589824, 768, 768, 768, 2359296, 3072, 2359296, 768, 768, 768, 768, 768, 1769472, 589824, 589824, 768, 589824, 768, 768, 768, 2359296, 3072, 2359296, 768, 768, 768, 768, 768, 1769472, 589824, 589824, 768, 589824, 768, 768, 768, 2359296, 3072, 2359296, 768, 768, 768, 768, 768, 1769472, 589824, 589824, 768, 589824, 768, 768, 768, 2359296, 3072, 2359296, 768, 768, 768, 768, 768, 1769472, 589824, 589824, 768, 589824, 768, 768, 768, 2359296, 3072, 2359296, 768, 768, 768, 768, 768, 1769472, 589824, 589824, 768, 589824, 768, 768, 768, 2359296, 3072, 2359296, 768, 768, 768, 768, 768, 1769472, 589824, 589824, 768, 589824, 768, 768, 768, 2359296, 3072, 2359296, 768, 768, 768, 786432, 589824, 768, 1536, 2]\n"
     ]
    }
   ],
   "source": [
    "total = [param.nelement() for param in model.parameters()]\n",
    "print(f\"Number of parameter:{sum(total)}\\n and each layer is:{total}\")"
   ]
  },
  {
   "cell_type": "code",
   "execution_count": 67,
   "id": "570f7a7a-75fa-4265-82b6-4917a8cad0e6",
   "metadata": {
    "tags": []
   },
   "outputs": [],
   "source": [
    "#learning rate scheduler(decay)\n",
    "# 指數下降\n",
    "scheduler = torch.optim.lr_scheduler.ExponentialLR(optimizer, gamma=0.8)\n",
    "\n",
    "# # warm up \n",
    "# # 總訓練步數是批次數乘以Epoch數\n",
    "# total_steps = len(train_dataloader) * epochs\n",
    "# scheduler = get_linear_schedule_with_warmup(optimizer, \n",
    "#                                             num_warmup_steps = total_steps*0.2, # 預熱步數，也可以設定為總步數的一部分，如total_steps*0.1\n",
    "#                                             num_training_steps = total_steps)\n"
   ]
  },
  {
   "cell_type": "code",
   "execution_count": 25,
   "id": "cf2551f4-04ac-4a07-9b65-0ace2303d8f8",
   "metadata": {
    "tags": []
   },
   "outputs": [],
   "source": [
    "#define accuracy\n",
    "def flat_accuracy(preds, labels):\n",
    "    pred_flat = np.argmax(preds, axis=1).flatten()\n",
    "    labels_flat = labels.flatten()\n",
    "    return np.sum(pred_flat == labels_flat) / len(labels_flat)\n",
    "\n",
    "#define precision_Score\n",
    "def flat_precision(preds, labels):\n",
    "    pred_flat = np.argmax(preds, axis=1).flatten()\n",
    "    labels_flat = labels.flatten()\n",
    "    return precision_score(labels_flat, pred_flat)\n",
    "\n",
    "#define recall_Score\n",
    "def flat_recall(preds, labels):\n",
    "    pred_flat = np.argmax(preds, axis=1).flatten()\n",
    "    labels_flat = labels.flatten()\n",
    "    return recall_score(labels_flat, pred_flat)\n",
    "\n",
    "#define f1_Score\n",
    "def flat_f1(preds, labels):\n",
    "    pred_flat = np.argmax(preds, axis=1).flatten()\n",
    "    labels_flat = labels.flatten()\n",
    "    return f1_score(labels_flat, pred_flat)\n",
    "\n",
    "def softmax(x):\n",
    "    \"\"\"Compute softmax values for each sets of scores in x.\"\"\"\n",
    "    e_x = np.exp(x - np.max(x, axis=1, keepdims=True))\n",
    "    return e_x / e_x.sum(axis=1, keepdims=True)\n",
    "\n",
    "#define roc_auc\n",
    "def flat_roc_auc(preds, labels):\n",
    "    labels_flat = labels.flatten()\n",
    "    fpr, tpr, thresholds = roc_curve(labels_flat, preds)\n",
    "    roc_auc = auc(fpr, tpr)\n",
    "    return roc_auc\n",
    "    #return roc_auc_score(labels_flat, pred_probs)\n",
    "#Confusion matrix\n",
    "def plot_confusion_matrix(preds, labels):\n",
    "    pred_flat = np.argmax(preds, axis=1).flatten()\n",
    "    labels_flat = labels.flatten()\n",
    "    cm = confusion_matrix(labels_flat, pred_flat)\n",
    "    cm_display = ConfusionMatrixDisplay(cm).plot(cmap='YlOrBr_r')"
   ]
  },
  {
   "cell_type": "code",
   "execution_count": 19,
   "id": "02b2fbc3-f946-4f04-8ad1-9df86a284b98",
   "metadata": {
    "tags": []
   },
   "outputs": [
    {
     "name": "stderr",
     "output_type": "stream",
     "text": [
      "Epoch:   0%|          | 0/20 [00:00<?, ?it/s]"
     ]
    },
    {
     "name": "stdout",
     "output_type": "stream",
     "text": [
      "Validation loss: 0.024454969510033325\n",
      "Validation Accuracy: 0.928125\n",
      "Validation F1_score: 0.9563763688119931\n",
      "Validation AUC: 0.9655284623027314\n"
     ]
    },
    {
     "name": "stderr",
     "output_type": "stream",
     "text": [
      "Epoch:   5%|▌         | 1/20 [00:30<09:35, 30.29s/it]"
     ]
    },
    {
     "name": "stdout",
     "output_type": "stream",
     "text": [
      "Model Saved\n",
      "Validation loss: 0.023315572859467688\n",
      "Validation Accuracy: 0.9375\n",
      "Validation F1_score: 0.9618771790136658\n",
      "Validation AUC: 0.9543794813139828\n"
     ]
    },
    {
     "name": "stderr",
     "output_type": "stream",
     "text": [
      "Epoch:  10%|█         | 2/20 [01:00<09:07, 30.39s/it]"
     ]
    },
    {
     "name": "stdout",
     "output_type": "stream",
     "text": [
      "Model Saved\n",
      "Validation loss: 0.021413046803728148\n",
      "Validation Accuracy: 0.94375\n",
      "Validation F1_score: 0.9641204638187301\n",
      "Validation AUC: 0.9757081378038087\n"
     ]
    },
    {
     "name": "stderr",
     "output_type": "stream",
     "text": [
      "Epoch:  15%|█▌        | 3/20 [01:31<08:38, 30.50s/it]"
     ]
    },
    {
     "name": "stdout",
     "output_type": "stream",
     "text": [
      "Model Saved\n"
     ]
    },
    {
     "name": "stderr",
     "output_type": "stream",
     "text": [
      "Epoch:  20%|██        | 4/20 [02:01<08:06, 30.40s/it]"
     ]
    },
    {
     "name": "stdout",
     "output_type": "stream",
     "text": [
      "Validation loss: 0.02966103535711866\n",
      "Validation Accuracy: 0.9375\n",
      "Validation F1_score: 0.9612386837476755\n",
      "Validation AUC: 0.9593375738489118\n",
      "Validation loss: 0.027033305393431236\n",
      "Validation Accuracy: 0.953125\n",
      "Validation F1_score: 0.9709934362774281\n",
      "Validation AUC: 0.9655404555048482\n"
     ]
    },
    {
     "name": "stderr",
     "output_type": "stream",
     "text": [
      "Epoch:  25%|██▌       | 5/20 [02:32<07:38, 30.57s/it]"
     ]
    },
    {
     "name": "stdout",
     "output_type": "stream",
     "text": [
      "Model Saved\n"
     ]
    },
    {
     "name": "stderr",
     "output_type": "stream",
     "text": [
      "Epoch:  30%|███       | 6/20 [03:02<07:07, 30.50s/it]"
     ]
    },
    {
     "name": "stdout",
     "output_type": "stream",
     "text": [
      "Validation loss: 0.0410914350587346\n",
      "Validation Accuracy: 0.940625\n",
      "Validation F1_score: 0.9631238400669098\n",
      "Validation AUC: 0.9671534796933035\n"
     ]
    },
    {
     "name": "stderr",
     "output_type": "stream",
     "text": [
      "Epoch:  35%|███▌      | 7/20 [03:33<06:36, 30.47s/it]"
     ]
    },
    {
     "name": "stdout",
     "output_type": "stream",
     "text": [
      "Validation loss: 0.03480648229251037\n",
      "Validation Accuracy: 0.9375\n",
      "Validation F1_score: 0.96082976141413\n",
      "Validation AUC: 0.9641634282446688\n",
      "Validation loss: 0.03306132616873239\n",
      "Validation Accuracy: 0.953125\n",
      "Validation F1_score: 0.9716510677600845\n",
      "Validation AUC: 0.9663484477999095\n"
     ]
    },
    {
     "name": "stderr",
     "output_type": "stream",
     "text": [
      "Epoch:  40%|████      | 8/20 [04:04<06:07, 30.61s/it]"
     ]
    },
    {
     "name": "stdout",
     "output_type": "stream",
     "text": [
      "Model Saved\n"
     ]
    },
    {
     "name": "stderr",
     "output_type": "stream",
     "text": [
      "Epoch:  45%|████▌     | 9/20 [04:34<05:35, 30.52s/it]"
     ]
    },
    {
     "name": "stdout",
     "output_type": "stream",
     "text": [
      "Validation loss: 0.028649663442519267\n",
      "Validation Accuracy: 0.940625\n",
      "Validation F1_score: 0.9624253572748902\n",
      "Validation AUC: 0.9770037829070812\n"
     ]
    },
    {
     "name": "stderr",
     "output_type": "stream",
     "text": [
      "Epoch:  50%|█████     | 10/20 [05:04<05:04, 30.47s/it]"
     ]
    },
    {
     "name": "stdout",
     "output_type": "stream",
     "text": [
      "Validation loss: 0.030733632594166085\n",
      "Validation Accuracy: 0.953125\n",
      "Validation F1_score: 0.9705976788340728\n",
      "Validation AUC: 0.9730687569447877\n"
     ]
    },
    {
     "name": "stderr",
     "output_type": "stream",
     "text": [
      "Epoch:  55%|█████▌    | 11/20 [05:35<04:33, 30.44s/it]"
     ]
    },
    {
     "name": "stdout",
     "output_type": "stream",
     "text": [
      "Validation loss: 0.03770672179716466\n",
      "Validation Accuracy: 0.9375\n",
      "Validation F1_score: 0.9599405894547186\n",
      "Validation AUC: 0.9742973186788777\n"
     ]
    },
    {
     "name": "stderr",
     "output_type": "stream",
     "text": [
      "Epoch:  60%|██████    | 12/20 [06:05<04:03, 30.42s/it]"
     ]
    },
    {
     "name": "stdout",
     "output_type": "stream",
     "text": [
      "Validation loss: 0.05822490856391252\n",
      "Validation Accuracy: 0.90625\n",
      "Validation F1_score: 0.93890898997066\n",
      "Validation AUC: 0.9663778544564714\n"
     ]
    },
    {
     "name": "stderr",
     "output_type": "stream",
     "text": [
      "Epoch:  65%|██████▌   | 13/20 [06:35<03:32, 30.40s/it]"
     ]
    },
    {
     "name": "stdout",
     "output_type": "stream",
     "text": [
      "Validation loss: 0.041138662371825355\n",
      "Validation Accuracy: 0.946875\n",
      "Validation F1_score: 0.966767235258067\n",
      "Validation AUC: 0.955318325841658\n"
     ]
    },
    {
     "name": "stderr",
     "output_type": "stream",
     "text": [
      "Epoch:  70%|███████   | 14/20 [07:06<03:02, 30.39s/it]"
     ]
    },
    {
     "name": "stdout",
     "output_type": "stream",
     "text": [
      "Validation loss: 0.04683027919560806\n",
      "Validation Accuracy: 0.940625\n",
      "Validation F1_score: 0.962726831217663\n",
      "Validation AUC: 0.9509925869254017\n"
     ]
    },
    {
     "name": "stderr",
     "output_type": "stream",
     "text": [
      "Epoch:  75%|███████▌  | 15/20 [07:36<02:31, 30.38s/it]"
     ]
    },
    {
     "name": "stdout",
     "output_type": "stream",
     "text": [
      "Validation loss: 0.04918038004610492\n",
      "Validation Accuracy: 0.940625\n",
      "Validation F1_score: 0.962726831217663\n",
      "Validation AUC: 0.9481729030173558\n"
     ]
    },
    {
     "name": "stderr",
     "output_type": "stream",
     "text": [
      "Epoch:  80%|████████  | 16/20 [08:07<02:01, 30.38s/it]"
     ]
    },
    {
     "name": "stdout",
     "output_type": "stream",
     "text": [
      "Validation loss: 0.0520127443094778\n",
      "Validation Accuracy: 0.940625\n",
      "Validation F1_score: 0.9625045267822621\n",
      "Validation AUC: 0.9452755049901789\n"
     ]
    },
    {
     "name": "stderr",
     "output_type": "stream",
     "text": [
      "Epoch:  85%|████████▌ | 17/20 [08:37<01:31, 30.37s/it]"
     ]
    },
    {
     "name": "stdout",
     "output_type": "stream",
     "text": [
      "Validation loss: 0.055440245760601595\n",
      "Validation Accuracy: 0.940625\n",
      "Validation F1_score: 0.9625045267822621\n",
      "Validation AUC: 0.9457839046365095\n"
     ]
    },
    {
     "name": "stderr",
     "output_type": "stream",
     "text": [
      "Epoch:  90%|█████████ | 18/20 [09:07<01:00, 30.37s/it]"
     ]
    },
    {
     "name": "stdout",
     "output_type": "stream",
     "text": [
      "Validation loss: 0.05649402063957225\n",
      "Validation Accuracy: 0.940625\n",
      "Validation F1_score: 0.9625045267822621\n",
      "Validation AUC: 0.9464249302775352\n"
     ]
    },
    {
     "name": "stderr",
     "output_type": "stream",
     "text": [
      "Epoch:  95%|█████████▌| 19/20 [09:38<00:30, 30.37s/it]"
     ]
    },
    {
     "name": "stdout",
     "output_type": "stream",
     "text": [
      "Validation loss: 0.057066106051491726\n",
      "Validation Accuracy: 0.940625\n",
      "Validation F1_score: 0.9625045267822621\n",
      "Validation AUC: 0.9464249302775352\n"
     ]
    },
    {
     "name": "stderr",
     "output_type": "stream",
     "text": [
      "Epoch: 100%|██████████| 20/20 [10:08<00:00, 30.43s/it]"
     ]
    },
    {
     "name": "stdout",
     "output_type": "stream",
     "text": [
      "Validation loss: 0.06391659767512071\n",
      "Validation Accuracy: 0.928125\n",
      "Validation F1_score: 0.9538447563224114\n",
      "Validation AUC: 0.961983176795302\n"
     ]
    },
    {
     "name": "stderr",
     "output_type": "stream",
     "text": [
      "\n"
     ]
    }
   ],
   "source": [
    "#prepare clean sets to store performance of each epoches\n",
    "train_loss_set = []\n",
    "val_loss_set = []\n",
    "train_acc_set = []\n",
    "val_acc_set = []\n",
    "val_f1_set = []\n",
    "val_auc_set = []\n",
    "best_val_f1_score = 0.90\n",
    "directory_path = ''\n",
    "\n",
    "\n",
    "#training\n",
    "for _ in trange(epochs, desc=\"Epoch\"):\n",
    "    model.train()\n",
    "    tr_loss, train_accuracy = 0, 0\n",
    "    nb_tr_examples, nb_tr_steps = 0, 0\n",
    "  \n",
    "    for step, batch in enumerate(train_dataloader):\n",
    "        batch = tuple(t.to(device) for t in batch)\n",
    "        b_input_ids, b_input_mask, b_labels = batch\n",
    "        optimizer.zero_grad()\n",
    "        outputs = model(b_input_ids, token_type_ids=None, attention_mask=b_input_mask, labels=b_labels)\n",
    "        loss = outputs[0]\n",
    "        logits = outputs[1].cpu().detach().numpy()\n",
    "        label_ids = b_labels.to('cpu').numpy()\n",
    "        \n",
    "        loss.backward()\n",
    "        optimizer.step()\n",
    "        \n",
    "        tr_loss += loss.item()\n",
    "        nb_tr_examples += b_input_ids.size(0)\n",
    "\n",
    "        tmp_train_accuracy = flat_accuracy(logits, label_ids)\n",
    "        train_accuracy += tmp_train_accuracy\n",
    "        nb_tr_steps += 1\n",
    "        \n",
    "# learning rate scheduler        \n",
    "    #     # warm up \n",
    "    #     scheduler.step()\n",
    "    # after_lr = optimizer.param_groups[0][\"lr\"] \n",
    "    \n",
    "# #     # Exponential    \n",
    "#     before_lr = optimizer.param_groups[0][\"lr\"]\n",
    "#     scheduler.step()\n",
    "#     after_lr = optimizer.param_groups[0][\"lr\"]\n",
    "    \n",
    "#     print(\"Epoch %d: AdamW lr %.6f -> %.6f\" % (_, before_lr, after_lr))\n",
    "    \n",
    "    train_acc_set.append(train_accuracy/nb_tr_steps)\n",
    "    train_loss_set.append(tr_loss/nb_tr_steps)\n",
    "    #print(\"Train loss: {}\".format(tr_loss/nb_tr_steps))\n",
    "    \n",
    "#evaluation\n",
    "    model.eval()\n",
    "\n",
    "    val_loss, eval_accuracy, eval_f1_score, eval_roc_auc = 0, 0, 0, 0\n",
    "    nb_eval_steps, nb_eval_examples = 0, 0\n",
    "\n",
    "    for batch in validation_dataloader:\n",
    "        batch = tuple(t.to(device) for t in batch)\n",
    "        b_input_ids, b_input_mask, b_labels = batch\n",
    "        with torch.no_grad():\n",
    "            outputs = model(b_input_ids, token_type_ids=None, attention_mask=b_input_mask, labels=b_labels)\n",
    "            loss = outputs[0]\n",
    "            logits = outputs[1]\n",
    "            \n",
    "        #move outputs to cpu\n",
    "        logits = logits.detach().cpu().numpy()\n",
    "        label_ids = b_labels.to('cpu').numpy()\n",
    "        \n",
    "        #append loss and calculate accuracy\n",
    "        val_loss += loss.item()\n",
    "        tmp_eval_accuracy = flat_accuracy(logits, label_ids)   \n",
    "        \n",
    "        #calculate f1\n",
    "        tmp_f1 = flat_f1(logits, label_ids)\n",
    "        \n",
    "        #calculate auc_roc_score\n",
    "        probs = softmax(logits)[:,1]\n",
    "        tmp_roc_auc = flat_roc_auc(probs, label_ids)\n",
    "        \n",
    "        #summarize metrics from each batch\n",
    "        eval_accuracy += tmp_eval_accuracy\n",
    "        eval_f1_score += tmp_f1\n",
    "        eval_roc_auc += tmp_roc_auc\n",
    "        nb_eval_steps += 1\n",
    "\n",
    "    val_acc_set.append(eval_accuracy/nb_eval_steps)\n",
    "    val_loss_set.append(val_loss/nb_eval_steps)\n",
    "    val_f1_set.append(eval_f1_score/nb_eval_steps)\n",
    "    val_auc_set.append(eval_roc_auc/nb_eval_steps)\n",
    "    print(\"Validation loss: {}\".format(val_loss/nb_tr_steps))\n",
    "    print(\"Validation Accuracy: {}\".format(eval_accuracy/nb_eval_steps))\n",
    "    print(\"Validation F1_score: {}\".format(eval_f1_score/nb_eval_steps))\n",
    "    print(\"Validation AUC: {}\".format(eval_roc_auc/nb_eval_steps))\n",
    "    Validation_F1_score = (eval_f1_score/nb_eval_steps)\n",
    "    if(Validation_F1_score >= best_val_f1_score):\n",
    "        torch.save(model.state_dict(), 'DeBerta_base_best_model.ckpt')\n",
    "        best_val_f1_score = Validation_F1_score\n",
    "        print('Model Saved')"
   ]
  },
  {
   "cell_type": "code",
   "execution_count": 27,
   "id": "e6a5817d-89de-4198-a9b5-118092dc5a21",
   "metadata": {
    "tags": []
   },
   "outputs": [
    {
     "data": {
      "text/plain": [
       "<sklearn.metrics._plot.roc_curve.RocCurveDisplay at 0x7f33c0071820>"
      ]
     },
     "execution_count": 27,
     "metadata": {},
     "output_type": "execute_result"
    },
    {
     "data": {
      "image/png": "[encoded data removed]",
      "text/plain": [
       "<Figure size 640x480 with 1 Axes>"
      ]
     },
     "metadata": {},
     "output_type": "display_data"
    }
   ],
   "source": [
    "RocCurveDisplay.from_predictions(label_ids.flatten(), softmax(logits)[:,1], color='#20BEFF')"
   ]
  },
  {
   "cell_type": "markdown",
   "id": "911e2daa-1090-4c03-aae2-bd2bb40e8995",
   "metadata": {
    "tags": []
   },
   "source": [
    "# Visualization"
   ]
  },
  {
   "cell_type": "code",
   "execution_count": 28,
   "id": "3b21651a-0e16-4e07-b111-c74bc69b10d6",
   "metadata": {
    "tags": []
   },
   "outputs": [
    {
     "data": {
      "text/plain": [
       "<matplotlib.legend.Legend at 0x7f33c00c8e50>"
      ]
     },
     "execution_count": 28,
     "metadata": {},
     "output_type": "execute_result"
    },
    {
     "data": {
      "image/png": "[encoded data removed]",
      "text/plain": [
       "<Figure size 640x480 with 1 Axes>"
      ]
     },
     "metadata": {},
     "output_type": "display_data"
    },
    {
     "data": {
      "image/png": "[encoded data removed]",
      "text/plain": [
       "<Figure size 640x480 with 1 Axes>"
      ]
     },
     "metadata": {},
     "output_type": "display_data"
    }
   ],
   "source": [
    "# Visualize training process\n",
    "\n",
    "plt.figure('LOSS(train/val)')\n",
    "plt.title('LOSS(train/val)')\n",
    "plt.ylabel(\"Loss (training and validation)\")\n",
    "plt.xlabel(\"Training Steps\")\n",
    "plt.ylim([-0.1,2])\n",
    "plt.plot(train_loss_set, label = 'train')\n",
    "plt.plot(val_loss_set, label = 'val')\n",
    "plt.legend()\n",
    "\n",
    "plt.figure('Accuracy(train/val)')\n",
    "plt.title('Accuracy(train/val)')\n",
    "plt.ylabel(\"Accuracy (training and validation)\")\n",
    "plt.xlabel(\"Training Steps\")\n",
    "plt.ylim([0,1.1])\n",
    "plt.plot(train_acc_set, label = 'train')\n",
    "plt.plot(val_acc_set, label = 'val_acc')\n",
    "plt.plot(val_f1_set, label = 'val_f1')\n",
    "plt.legend()"
   ]
  },
  {
   "cell_type": "markdown",
   "id": "53ff5dbe-26ea-4cd2-a3d4-636171f58221",
   "metadata": {
    "tags": []
   },
   "source": [
    "# Evaluation"
   ]
  },
  {
   "cell_type": "code",
   "execution_count": 21,
   "id": "bef5cca5-0697-4869-aac8-b247e80b070f",
   "metadata": {
    "tags": []
   },
   "outputs": [
    {
     "name": "stderr",
     "output_type": "stream",
     "text": [
      "Some weights of the model checkpoint at microsoft/deberta-base were not used when initializing DebertaForSequenceClassification: ['lm_predictions.lm_head.dense.bias', 'lm_predictions.lm_head.dense.weight', 'lm_predictions.lm_head.bias', 'lm_predictions.lm_head.LayerNorm.weight', 'lm_predictions.lm_head.LayerNorm.bias']\n",
      "- This IS expected if you are initializing DebertaForSequenceClassification from the checkpoint of a model trained on another task or with another architecture (e.g. initializing a BertForSequenceClassification model from a BertForPreTraining model).\n",
      "- This IS NOT expected if you are initializing DebertaForSequenceClassification from the checkpoint of a model that you expect to be exactly identical (initializing a BertForSequenceClassification model from a BertForSequenceClassification model).\n",
      "Some weights of DebertaForSequenceClassification were not initialized from the model checkpoint at microsoft/deberta-base and are newly initialized: ['classifier.weight', 'pooler.dense.bias', 'pooler.dense.weight', 'classifier.bias']\n",
      "You should probably TRAIN this model on a down-stream task to be able to use it for predictions and inference.\n"
     ]
    },
    {
     "name": "stdout",
     "output_type": "stream",
     "text": [
      "Test Accuracy: 91.81%\n",
      "Test Precision: 94.17%\n",
      "Test Recall: 95.76%\n",
      "Test F1-score: 94.96%\n",
      "Test AUC: 95.75%\n"
     ]
    }
   ],
   "source": [
    "# 載入模型\n",
    "model = DebertaForSequenceClassification.from_pretrained(\"microsoft/deberta-base\")\n",
    "model.load_state_dict(torch.load('DeBerta_base_best_model_1024.ckpt'))\n",
    "model.to(device)\n",
    "model.eval()\n",
    "\n",
    "\n",
    "# 預測\n",
    "preds = []\n",
    "labels_list = []\n",
    "probs_list = []  # 用於存儲正類概率\n",
    "\n",
    "for batch in test_dataloader:\n",
    "    input_ids, attention_mask, labels_batch = [b.to(device) for b in batch]\n",
    "    \n",
    "    with torch.no_grad():\n",
    "        outputs = model(input_ids, attention_mask=attention_mask)\n",
    "        preds_batch = torch.argmax(outputs.logits, dim=-1).cpu().numpy()\n",
    "        # 從logits取得正類的概率\n",
    "        probs = torch.nn.functional.softmax(outputs.logits, dim=-1)\n",
    "        pos_probs_batch = probs[:, 1].cpu().numpy()\n",
    "        \n",
    "    preds.append(preds_batch)\n",
    "    labels_list.append(labels_batch.cpu().numpy())\n",
    "    probs_list.append(pos_probs_batch)\n",
    "\n",
    "preds = np.concatenate(preds)\n",
    "labels = np.concatenate(labels_list)\n",
    "pos_probs = np.concatenate(probs_list)\n",
    "\n",
    "# 計算準確度\n",
    "accuracy = accuracy_score(labels, preds)\n",
    "precision = precision_score(labels, preds)\n",
    "recall = recall_score(labels, preds)\n",
    "f1 = f1_score(labels, preds)\n",
    "# 使用正類的概率計算AUC\n",
    "test_auc = roc_auc_score(labels, pos_probs)\n",
    "\n",
    "print(f\"Test Accuracy: {accuracy * 100:.2f}%\")\n",
    "print(f\"Test Precision: {precision * 100:.2f}%\")\n",
    "print(f\"Test Recall: {recall * 100:.2f}%\")\n",
    "print(f\"Test F1-score: {f1 * 100:.2f}%\")\n",
    "print(f\"Test AUC: {test_auc * 100:.2f}%\")"
   ]
  },
  {
   "cell_type": "code",
   "execution_count": 22,
   "id": "6e54d4f8-f8dc-456f-b82a-6df36bfed43e",
   "metadata": {},
   "outputs": [
    {
     "data": {
      "image/png": "[encoded data removed]",
      "text/plain": [
       "<Figure size 640x480 with 2 Axes>"
      ]
     },
     "metadata": {},
     "output_type": "display_data"
    }
   ],
   "source": [
    "cm = confusion_matrix(labels, preds)\n",
    "cm_display = ConfusionMatrixDisplay(cm).plot(cmap='YlOrBr_r')"
   ]
  },
  {
   "cell_type": "code",
   "execution_count": null,
   "id": "5a3f3be4-5bd4-4298-b4c5-db869ac09289",
   "metadata": {},
   "outputs": [],
   "source": []
  },
  {
   "cell_type": "code",
   "execution_count": null,
   "id": "72bd6685-ef0e-4149-bb70-bb34330ba0e4",
   "metadata": {},
   "outputs": [],
   "source": []
  },
  {
   "cell_type": "code",
   "execution_count": 23,
   "id": "3b6b2355-f301-4048-a243-677e4d190096",
   "metadata": {},
   "outputs": [
    {
     "name": "stdout",
     "output_type": "stream",
     "text": [
      "acc:93.12, std:0.47\n",
      "precision:94.63, std:1.06\n",
      "recall:96.29, std:1.05\n",
      "f1:95.44, std:0.30\n",
      "auc:97.44, std:0.23\n",
      "time:657.00, std:1.10\n"
     ]
    }
   ],
   "source": [
    "Deberta_ACC = [92.74, 92.74, 93.06, 94.01, 93.06, ]\n",
    "Deberta_PRE = [94.58, 95.34, 93.17, 96.19, 93.88, ]\n",
    "Deberta_REC = [95.78, 94.94, 97.89, 95.78, 97.05, ]\n",
    "Deberta_F1  = [95.18, 95.14, 95.47, 95.98, 95.44, ]\n",
    "Deberta_AUC = [97.11, 97.32, 97.74, 97.67, 97.38]\n",
    "Deberta_TIME = [657, 659, 656, 656, 657]\n",
    "\n",
    "print(f'acc:{sum(Deberta_ACC)/5:.2f}, std:{np.std(Deberta_ACC):.2f}')\n",
    "print(f'precision:{sum(Deberta_PRE)/5:.2f}, std:{np.std(Deberta_PRE):.2f}')\n",
    "print(f'recall:{sum(Deberta_REC)/5:.2f}, std:{np.std(Deberta_REC):.2f}')\n",
    "print(f'f1:{sum(Deberta_F1)/5:.2f}, std:{np.std(Deberta_F1):.2f}')\n",
    "print(f'auc:{sum(Deberta_AUC)/5:.2f}, std:{np.std(Deberta_AUC):.2f}')\n",
    "print(f'time:{sum(Deberta_TIME)/5:.2f}, std:{np.std(Deberta_TIME):.2f}')"
   ]
  },
  {
   "cell_type": "markdown",
   "id": "b7b9904b-0952-40a7-beb2-c2a4fe1050d7",
   "metadata": {},
   "source": [
    "# Inference\n"
   ]
  },
  {
   "cell_type": "code",
   "execution_count": 5,
   "id": "aab8283e-152e-46a8-b0c5-29960033c977",
   "metadata": {
    "tags": []
   },
   "outputs": [
    {
     "name": "stdout",
     "output_type": "stream",
     "text": [
      "Total shape : (293, 3)\n",
      "Label distribution : \n",
      "\t0:57\n",
      "\t1:236\n"
     ]
    }
   ],
   "source": [
    "#long_covid\n",
    "test_df = pd.read_csv('long_covid1003_unique_test.csv', encoding= 'unicode_escape')\n",
    "print(f'Total shape : {test_df.shape}\\nLabel distribution : \\n\\t0:{test_df.shape[0]-test_df.label.values.sum()}\\n\\t1:{test_df.label.values.sum()}')"
   ]
  },
  {
   "cell_type": "code",
   "execution_count": 6,
   "id": "cf7017e5-6fd9-49d5-870e-a52d6af38ec4",
   "metadata": {
    "tags": []
   },
   "outputs": [],
   "source": [
    "test_sentences = test_df.tweet.values\n",
    "\n",
    "test_labels = test_df.label.values\n",
    "#print(test_sentences)"
   ]
  },
  {
   "cell_type": "code",
   "execution_count": 21,
   "id": "1cf21fa4-84ec-417f-ad82-3a249d61087a",
   "metadata": {
    "tags": []
   },
   "outputs": [],
   "source": [
    "tokenizer = DebertaTokenizer.from_pretrained('microsoft/deberta-base', do_lower_case=False)\n",
    "#tokenizer = DebertaTokenizer.from_pretrained('microsoft/deberta-base', do_lower_case=True)"
   ]
  },
  {
   "cell_type": "code",
   "execution_count": 22,
   "id": "a97129f3-7ebf-417d-95db-e3e61af26bd2",
   "metadata": {
    "tags": []
   },
   "outputs": [],
   "source": [
    "def Encode_TextWithAttention(sentence,tokenizer,maxlen,padding_type='max_length',attention_mask_flag=True):\n",
    "    encoded_dict = tokenizer.encode_plus(sentence, add_special_tokens=True, max_length=maxlen, truncation=True, padding=padding_type, return_attention_mask=attention_mask_flag)\n",
    "    return encoded_dict['input_ids'],encoded_dict['attention_mask']\n",
    "\n",
    "def Encode_TextWithoutAttention(sentence,tokenizer,maxlen,padding_type='max_length',attention_mask_flag=False):\n",
    "    encoded_dict = tokenizer.encode_plus(sentence, add_special_tokens=True, max_length=maxlen, truncation=True, padding=padding_type, return_attention_mask=attention_mask_flag)\n",
    "    return encoded_dict['input_ids']\n",
    "\n",
    "def get_TokenizedTextWithAttentionMask(sentenceList, tokenizer):\n",
    "    token_ids_list,attention_mask_list = [],[]\n",
    "    for sentence in sentenceList:\n",
    "        token_ids,attention_mask = Encode_TextWithAttention(sentence,tokenizer,MAX_LEN)\n",
    "        token_ids_list.append(token_ids)\n",
    "        attention_mask_list.append(attention_mask)\n",
    "    return token_ids_list,attention_mask_list\n",
    "\n",
    "def get_TokenizedText(sentenceList, tokenizer):\n",
    "    token_ids_list = []\n",
    "    for sentence in sentenceList:\n",
    "        token_ids = Encode_TextWithoutAttention(sentence,tokenizer,MAX_LEN)\n",
    "        token_ids_list.append(token_ids)\n",
    "    return token_ids_list"
   ]
  },
  {
   "cell_type": "code",
   "execution_count": 23,
   "id": "b1d7b1aa-ce64-4275-9ca2-94b75f15460a",
   "metadata": {
    "tags": []
   },
   "outputs": [],
   "source": [
    "test_token_ids,test_attention_masks = torch.tensor(get_TokenizedTextWithAttentionMask(test_sentences,tokenizer))\n",
    "test_labels = torch.tensor(test_labels)"
   ]
  },
  {
   "cell_type": "code",
   "execution_count": 24,
   "id": "fcdecfd1-ed3e-4f0a-8d35-82146af64cb8",
   "metadata": {
    "tags": []
   },
   "outputs": [],
   "source": [
    "batch_size = 32\n",
    "\n",
    "test_data = TensorDataset(test_token_ids, test_attention_masks, test_labels)\n",
    "test_sampler = SequentialSampler(test_data)\n",
    "test_dataloader = DataLoader(test_data, sampler=test_sampler, batch_size=batch_size)"
   ]
  },
  {
   "cell_type": "code",
   "execution_count": 27,
   "id": "416f6c35-b6e2-413a-b7bf-b003e5b8687c",
   "metadata": {
    "tags": []
   },
   "outputs": [
    {
     "name": "stderr",
     "output_type": "stream",
     "text": [
      "Some weights of the model checkpoint at microsoft/deberta-base were not used when initializing DebertaForSequenceClassification: ['lm_predictions.lm_head.dense.weight', 'lm_predictions.lm_head.LayerNorm.weight', 'lm_predictions.lm_head.LayerNorm.bias', 'lm_predictions.lm_head.bias', 'lm_predictions.lm_head.dense.bias']\n",
      "- This IS expected if you are initializing DebertaForSequenceClassification from the checkpoint of a model trained on another task or with another architecture (e.g. initializing a BertForSequenceClassification model from a BertForPreTraining model).\n",
      "- This IS NOT expected if you are initializing DebertaForSequenceClassification from the checkpoint of a model that you expect to be exactly identical (initializing a BertForSequenceClassification model from a BertForSequenceClassification model).\n",
      "Some weights of DebertaForSequenceClassification were not initialized from the model checkpoint at microsoft/deberta-base and are newly initialized: ['pooler.dense.bias', 'pooler.dense.weight', 'classifier.bias', 'classifier.weight']\n",
      "You should probably TRAIN this model on a down-stream task to be able to use it for predictions and inference.\n"
     ]
    },
    {
     "name": "stdout",
     "output_type": "stream",
     "text": [
      "Test Accuracy: 91.81%\n",
      "Test Precision: 94.17%\n",
      "Test Recall: 95.76%\n",
      "Test F1-score: 94.96%\n",
      "Test AUC: 95.75%\n"
     ]
    }
   ],
   "source": [
    "# 載入模型\n",
    "model = DebertaForSequenceClassification.from_pretrained(\"microsoft/deberta-base\")\n",
    "model.load_state_dict(torch.load('DeBerta_base_best_model_1024.ckpt'))\n",
    "model.to(device)\n",
    "model.eval()\n",
    "\n",
    "\n",
    "# 預測\n",
    "preds = []\n",
    "labels_list = []\n",
    "probs_list = []  # 用於存儲正類概率\n",
    "\n",
    "for batch in test_dataloader:\n",
    "    input_ids, attention_mask, labels_batch = [b.to(device) for b in batch]\n",
    "    \n",
    "    with torch.no_grad():\n",
    "        outputs = model(input_ids, attention_mask=attention_mask)\n",
    "        preds_batch = torch.argmax(outputs.logits, dim=-1).cpu().numpy()\n",
    "        # 從logits取得正類的概率\n",
    "        probs = torch.nn.functional.softmax(outputs.logits, dim=-1)\n",
    "        pos_probs_batch = probs[:, 1].cpu().numpy()\n",
    "        \n",
    "    preds.append(preds_batch)\n",
    "    labels_list.append(labels_batch.cpu().numpy())\n",
    "    probs_list.append(pos_probs_batch)\n",
    "\n",
    "preds = np.concatenate(preds)\n",
    "labels = np.concatenate(labels_list)\n",
    "pos_probs = np.concatenate(probs_list)\n",
    "\n",
    "# 計算準確度\n",
    "accuracy = accuracy_score(labels, preds)\n",
    "precision = precision_score(labels, preds)\n",
    "recall = recall_score(labels, preds)\n",
    "f1 = f1_score(labels, preds)\n",
    "# 使用正類的概率計算AUC\n",
    "test_auc = roc_auc_score(labels, pos_probs)\n",
    "\n",
    "print(f\"Test Accuracy: {accuracy * 100:.2f}%\")\n",
    "print(f\"Test Precision: {precision * 100:.2f}%\")\n",
    "print(f\"Test Recall: {recall * 100:.2f}%\")\n",
    "print(f\"Test F1-score: {f1 * 100:.2f}%\")\n",
    "print(f\"Test AUC: {test_auc * 100:.2f}%\")"
   ]
  },
  {
   "cell_type": "code",
   "execution_count": 33,
   "id": "6884f018-17e0-4455-88eb-6d979c67289c",
   "metadata": {
    "tags": []
   },
   "outputs": [],
   "source": [
    "prediction_df = pd.DataFrame(preds)\n",
    "prediction_df.to_csv('test_prediction.csv',index = False)"
   ]
  },
  {
   "cell_type": "code",
   "execution_count": 34,
   "id": "bd638148-84db-4dc3-8d98-24e25940fb36",
   "metadata": {
    "tags": []
   },
   "outputs": [
    {
     "data": {
      "text/plain": [
       "array([1, 1, 1, 1, 1, 1, 1, 1, 0, 1, 1, 1, 1, 1, 0, 0, 1, 0, 1, 1, 1, 0,\n",
       "       1, 0, 1, 1, 1, 1, 1, 1, 1, 0, 1, 1, 1, 1, 1, 0, 1, 0, 1, 1, 1, 1,\n",
       "       1, 1, 1, 0, 0, 1, 1, 1, 1, 0, 0, 1, 1, 1, 1, 1, 1, 1, 1, 1, 1, 1,\n",
       "       1, 1, 1, 1, 1, 0, 1, 1, 1, 0, 1, 0, 1, 1, 1, 1, 0, 1, 1, 1, 1, 1,\n",
       "       1, 1, 0, 1, 1, 1, 1, 1, 1, 0, 0, 1, 1, 0, 1, 1, 1, 1, 1, 1, 1, 1,\n",
       "       1, 1, 1, 1, 1, 1, 1, 1, 1, 1, 1, 0, 1, 1, 1, 1, 0, 1, 1, 1, 1, 1,\n",
       "       1, 1, 0, 1, 1, 1, 1, 1, 1, 1, 1, 1, 1, 1, 1, 0, 1, 1, 1, 1, 1, 1,\n",
       "       1, 1, 1, 1, 1, 0, 0, 1, 1, 1, 1, 1, 1, 1, 0, 0, 1, 1, 1, 0, 0, 1,\n",
       "       1, 0, 0, 1, 1, 1, 0, 1, 1, 1, 1, 1, 1, 1, 1, 1, 1, 1, 1, 1, 1, 1,\n",
       "       1, 1, 1, 1, 1, 1, 0, 0, 1, 1, 1, 1, 1, 0, 1, 1, 1, 1, 1, 1, 1, 1,\n",
       "       0, 1, 1, 0, 1, 1, 1, 0, 1, 1, 1, 1, 1, 1, 0, 1, 1, 0, 1, 1, 1, 1,\n",
       "       1, 1, 0, 1, 1, 1, 1, 1, 1, 1, 1, 1, 1, 1, 1, 0, 1, 0, 1, 1, 1, 0,\n",
       "       1, 1, 0, 1, 0, 1, 1, 1, 1, 0, 1, 1, 1, 1, 1, 1, 0, 0, 1, 0, 1, 1,\n",
       "       1, 1, 1, 0, 1, 1, 1])"
      ]
     },
     "execution_count": 34,
     "metadata": {},
     "output_type": "execute_result"
    }
   ],
   "source": [
    "preds"
   ]
  },
  {
   "cell_type": "code",
   "execution_count": null,
   "id": "de855edc-41c4-4424-a0a0-663566bfc686",
   "metadata": {
    "tags": []
   },
   "outputs": [],
   "source": [
    "pos_probs"
   ]
  }
 ],
 "metadata": {
  "kernelspec": {
   "display_name": "Python 3 (ipykernel)",
   "language": "python",
   "name": "python3"
  },
  "language_info": {
   "codemirror_mode": {
    "name": "ipython",
    "version": 3
   },
   "file_extension": ".py",
   "mimetype": "text/x-python",
   "name": "python",
   "nbconvert_exporter": "python",
   "pygments_lexer": "ipython3",
   "version": "3.9.18"
  }
 },
 "nbformat": 4,
 "nbformat_minor": 5
}
