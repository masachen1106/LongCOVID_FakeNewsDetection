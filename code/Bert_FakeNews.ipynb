{
 "cells": [
  {
   "cell_type": "markdown",
   "id": "363b79ef-7c17-4723-83eb-d31dd6f6f7f9",
   "metadata": {
    "jp-MarkdownHeadingCollapsed": true,
    "tags": []
   },
   "source": [
    "# pip"
   ]
  },
  {
   "cell_type": "code",
   "execution_count": 1,
   "id": "20dbabf4-8fe0-469c-a740-36ea33bea01c",
   "metadata": {
    "tags": []
   },
   "outputs": [
    {
     "name": "stdout",
     "output_type": "stream",
     "text": [
      "Looking in indexes: https://pypi.org/simple, https://pypi.ngc.nvidia.com\n",
      "Requirement already satisfied: pytorch-transformers in /usr/local/lib/python3.9/dist-packages (1.2.0)\n",
      "Requirement already satisfied: torch>=1.0.0 in /usr/local/lib/python3.9/dist-packages (from pytorch-transformers) (1.13.1)\n",
      "Requirement already satisfied: numpy in /usr/local/lib/python3.9/dist-packages (from pytorch-transformers) (1.24.3)\n",
      "Requirement already satisfied: boto3 in /usr/local/lib/python3.9/dist-packages (from pytorch-transformers) (1.26.142)\n",
      "Requirement already satisfied: requests in /usr/local/lib/python3.9/dist-packages (from pytorch-transformers) (2.28.2)\n",
      "Requirement already satisfied: tqdm in /usr/local/lib/python3.9/dist-packages (from pytorch-transformers) (4.65.0)\n",
      "Requirement already satisfied: regex in /usr/local/lib/python3.9/dist-packages (from pytorch-transformers) (2023.3.23)\n",
      "Requirement already satisfied: sentencepiece in /usr/local/lib/python3.9/dist-packages (from pytorch-transformers) (0.1.96)\n",
      "Requirement already satisfied: sacremoses in /usr/local/lib/python3.9/dist-packages (from pytorch-transformers) (0.0.53)\n",
      "Requirement already satisfied: typing-extensions in /usr/local/lib/python3.9/dist-packages (from torch>=1.0.0->pytorch-transformers) (4.5.0)\n",
      "Requirement already satisfied: nvidia-cuda-runtime-cu11==11.7.99 in /usr/local/lib/python3.9/dist-packages (from torch>=1.0.0->pytorch-transformers) (11.7.99)\n",
      "Requirement already satisfied: nvidia-cudnn-cu11==8.5.0.96 in /usr/local/lib/python3.9/dist-packages (from torch>=1.0.0->pytorch-transformers) (8.5.0.96)\n",
      "Requirement already satisfied: nvidia-cublas-cu11==11.10.3.66 in /usr/local/lib/python3.9/dist-packages (from torch>=1.0.0->pytorch-transformers) (11.10.3.66)\n",
      "Requirement already satisfied: nvidia-cuda-nvrtc-cu11==11.7.99 in /usr/local/lib/python3.9/dist-packages (from torch>=1.0.0->pytorch-transformers) (11.7.99)\n",
      "Requirement already satisfied: setuptools in /usr/lib/python3/dist-packages (from nvidia-cublas-cu11==11.10.3.66->torch>=1.0.0->pytorch-transformers) (45.2.0)\n",
      "Requirement already satisfied: wheel in /usr/lib/python3/dist-packages (from nvidia-cublas-cu11==11.10.3.66->torch>=1.0.0->pytorch-transformers) (0.34.2)\n",
      "Requirement already satisfied: botocore<1.30.0,>=1.29.142 in /usr/local/lib/python3.9/dist-packages (from boto3->pytorch-transformers) (1.29.142)\n",
      "Requirement already satisfied: jmespath<2.0.0,>=0.7.1 in /usr/local/lib/python3.9/dist-packages (from boto3->pytorch-transformers) (1.0.1)\n",
      "Requirement already satisfied: s3transfer<0.7.0,>=0.6.0 in /usr/local/lib/python3.9/dist-packages (from boto3->pytorch-transformers) (0.6.1)\n",
      "Requirement already satisfied: charset-normalizer<4,>=2 in /usr/local/lib/python3.9/dist-packages (from requests->pytorch-transformers) (3.1.0)\n",
      "Requirement already satisfied: idna<4,>=2.5 in /usr/lib/python3/dist-packages (from requests->pytorch-transformers) (2.8)\n",
      "Requirement already satisfied: urllib3<1.27,>=1.21.1 in /usr/local/lib/python3.9/dist-packages (from requests->pytorch-transformers) (1.26.15)\n",
      "Requirement already satisfied: certifi>=2017.4.17 in /usr/lib/python3/dist-packages (from requests->pytorch-transformers) (2019.11.28)\n",
      "Requirement already satisfied: click in /usr/local/lib/python3.9/dist-packages (from sacremoses->pytorch-transformers) (8.1.3)\n",
      "Requirement already satisfied: joblib in /usr/local/lib/python3.9/dist-packages (from sacremoses->pytorch-transformers) (1.2.0)\n",
      "Requirement already satisfied: six in /usr/lib/python3/dist-packages (from sacremoses->pytorch-transformers) (1.14.0)\n",
      "Requirement already satisfied: python-dateutil<3.0.0,>=2.1 in /usr/local/lib/python3.9/dist-packages (from botocore<1.30.0,>=1.29.142->boto3->pytorch-transformers) (2.8.2)\n",
      "\u001b[33mDEPRECATION: distro-info 0.23ubuntu1 has a non-standard version number. pip 23.3 will enforce this behaviour change. A possible replacement is to upgrade to a newer version of distro-info or contact the author to suggest that they release a version with a conforming version number. Discussion can be found at https://github.com/pypa/pip/issues/12063\u001b[0m\u001b[33m\n",
      "\u001b[0m\u001b[33mWARNING: Running pip as the 'root' user can result in broken permissions and conflicting behaviour with the system package manager. It is recommended to use a virtual environment instead: https://pip.pypa.io/warnings/venv\u001b[0m\u001b[33m\n",
      "\u001b[0mNote: you may need to restart the kernel to use updated packages.\n"
     ]
    }
   ],
   "source": [
    "pip install pytorch-transformers"
   ]
  },
  {
   "cell_type": "code",
   "execution_count": 2,
   "id": "90cb3133-ad3a-4133-9a6a-a1686f69a938",
   "metadata": {
    "tags": []
   },
   "outputs": [
    {
     "name": "stdout",
     "output_type": "stream",
     "text": [
      "Looking in indexes: https://pypi.org/simple, https://pypi.ngc.nvidia.com\n",
      "Requirement already satisfied: transformers in /usr/local/lib/python3.9/dist-packages (4.28.0.dev0)\n",
      "Requirement already satisfied: filelock in /usr/local/lib/python3.9/dist-packages (from transformers) (3.12.0)\n",
      "Requirement already satisfied: huggingface-hub<1.0,>=0.11.0 in /usr/local/lib/python3.9/dist-packages (from transformers) (0.13.3)\n",
      "Requirement already satisfied: numpy>=1.17 in /usr/local/lib/python3.9/dist-packages (from transformers) (1.24.3)\n",
      "Requirement already satisfied: packaging>=20.0 in /usr/local/lib/python3.9/dist-packages (from transformers) (23.0)\n",
      "Requirement already satisfied: pyyaml>=5.1 in /usr/local/lib/python3.9/dist-packages (from transformers) (6.0)\n",
      "Requirement already satisfied: regex!=2019.12.17 in /usr/local/lib/python3.9/dist-packages (from transformers) (2023.3.23)\n",
      "Requirement already satisfied: requests in /usr/local/lib/python3.9/dist-packages (from transformers) (2.28.2)\n",
      "Requirement already satisfied: tokenizers!=0.11.3,<0.14,>=0.11.1 in /usr/local/lib/python3.9/dist-packages (from transformers) (0.13.2)\n",
      "Requirement already satisfied: tqdm>=4.27 in /usr/local/lib/python3.9/dist-packages (from transformers) (4.65.0)\n",
      "Requirement already satisfied: typing-extensions>=3.7.4.3 in /usr/local/lib/python3.9/dist-packages (from huggingface-hub<1.0,>=0.11.0->transformers) (4.5.0)\n",
      "Requirement already satisfied: charset-normalizer<4,>=2 in /usr/local/lib/python3.9/dist-packages (from requests->transformers) (3.1.0)\n",
      "Requirement already satisfied: idna<4,>=2.5 in /usr/lib/python3/dist-packages (from requests->transformers) (2.8)\n",
      "Requirement already satisfied: urllib3<1.27,>=1.21.1 in /usr/local/lib/python3.9/dist-packages (from requests->transformers) (1.26.15)\n",
      "Requirement already satisfied: certifi>=2017.4.17 in /usr/lib/python3/dist-packages (from requests->transformers) (2019.11.28)\n",
      "\u001b[33mDEPRECATION: distro-info 0.23ubuntu1 has a non-standard version number. pip 23.3 will enforce this behaviour change. A possible replacement is to upgrade to a newer version of distro-info or contact the author to suggest that they release a version with a conforming version number. Discussion can be found at https://github.com/pypa/pip/issues/12063\u001b[0m\u001b[33m\n",
      "\u001b[0m\u001b[33mWARNING: Running pip as the 'root' user can result in broken permissions and conflicting behaviour with the system package manager. It is recommended to use a virtual environment instead: https://pip.pypa.io/warnings/venv\u001b[0m\u001b[33m\n",
      "\u001b[0mNote: you may need to restart the kernel to use updated packages.\n"
     ]
    }
   ],
   "source": [
    "pip install transformers"
   ]
  },
  {
   "cell_type": "code",
   "execution_count": 4,
   "id": "6e966fa5-7de8-4dcb-b437-557937954cd9",
   "metadata": {
    "tags": []
   },
   "outputs": [
    {
     "name": "stdout",
     "output_type": "stream",
     "text": [
      "Looking in indexes: https://pypi.org/simple, https://pypi.ngc.nvidia.com\n",
      "Requirement already satisfied: nltk in /usr/local/lib/python3.9/dist-packages (3.8.1)\n",
      "Requirement already satisfied: click in /usr/local/lib/python3.9/dist-packages (from nltk) (8.1.3)\n",
      "Requirement already satisfied: joblib in /usr/local/lib/python3.9/dist-packages (from nltk) (1.2.0)\n",
      "Requirement already satisfied: regex>=2021.8.3 in /usr/local/lib/python3.9/dist-packages (from nltk) (2023.3.23)\n",
      "Requirement already satisfied: tqdm in /usr/local/lib/python3.9/dist-packages (from nltk) (4.65.0)\n",
      "\u001b[33mDEPRECATION: distro-info 0.23ubuntu1 has a non-standard version number. pip 23.3 will enforce this behaviour change. A possible replacement is to upgrade to a newer version of distro-info or contact the author to suggest that they release a version with a conforming version number. Discussion can be found at https://github.com/pypa/pip/issues/12063\u001b[0m\u001b[33m\n",
      "\u001b[0m\u001b[33mWARNING: Running pip as the 'root' user can result in broken permissions and conflicting behaviour with the system package manager. It is recommended to use a virtual environment instead: https://pip.pypa.io/warnings/venv\u001b[0m\u001b[33m\n",
      "\u001b[0mNote: you may need to restart the kernel to use updated packages.\n"
     ]
    }
   ],
   "source": [
    "pip install nltk"
   ]
  },
  {
   "cell_type": "code",
   "execution_count": 5,
   "id": "c6ac4279-eb59-457b-b033-97421f54468c",
   "metadata": {
    "tags": []
   },
   "outputs": [
    {
     "name": "stdout",
     "output_type": "stream",
     "text": [
      "Looking in indexes: https://pypi.org/simple, https://pypi.ngc.nvidia.com\n",
      "Requirement already satisfied: scikit-learn in /usr/local/lib/python3.9/dist-packages (1.2.2)\n",
      "Requirement already satisfied: numpy>=1.17.3 in /usr/local/lib/python3.9/dist-packages (from scikit-learn) (1.24.3)\n",
      "Requirement already satisfied: scipy>=1.3.2 in /usr/local/lib/python3.9/dist-packages (from scikit-learn) (1.10.1)\n",
      "Requirement already satisfied: joblib>=1.1.1 in /usr/local/lib/python3.9/dist-packages (from scikit-learn) (1.2.0)\n",
      "Requirement already satisfied: threadpoolctl>=2.0.0 in /usr/local/lib/python3.9/dist-packages (from scikit-learn) (3.1.0)\n",
      "\u001b[33mDEPRECATION: distro-info 0.23ubuntu1 has a non-standard version number. pip 23.3 will enforce this behaviour change. A possible replacement is to upgrade to a newer version of distro-info or contact the author to suggest that they release a version with a conforming version number. Discussion can be found at https://github.com/pypa/pip/issues/12063\u001b[0m\u001b[33m\n",
      "\u001b[0m\u001b[33mWARNING: Running pip as the 'root' user can result in broken permissions and conflicting behaviour with the system package manager. It is recommended to use a virtual environment instead: https://pip.pypa.io/warnings/venv\u001b[0m\u001b[33m\n",
      "\u001b[0mNote: you may need to restart the kernel to use updated packages.\n"
     ]
    }
   ],
   "source": [
    "pip install scikit-learn"
   ]
  },
  {
   "cell_type": "code",
   "execution_count": 6,
   "id": "007379c1-7e83-41f5-b272-083019e3fa0f",
   "metadata": {
    "tags": []
   },
   "outputs": [
    {
     "name": "stdout",
     "output_type": "stream",
     "text": [
      "\u001b[33mWARNING: Skipping preprocessor as it is not installed.\u001b[0m\u001b[33m\n",
      "\u001b[0m\u001b[33mWARNING: Running pip as the 'root' user can result in broken permissions and conflicting behaviour with the system package manager. It is recommended to use a virtual environment instead: https://pip.pypa.io/warnings/venv\u001b[0m\u001b[33m\n",
      "\u001b[0mNote: you may need to restart the kernel to use updated packages.\n"
     ]
    }
   ],
   "source": [
    "pip uninstall preprocessor"
   ]
  },
  {
   "cell_type": "code",
   "execution_count": 7,
   "id": "5cae83cf-8b7e-4a22-8b9c-bee94fb14dca",
   "metadata": {
    "tags": []
   },
   "outputs": [
    {
     "name": "stdout",
     "output_type": "stream",
     "text": [
      "Looking in indexes: https://pypi.org/simple, https://pypi.ngc.nvidia.com\n",
      "Requirement already satisfied: tweet-preprocessor in /usr/local/lib/python3.9/dist-packages (0.6.0)\n",
      "\u001b[33mDEPRECATION: distro-info 0.23ubuntu1 has a non-standard version number. pip 23.3 will enforce this behaviour change. A possible replacement is to upgrade to a newer version of distro-info or contact the author to suggest that they release a version with a conforming version number. Discussion can be found at https://github.com/pypa/pip/issues/12063\u001b[0m\u001b[33m\n",
      "\u001b[0m\u001b[33mWARNING: Running pip as the 'root' user can result in broken permissions and conflicting behaviour with the system package manager. It is recommended to use a virtual environment instead: https://pip.pypa.io/warnings/venv\u001b[0m\u001b[33m\n",
      "\u001b[0mNote: you may need to restart the kernel to use updated packages.\n"
     ]
    }
   ],
   "source": [
    "pip install tweet-preprocessor"
   ]
  },
  {
   "cell_type": "code",
   "execution_count": 8,
   "id": "e6927ee3-56a5-4201-9e10-d3cfc2c89ff9",
   "metadata": {
    "tags": []
   },
   "outputs": [
    {
     "name": "stdout",
     "output_type": "stream",
     "text": [
      "Looking in indexes: https://pypi.org/simple, https://pypi.ngc.nvidia.com\n",
      "Requirement already satisfied: keras_preprocessing in /usr/local/lib/python3.9/dist-packages (1.1.2)\n",
      "Requirement already satisfied: numpy>=1.9.1 in /usr/local/lib/python3.9/dist-packages (from keras_preprocessing) (1.24.3)\n",
      "Requirement already satisfied: six>=1.9.0 in /usr/lib/python3/dist-packages (from keras_preprocessing) (1.14.0)\n",
      "\u001b[33mDEPRECATION: distro-info 0.23ubuntu1 has a non-standard version number. pip 23.3 will enforce this behaviour change. A possible replacement is to upgrade to a newer version of distro-info or contact the author to suggest that they release a version with a conforming version number. Discussion can be found at https://github.com/pypa/pip/issues/12063\u001b[0m\u001b[33m\n",
      "\u001b[0m\u001b[33mWARNING: Running pip as the 'root' user can result in broken permissions and conflicting behaviour with the system package manager. It is recommended to use a virtual environment instead: https://pip.pypa.io/warnings/venv\u001b[0m\u001b[33m\n",
      "\u001b[0mNote: you may need to restart the kernel to use updated packages.\n"
     ]
    }
   ],
   "source": [
    "pip install keras_preprocessing"
   ]
  },
  {
   "cell_type": "code",
   "execution_count": 9,
   "id": "c2c6da30-ea4d-436d-901e-e3059f11f9e5",
   "metadata": {
    "tags": []
   },
   "outputs": [
    {
     "name": "stdout",
     "output_type": "stream",
     "text": [
      "Looking in indexes: https://pypi.org/simple, https://pypi.ngc.nvidia.com\n",
      "Requirement already satisfied: ipywidgets in /usr/local/lib/python3.9/dist-packages (8.0.6)\n",
      "Requirement already satisfied: ipykernel>=4.5.1 in /usr/local/lib/python3.9/dist-packages (from ipywidgets) (6.22.0)\n",
      "Requirement already satisfied: ipython>=6.1.0 in /usr/local/lib/python3.9/dist-packages (from ipywidgets) (8.12.0)\n",
      "Requirement already satisfied: traitlets>=4.3.1 in /usr/local/lib/python3.9/dist-packages (from ipywidgets) (5.9.0)\n",
      "Requirement already satisfied: widgetsnbextension~=4.0.7 in /usr/local/lib/python3.9/dist-packages (from ipywidgets) (4.0.7)\n",
      "Requirement already satisfied: jupyterlab-widgets~=3.0.7 in /usr/local/lib/python3.9/dist-packages (from ipywidgets) (3.0.7)\n",
      "Requirement already satisfied: comm>=0.1.1 in /usr/local/lib/python3.9/dist-packages (from ipykernel>=4.5.1->ipywidgets) (0.1.3)\n",
      "Requirement already satisfied: debugpy>=1.6.5 in /usr/local/lib/python3.9/dist-packages (from ipykernel>=4.5.1->ipywidgets) (1.6.7)\n",
      "Requirement already satisfied: jupyter-client>=6.1.12 in /usr/local/lib/python3.9/dist-packages (from ipykernel>=4.5.1->ipywidgets) (8.1.0)\n",
      "Requirement already satisfied: jupyter-core!=5.0.*,>=4.12 in /usr/local/lib/python3.9/dist-packages (from ipykernel>=4.5.1->ipywidgets) (5.3.0)\n",
      "Requirement already satisfied: matplotlib-inline>=0.1 in /usr/local/lib/python3.9/dist-packages (from ipykernel>=4.5.1->ipywidgets) (0.1.6)\n",
      "Requirement already satisfied: nest-asyncio in /usr/local/lib/python3.9/dist-packages (from ipykernel>=4.5.1->ipywidgets) (1.5.6)\n",
      "Requirement already satisfied: packaging in /usr/local/lib/python3.9/dist-packages (from ipykernel>=4.5.1->ipywidgets) (23.0)\n",
      "Requirement already satisfied: psutil in /usr/local/lib/python3.9/dist-packages (from ipykernel>=4.5.1->ipywidgets) (5.9.4)\n",
      "Requirement already satisfied: pyzmq>=20 in /usr/local/lib/python3.9/dist-packages (from ipykernel>=4.5.1->ipywidgets) (25.0.2)\n",
      "Requirement already satisfied: tornado>=6.1 in /usr/local/lib/python3.9/dist-packages (from ipykernel>=4.5.1->ipywidgets) (6.2)\n",
      "Requirement already satisfied: backcall in /usr/local/lib/python3.9/dist-packages (from ipython>=6.1.0->ipywidgets) (0.2.0)\n",
      "Requirement already satisfied: decorator in /usr/local/lib/python3.9/dist-packages (from ipython>=6.1.0->ipywidgets) (5.1.1)\n",
      "Requirement already satisfied: jedi>=0.16 in /usr/local/lib/python3.9/dist-packages (from ipython>=6.1.0->ipywidgets) (0.18.2)\n",
      "Requirement already satisfied: pickleshare in /usr/local/lib/python3.9/dist-packages (from ipython>=6.1.0->ipywidgets) (0.7.5)\n",
      "Requirement already satisfied: prompt-toolkit!=3.0.37,<3.1.0,>=3.0.30 in /usr/local/lib/python3.9/dist-packages (from ipython>=6.1.0->ipywidgets) (3.0.38)\n",
      "Requirement already satisfied: pygments>=2.4.0 in /usr/local/lib/python3.9/dist-packages (from ipython>=6.1.0->ipywidgets) (2.14.0)\n",
      "Requirement already satisfied: stack-data in /usr/local/lib/python3.9/dist-packages (from ipython>=6.1.0->ipywidgets) (0.6.2)\n",
      "Requirement already satisfied: typing-extensions in /usr/local/lib/python3.9/dist-packages (from ipython>=6.1.0->ipywidgets) (4.5.0)\n",
      "Requirement already satisfied: pexpect>4.3 in /usr/local/lib/python3.9/dist-packages (from ipython>=6.1.0->ipywidgets) (4.8.0)\n",
      "Requirement already satisfied: parso<0.9.0,>=0.8.0 in /usr/local/lib/python3.9/dist-packages (from jedi>=0.16->ipython>=6.1.0->ipywidgets) (0.8.3)\n",
      "Requirement already satisfied: importlib-metadata>=4.8.3 in /usr/local/lib/python3.9/dist-packages (from jupyter-client>=6.1.12->ipykernel>=4.5.1->ipywidgets) (6.2.0)\n",
      "Requirement already satisfied: python-dateutil>=2.8.2 in /usr/local/lib/python3.9/dist-packages (from jupyter-client>=6.1.12->ipykernel>=4.5.1->ipywidgets) (2.8.2)\n",
      "Requirement already satisfied: platformdirs>=2.5 in /usr/local/lib/python3.9/dist-packages (from jupyter-core!=5.0.*,>=4.12->ipykernel>=4.5.1->ipywidgets) (3.2.0)\n",
      "Requirement already satisfied: ptyprocess>=0.5 in /usr/local/lib/python3.9/dist-packages (from pexpect>4.3->ipython>=6.1.0->ipywidgets) (0.7.0)\n",
      "Requirement already satisfied: wcwidth in /usr/local/lib/python3.9/dist-packages (from prompt-toolkit!=3.0.37,<3.1.0,>=3.0.30->ipython>=6.1.0->ipywidgets) (0.2.6)\n",
      "Requirement already satisfied: executing>=1.2.0 in /usr/local/lib/python3.9/dist-packages (from stack-data->ipython>=6.1.0->ipywidgets) (1.2.0)\n",
      "Requirement already satisfied: asttokens>=2.1.0 in /usr/local/lib/python3.9/dist-packages (from stack-data->ipython>=6.1.0->ipywidgets) (2.2.1)\n",
      "Requirement already satisfied: pure-eval in /usr/local/lib/python3.9/dist-packages (from stack-data->ipython>=6.1.0->ipywidgets) (0.2.2)\n",
      "Requirement already satisfied: six in /usr/lib/python3/dist-packages (from asttokens>=2.1.0->stack-data->ipython>=6.1.0->ipywidgets) (1.14.0)\n",
      "Requirement already satisfied: zipp>=0.5 in /usr/local/lib/python3.9/dist-packages (from importlib-metadata>=4.8.3->jupyter-client>=6.1.12->ipykernel>=4.5.1->ipywidgets) (3.15.0)\n",
      "\u001b[33mDEPRECATION: distro-info 0.23ubuntu1 has a non-standard version number. pip 23.3 will enforce this behaviour change. A possible replacement is to upgrade to a newer version of distro-info or contact the author to suggest that they release a version with a conforming version number. Discussion can be found at https://github.com/pypa/pip/issues/12063\u001b[0m\u001b[33m\n",
      "\u001b[0m\u001b[33mWARNING: Running pip as the 'root' user can result in broken permissions and conflicting behaviour with the system package manager. It is recommended to use a virtual environment instead: https://pip.pypa.io/warnings/venv\u001b[0m\u001b[33m\n",
      "\u001b[0mNote: you may need to restart the kernel to use updated packages.\n"
     ]
    }
   ],
   "source": [
    "pip install ipywidgets"
   ]
  },
  {
   "cell_type": "code",
   "execution_count": 10,
   "id": "a0713a79-bf13-4349-9185-1575e3c84bde",
   "metadata": {
    "tags": []
   },
   "outputs": [
    {
     "name": "stdout",
     "output_type": "stream",
     "text": [
      "Looking in indexes: https://pypi.org/simple, https://pypi.ngc.nvidia.com\n",
      "Requirement already satisfied: torchmetrics in /usr/local/lib/python3.9/dist-packages (0.11.4)\n",
      "Requirement already satisfied: numpy>=1.17.2 in /usr/local/lib/python3.9/dist-packages (from torchmetrics) (1.24.3)\n",
      "Requirement already satisfied: torch>=1.8.1 in /usr/local/lib/python3.9/dist-packages (from torchmetrics) (1.13.1)\n",
      "Requirement already satisfied: packaging in /usr/local/lib/python3.9/dist-packages (from torchmetrics) (23.0)\n",
      "Requirement already satisfied: typing-extensions in /usr/local/lib/python3.9/dist-packages (from torch>=1.8.1->torchmetrics) (4.5.0)\n",
      "Requirement already satisfied: nvidia-cuda-runtime-cu11==11.7.99 in /usr/local/lib/python3.9/dist-packages (from torch>=1.8.1->torchmetrics) (11.7.99)\n",
      "Requirement already satisfied: nvidia-cudnn-cu11==8.5.0.96 in /usr/local/lib/python3.9/dist-packages (from torch>=1.8.1->torchmetrics) (8.5.0.96)\n",
      "Requirement already satisfied: nvidia-cublas-cu11==11.10.3.66 in /usr/local/lib/python3.9/dist-packages (from torch>=1.8.1->torchmetrics) (11.10.3.66)\n",
      "Requirement already satisfied: nvidia-cuda-nvrtc-cu11==11.7.99 in /usr/local/lib/python3.9/dist-packages (from torch>=1.8.1->torchmetrics) (11.7.99)\n",
      "Requirement already satisfied: setuptools in /usr/lib/python3/dist-packages (from nvidia-cublas-cu11==11.10.3.66->torch>=1.8.1->torchmetrics) (45.2.0)\n",
      "Requirement already satisfied: wheel in /usr/lib/python3/dist-packages (from nvidia-cublas-cu11==11.10.3.66->torch>=1.8.1->torchmetrics) (0.34.2)\n",
      "\u001b[33mDEPRECATION: distro-info 0.23ubuntu1 has a non-standard version number. pip 23.3 will enforce this behaviour change. A possible replacement is to upgrade to a newer version of distro-info or contact the author to suggest that they release a version with a conforming version number. Discussion can be found at https://github.com/pypa/pip/issues/12063\u001b[0m\u001b[33m\n",
      "\u001b[0m\u001b[33mWARNING: Running pip as the 'root' user can result in broken permissions and conflicting behaviour with the system package manager. It is recommended to use a virtual environment instead: https://pip.pypa.io/warnings/venv\u001b[0m\u001b[33m\n",
      "\u001b[0mNote: you may need to restart the kernel to use updated packages.\n"
     ]
    }
   ],
   "source": [
    "pip install torchmetrics"
   ]
  },
  {
   "cell_type": "markdown",
   "id": "07d3a788-b1d5-45a6-93d2-40991988c27a",
   "metadata": {
    "tags": []
   },
   "source": [
    "# Import module"
   ]
  },
  {
   "cell_type": "code",
   "execution_count": 2,
   "id": "1953b200-95fa-4cbb-99c8-bdabbc1fad3b",
   "metadata": {
    "tags": []
   },
   "outputs": [
    {
     "name": "stderr",
     "output_type": "stream",
     "text": [
      "[nltk_data] Downloading package punkt to /root/nltk_data...\n",
      "[nltk_data]   Package punkt is already up-to-date!\n",
      "[nltk_data] Downloading package wordnet to /root/nltk_data...\n",
      "[nltk_data]   Package wordnet is already up-to-date!\n",
      "[nltk_data] Downloading package stopwords to /root/nltk_data...\n",
      "[nltk_data]   Package stopwords is already up-to-date!\n"
     ]
    }
   ],
   "source": [
    "import torch\n",
    "from torch.utils.data import TensorDataset, DataLoader, RandomSampler, SequentialSampler, SubsetRandomSampler\n",
    "from keras_preprocessing.sequence import pad_sequences\n",
    "from sklearn.model_selection import train_test_split\n",
    "from sklearn.metrics import accuracy_score, precision_score, recall_score, f1_score, roc_curve, auc, roc_auc_score, RocCurveDisplay, confusion_matrix, ConfusionMatrixDisplay\n",
    "import preprocessor as p\n",
    "\n",
    "from transformers import XLMModel, BertTokenizer, BertForSequenceClassification,  XLNetTokenizer, XLNetForSequenceClassification\n",
    "from transformers import AdamW, get_linear_schedule_with_warmup\n",
    "import nltk\n",
    "nltk.download('punkt')\n",
    "nltk.download('wordnet')\n",
    "nltk.download('stopwords')\n",
    "from nltk.stem import WordNetLemmatizer\n",
    "from nltk.stem.porter import PorterStemmer\n",
    "from nltk.corpus import stopwords\n",
    "stop_words = set(stopwords.words('english'))\n",
    "\n",
    "\n",
    "from tqdm import tqdm, trange\n",
    "from sklearn.model_selection import KFold\n",
    "import pandas as pd\n",
    "import io\n",
    "import numpy as np\n",
    "import matplotlib.pyplot as plt\n",
    "%matplotlib inline"
   ]
  },
  {
   "cell_type": "code",
   "execution_count": 3,
   "id": "14cc471c-30de-4a09-843c-9e103d51fe4a",
   "metadata": {
    "tags": []
   },
   "outputs": [
    {
     "data": {
      "text/plain": [
       "'NVIDIA RTX A5000'"
      ]
     },
     "execution_count": 3,
     "metadata": {},
     "output_type": "execute_result"
    }
   ],
   "source": [
    "device = torch.device(\"cuda\" if torch.cuda.is_available() else \"cpu\")\n",
    "n_gpu = torch.cuda.device_count()\n",
    "torch.cuda.get_device_name(0)"
   ]
  },
  {
   "cell_type": "code",
   "execution_count": 4,
   "id": "d582934b-e81f-4a8b-8d01-c16bb6bcd163",
   "metadata": {
    "tags": []
   },
   "outputs": [],
   "source": [
    "MAX_LEN = 256"
   ]
  },
  {
   "cell_type": "markdown",
   "id": "987b4b5d-684a-4866-b779-05c62df125ac",
   "metadata": {
    "tags": []
   },
   "source": [
    "# Load data & preprocessing"
   ]
  },
  {
   "cell_type": "code",
   "execution_count": 5,
   "id": "a248809a-90f8-4aef-9533-8e3e593233e6",
   "metadata": {
    "tags": []
   },
   "outputs": [
    {
     "name": "stdout",
     "output_type": "stream",
     "text": [
      "Total shape : (2927, 3)\n",
      "Label distribution : \n",
      "\t0:566\n",
      "\t1:2361\n",
      "Split shape :  (2341, 3) (293, 3) (293, 3)\n"
     ]
    }
   ],
   "source": [
    "#long_covid\n",
    "df = pd.read_csv('long_covid1003_unique.csv', encoding= 'unicode_escape')\n",
    "print(f'Total shape : {df.shape}\\nLabel distribution : \\n\\t0:{df.shape[0]-df.label.values.sum()}\\n\\t1:{df.label.values.sum()}')\n",
    "df, val_df = train_test_split(df, test_size = 0.2, stratify = df.label, random_state = 42 )\n",
    "val_df, test_df = train_test_split(val_df, test_size = 0.5, stratify = val_df.label, random_state = 42 )\n",
    "print('Split shape : ',df.shape, val_df.shape, test_df.shape)"
   ]
  },
  {
   "cell_type": "code",
   "execution_count": 6,
   "id": "e1b1f269-cca6-44df-809c-3669161ab007",
   "metadata": {
    "tags": []
   },
   "outputs": [
    {
     "data": {
      "text/plain": [
       "1888"
      ]
     },
     "execution_count": 6,
     "metadata": {},
     "output_type": "execute_result"
    }
   ],
   "source": [
    "df.label.values.sum()"
   ]
  },
  {
   "cell_type": "code",
   "execution_count": 7,
   "id": "2ccce5c3-94a9-470d-bfce-619670777c01",
   "metadata": {
    "tags": []
   },
   "outputs": [],
   "source": [
    "#df.tweet.values"
   ]
  },
  {
   "cell_type": "code",
   "execution_count": 8,
   "id": "8faa4a0c-fc1d-447a-9cde-1b688f43de92",
   "metadata": {
    "tags": []
   },
   "outputs": [],
   "source": [
    "wordnet_lemmatizer = WordNetLemmatizer()\n",
    "porter_stemmer  = PorterStemmer()"
   ]
  },
  {
   "cell_type": "code",
   "execution_count": 9,
   "id": "e6e00ff4-ba1a-4bdf-8a93-441e132a7772",
   "metadata": {
    "tags": []
   },
   "outputs": [],
   "source": [
    "p.set_options(p.OPT.URL, p.OPT.EMOJI)\n",
    "\n",
    "def preprocess(row, lemmatizer, stemmer):\n",
    "    text = row['tweet']\n",
    "    # text = text.strip('\\xa0')\n",
    "    text = p.clean(text)\n",
    "    tokenization = nltk.word_tokenize(text)     \n",
    "    tokenization = [w for w in tokenization if not w in stop_words]\n",
    "    #   text = ' '.join([porter_stemmer.stem(w) for w in tokenization])\n",
    "    #   text = ' '.join([lemmatizer.lemmatize(w) for w in tokenization])\n",
    "    # text = re.sub(r'\\([0-9]+\\)', '', text).strip()    \n",
    "    return text"
   ]
  },
  {
   "cell_type": "code",
   "execution_count": 10,
   "id": "8c4dfe63-de3a-4c33-9282-f820f32a602c",
   "metadata": {
    "tags": []
   },
   "outputs": [],
   "source": [
    "df['tweet'] = df.apply(lambda x: preprocess(x, wordnet_lemmatizer, porter_stemmer), 1)\n",
    "val_df['tweet'] = val_df.apply(lambda x: preprocess(x, wordnet_lemmatizer, porter_stemmer), 1)\n",
    "test_df['tweet'] = test_df.apply(lambda x: preprocess(x, wordnet_lemmatizer, porter_stemmer), 1)"
   ]
  },
  {
   "cell_type": "code",
   "execution_count": null,
   "id": "b7cb1417-2550-4009-98d9-b71726605710",
   "metadata": {},
   "outputs": [],
   "source": []
  },
  {
   "cell_type": "code",
   "execution_count": 11,
   "id": "facda6d4-4034-4b99-bf40-4c5049054889",
   "metadata": {
    "tags": []
   },
   "outputs": [],
   "source": [
    "train_sentences = df.tweet.values\n",
    "val_sentences = val_df.tweet.values\n",
    "test_sentences = test_df.tweet.values\n",
    "\n",
    "train_labels = df.label.values\n",
    "val_labels = val_df.label.values\n",
    "test_labels = test_df.label.values\n",
    "#print(train_sentences)"
   ]
  },
  {
   "cell_type": "markdown",
   "id": "96dfa8b2-9eb4-4059-af47-f1964792da5f",
   "metadata": {
    "tags": []
   },
   "source": [
    "# Bert"
   ]
  },
  {
   "cell_type": "code",
   "execution_count": 12,
   "id": "6a5dfa2c-6343-4606-a7e1-0793cc4448d3",
   "metadata": {
    "tags": []
   },
   "outputs": [
    {
     "data": {
      "application/vnd.jupyter.widget-view+json": {
       "model_id": "b6be60be37f04cd7b8a01a9372c5f581",
       "version_major": 2,
       "version_minor": 0
      },
      "text/plain": [
       "Downloading tokenizer_config.json:   0%|          | 0.00/48.0 [00:00<?, ?B/s]"
      ]
     },
     "metadata": {},
     "output_type": "display_data"
    }
   ],
   "source": [
    "tokenizer = BertTokenizer.from_pretrained('bert-base-uncased', do_lower_case=True)"
   ]
  },
  {
   "cell_type": "code",
   "execution_count": 13,
   "id": "662d004c-443b-47c3-b57c-f017ca5d6e55",
   "metadata": {
    "tags": []
   },
   "outputs": [],
   "source": [
    "def Encode_TextWithAttention(sentence,tokenizer,maxlen,padding_type='max_length',attention_mask_flag=True):\n",
    "    encoded_dict = tokenizer.encode_plus(sentence, add_special_tokens=True, max_length=maxlen, truncation=True, padding=padding_type, return_attention_mask=attention_mask_flag)\n",
    "    return encoded_dict['input_ids'],encoded_dict['attention_mask']\n",
    "\n",
    "def Encode_TextWithoutAttention(sentence,tokenizer,maxlen,padding_type='max_length',attention_mask_flag=False):\n",
    "    encoded_dict = tokenizer.encode_plus(sentence, add_special_tokens=True, max_length=maxlen, truncation=True, padding=padding_type, return_attention_mask=attention_mask_flag)\n",
    "    return encoded_dict['input_ids']\n",
    "\n",
    "def get_TokenizedTextWithAttentionMask(sentenceList, tokenizer):\n",
    "    token_ids_list,attention_mask_list = [],[]\n",
    "    for sentence in sentenceList:\n",
    "        token_ids,attention_mask = Encode_TextWithAttention(sentence,tokenizer,MAX_LEN)\n",
    "        token_ids_list.append(token_ids)\n",
    "        attention_mask_list.append(attention_mask)\n",
    "    return token_ids_list,attention_mask_list\n",
    "\n",
    "def get_TokenizedText(sentenceList, tokenizer):\n",
    "    token_ids_list = []\n",
    "    for sentence in sentenceList:\n",
    "        token_ids = Encode_TextWithoutAttention(sentence,tokenizer,MAX_LEN)\n",
    "        token_ids_list.append(token_ids)\n",
    "    return token_ids_list"
   ]
  },
  {
   "cell_type": "code",
   "execution_count": 14,
   "id": "870830e1-23af-40f1-be4d-3a3dd163fb30",
   "metadata": {
    "tags": []
   },
   "outputs": [],
   "source": [
    "train_token_ids,train_attention_masks = torch.tensor(get_TokenizedTextWithAttentionMask(train_sentences,tokenizer))\n",
    "val_token_ids,val_attention_masks = torch.tensor(get_TokenizedTextWithAttentionMask(val_sentences,tokenizer))\n",
    "test_token_ids,test_attention_masks = torch.tensor(get_TokenizedTextWithAttentionMask(test_sentences,tokenizer))\n",
    "\n",
    "train_labels = torch.tensor(train_labels)\n",
    "val_labels = torch.tensor(val_labels)\n",
    "test_labels = torch.tensor(test_labels)"
   ]
  },
  {
   "cell_type": "code",
   "execution_count": 15,
   "id": "f34101e5-f70c-4f17-b457-6241612577dd",
   "metadata": {
    "tags": []
   },
   "outputs": [
    {
     "name": "stdout",
     "output_type": "stream",
     "text": [
      "Train token ids:\n",
      " tensor([  101,  2017,  2128, 11311,  2000,  1996, 21887,  7865,  2065,  2017,\n",
      "         3344,  2105,  1037, 25234, 26536,  1997,  2300,  2000,  4392,  2076,\n",
      "         1996,  2154,  1999,  2690,  2082,   102,     0,     0,     0,     0,\n",
      "            0,     0,     0,     0,     0,     0,     0,     0,     0,     0,\n",
      "            0,     0,     0,     0,     0,     0,     0,     0,     0,     0,\n",
      "            0,     0,     0,     0,     0,     0,     0,     0,     0,     0,\n",
      "            0,     0,     0,     0,     0,     0,     0,     0,     0,     0,\n",
      "            0,     0,     0,     0,     0,     0,     0,     0,     0,     0,\n",
      "            0,     0,     0,     0,     0,     0,     0,     0,     0,     0,\n",
      "            0,     0,     0,     0,     0,     0,     0,     0,     0,     0,\n",
      "            0,     0,     0,     0,     0,     0,     0,     0,     0,     0,\n",
      "            0,     0,     0,     0,     0,     0,     0,     0,     0,     0,\n",
      "            0,     0,     0,     0,     0,     0,     0,     0,     0,     0,\n",
      "            0,     0,     0,     0,     0,     0,     0,     0,     0,     0,\n",
      "            0,     0,     0,     0,     0,     0,     0,     0,     0,     0,\n",
      "            0,     0,     0,     0,     0,     0,     0,     0,     0,     0,\n",
      "            0,     0,     0,     0,     0,     0,     0,     0,     0,     0,\n",
      "            0,     0,     0,     0,     0,     0,     0,     0,     0,     0,\n",
      "            0,     0,     0,     0,     0,     0,     0,     0,     0,     0,\n",
      "            0,     0,     0,     0,     0,     0,     0,     0,     0,     0,\n",
      "            0,     0,     0,     0,     0,     0,     0,     0,     0,     0,\n",
      "            0,     0,     0,     0,     0,     0,     0,     0,     0,     0,\n",
      "            0,     0,     0,     0,     0,     0,     0,     0,     0,     0,\n",
      "            0,     0,     0,     0,     0,     0,     0,     0,     0,     0,\n",
      "            0,     0,     0,     0,     0,     0,     0,     0,     0,     0,\n",
      "            0,     0,     0,     0,     0,     0])\n",
      "Train attention masks:\n",
      " tensor([1, 1, 1, 1, 1, 1, 1, 1, 1, 1, 1, 1, 1, 1, 1, 1, 1, 1, 1, 1, 1, 1, 1, 1,\n",
      "        1, 1, 0, 0, 0, 0, 0, 0, 0, 0, 0, 0, 0, 0, 0, 0, 0, 0, 0, 0, 0, 0, 0, 0,\n",
      "        0, 0, 0, 0, 0, 0, 0, 0, 0, 0, 0, 0, 0, 0, 0, 0, 0, 0, 0, 0, 0, 0, 0, 0,\n",
      "        0, 0, 0, 0, 0, 0, 0, 0, 0, 0, 0, 0, 0, 0, 0, 0, 0, 0, 0, 0, 0, 0, 0, 0,\n",
      "        0, 0, 0, 0, 0, 0, 0, 0, 0, 0, 0, 0, 0, 0, 0, 0, 0, 0, 0, 0, 0, 0, 0, 0,\n",
      "        0, 0, 0, 0, 0, 0, 0, 0, 0, 0, 0, 0, 0, 0, 0, 0, 0, 0, 0, 0, 0, 0, 0, 0,\n",
      "        0, 0, 0, 0, 0, 0, 0, 0, 0, 0, 0, 0, 0, 0, 0, 0, 0, 0, 0, 0, 0, 0, 0, 0,\n",
      "        0, 0, 0, 0, 0, 0, 0, 0, 0, 0, 0, 0, 0, 0, 0, 0, 0, 0, 0, 0, 0, 0, 0, 0,\n",
      "        0, 0, 0, 0, 0, 0, 0, 0, 0, 0, 0, 0, 0, 0, 0, 0, 0, 0, 0, 0, 0, 0, 0, 0,\n",
      "        0, 0, 0, 0, 0, 0, 0, 0, 0, 0, 0, 0, 0, 0, 0, 0, 0, 0, 0, 0, 0, 0, 0, 0,\n",
      "        0, 0, 0, 0, 0, 0, 0, 0, 0, 0, 0, 0, 0, 0, 0, 0])\n"
     ]
    }
   ],
   "source": [
    "print('Train token ids:\\n',train_token_ids[0])\n",
    "print('Train attention masks:\\n', train_attention_masks[0])"
   ]
  },
  {
   "cell_type": "code",
   "execution_count": 16,
   "id": "db739442-b710-49b5-a171-bb56eb28f510",
   "metadata": {
    "tags": []
   },
   "outputs": [],
   "source": [
    "batch_size = 64\n",
    "\n",
    "train_data = TensorDataset(train_token_ids, train_attention_masks, train_labels)\n",
    "train_sampler = RandomSampler(train_data)\n",
    "train_dataloader = DataLoader(train_data, sampler=train_sampler, batch_size=batch_size)\n",
    "\n",
    "validation_data = TensorDataset(val_token_ids, val_attention_masks, val_labels)\n",
    "validation_sampler = SequentialSampler(validation_data)\n",
    "validation_dataloader = DataLoader(validation_data, sampler=validation_sampler, batch_size=batch_size)\n",
    "\n",
    "test_data = TensorDataset(test_token_ids, test_attention_masks, test_labels)\n",
    "test_sampler = SequentialSampler(test_data)\n",
    "test_dataloader = DataLoader(test_data, sampler=test_sampler, batch_size=batch_size)"
   ]
  },
  {
   "cell_type": "code",
   "execution_count": 17,
   "id": "2c5f01b5-1d8b-4155-9bdb-0e86c3966cd4",
   "metadata": {
    "tags": []
   },
   "outputs": [
    {
     "name": "stderr",
     "output_type": "stream",
     "text": [
      "Some weights of the model checkpoint at bert-base-uncased were not used when initializing BertForSequenceClassification: ['cls.seq_relationship.weight', 'cls.predictions.transform.dense.bias', 'cls.seq_relationship.bias', 'cls.predictions.transform.LayerNorm.bias', 'cls.predictions.decoder.weight', 'cls.predictions.bias', 'cls.predictions.transform.LayerNorm.weight', 'cls.predictions.transform.dense.weight']\n",
      "- This IS expected if you are initializing BertForSequenceClassification from the checkpoint of a model trained on another task or with another architecture (e.g. initializing a BertForSequenceClassification model from a BertForPreTraining model).\n",
      "- This IS NOT expected if you are initializing BertForSequenceClassification from the checkpoint of a model that you expect to be exactly identical (initializing a BertForSequenceClassification model from a BertForSequenceClassification model).\n",
      "Some weights of BertForSequenceClassification were not initialized from the model checkpoint at bert-base-uncased and are newly initialized: ['classifier.weight', 'classifier.bias']\n",
      "You should probably TRAIN this model on a down-stream task to be able to use it for predictions and inference.\n"
     ]
    }
   ],
   "source": [
    "#load model\n",
    "model = BertForSequenceClassification.from_pretrained('bert-base-uncased', num_labels=2).cuda()\n",
    "epochs = 20\n",
    "#setting parameters of optimizer\n",
    "param_optimizer = list(model.named_parameters())\n",
    "#weight decay to avoid overfitting (linear transformation / self-attention)\n",
    "no_decay = ['bias', 'gamma', 'beta']\n",
    "optimizer_grouped_parameters = [\n",
    "    {'params': [p for n, p in param_optimizer if not any(nd in n for nd in no_decay)],\n",
    "     'weight_decay_rate': 0.01},\n",
    "    {'params': [p for n, p in param_optimizer if any(nd in n for nd in no_decay)],\n",
    "     'weight_decay_rate': 0.0}\n",
    "]\n",
    "\n",
    "#load optimizer\n",
    "optimizer = torch.optim.AdamW(optimizer_grouped_parameters, lr=2e-5)\n"
   ]
  },
  {
   "cell_type": "code",
   "execution_count": 6,
   "id": "db3412a2-637e-4d8d-8b5a-86d72c91fbe6",
   "metadata": {
    "tags": []
   },
   "outputs": [
    {
     "name": "stdout",
     "output_type": "stream",
     "text": [
      "Number of parameter:109483778\n",
      " and each layer is:[23440896, 393216, 1536, 768, 768, 589824, 768, 589824, 768, 589824, 768, 589824, 768, 768, 768, 2359296, 3072, 2359296, 768, 768, 768, 589824, 768, 589824, 768, 589824, 768, 589824, 768, 768, 768, 2359296, 3072, 2359296, 768, 768, 768, 589824, 768, 589824, 768, 589824, 768, 589824, 768, 768, 768, 2359296, 3072, 2359296, 768, 768, 768, 589824, 768, 589824, 768, 589824, 768, 589824, 768, 768, 768, 2359296, 3072, 2359296, 768, 768, 768, 589824, 768, 589824, 768, 589824, 768, 589824, 768, 768, 768, 2359296, 3072, 2359296, 768, 768, 768, 589824, 768, 589824, 768, 589824, 768, 589824, 768, 768, 768, 2359296, 3072, 2359296, 768, 768, 768, 589824, 768, 589824, 768, 589824, 768, 589824, 768, 768, 768, 2359296, 3072, 2359296, 768, 768, 768, 589824, 768, 589824, 768, 589824, 768, 589824, 768, 768, 768, 2359296, 3072, 2359296, 768, 768, 768, 589824, 768, 589824, 768, 589824, 768, 589824, 768, 768, 768, 2359296, 3072, 2359296, 768, 768, 768, 589824, 768, 589824, 768, 589824, 768, 589824, 768, 768, 768, 2359296, 3072, 2359296, 768, 768, 768, 589824, 768, 589824, 768, 589824, 768, 589824, 768, 768, 768, 2359296, 3072, 2359296, 768, 768, 768, 589824, 768, 589824, 768, 589824, 768, 589824, 768, 768, 768, 2359296, 3072, 2359296, 768, 768, 768, 589824, 768, 1536, 2]\n"
     ]
    }
   ],
   "source": [
    "total = [param.nelement() for param in model.parameters()]\n",
    "print(f\"Number of parameter:{sum(total)}\\n and each layer is:{total}\")"
   ]
  },
  {
   "cell_type": "code",
   "execution_count": 24,
   "id": "570f7a7a-75fa-4265-82b6-4917a8cad0e6",
   "metadata": {
    "tags": []
   },
   "outputs": [],
   "source": [
    "#learning rate scheduler(decay)\n",
    "# 指數下降\n",
    "scheduler = torch.optim.lr_scheduler.ExponentialLR(optimizer, gamma=0.8)\n",
    "\n",
    "# # warm up \n",
    "# # 總訓練步數是批次數乘以Epoch數\n",
    "# total_steps = len(train_dataloader) * epochs\n",
    "# scheduler = get_linear_schedule_with_warmup(optimizer, \n",
    "#                                             num_warmup_steps = total_steps*0.2, # 預熱步數，也可以設定為總步數的一部分，如total_steps*0.1\n",
    "#                                             num_training_steps = total_steps)\n"
   ]
  },
  {
   "cell_type": "code",
   "execution_count": 18,
   "id": "cf2551f4-04ac-4a07-9b65-0ace2303d8f8",
   "metadata": {
    "tags": []
   },
   "outputs": [],
   "source": [
    "#define accuracy\n",
    "def flat_accuracy(preds, labels):\n",
    "    pred_flat = np.argmax(preds, axis=1).flatten()\n",
    "    labels_flat = labels.flatten()\n",
    "    return np.sum(pred_flat == labels_flat) / len(labels_flat)\n",
    "\n",
    "#define precision_Score\n",
    "def flat_precision(preds, labels):\n",
    "    pred_flat = np.argmax(preds, axis=1).flatten()\n",
    "    labels_flat = labels.flatten()\n",
    "    return precision_score(labels_flat, pred_flat)\n",
    "\n",
    "#define recall_Score\n",
    "def flat_recall(preds, labels):\n",
    "    pred_flat = np.argmax(preds, axis=1).flatten()\n",
    "    labels_flat = labels.flatten()\n",
    "    return recall_score(labels_flat, pred_flat)\n",
    "\n",
    "#define f1_Score\n",
    "def flat_f1(preds, labels):\n",
    "    pred_flat = np.argmax(preds, axis=1).flatten()\n",
    "    labels_flat = labels.flatten()\n",
    "    return f1_score(labels_flat, pred_flat)\n",
    "\n",
    "def softmax(x):\n",
    "    \"\"\"Compute softmax values for each sets of scores in x.\"\"\"\n",
    "    e_x = np.exp(x - np.max(x, axis=1, keepdims=True))\n",
    "    return e_x / e_x.sum(axis=1, keepdims=True)\n",
    "\n",
    "#define roc_auc\n",
    "def flat_roc_auc(preds, labels):\n",
    "    labels_flat = labels.flatten()\n",
    "    fpr, tpr, thresholds = roc_curve(labels_flat, preds)\n",
    "    roc_auc = auc(fpr, tpr)\n",
    "    return roc_auc\n",
    "    #return roc_auc_score(labels_flat, pred_probs)\n",
    "#Confusion matrix\n",
    "def plot_confusion_matrix(preds, labels):\n",
    "    pred_flat = np.argmax(preds, axis=1).flatten()\n",
    "    labels_flat = labels.flatten()\n",
    "    cm = confusion_matrix(labels_flat, pred_flat)\n",
    "    cm_display = ConfusionMatrixDisplay(cm).plot(cmap='YlOrBr_r')"
   ]
  },
  {
   "cell_type": "code",
   "execution_count": 19,
   "id": "b78883d9-3c99-445a-a838-6b55b9d7e8cb",
   "metadata": {
    "tags": []
   },
   "outputs": [
    {
     "name": "stderr",
     "output_type": "stream",
     "text": [
      "Epoch:   0%|          | 0/20 [00:00<?, ?it/s]"
     ]
    },
    {
     "name": "stdout",
     "output_type": "stream",
     "text": [
      "Validation loss: 0.03901184007928178\n",
      "Validation Accuracy: 0.9002533783783784\n",
      "Validation F1_score: 0.9405537030537031\n",
      "Validation AUC: 0.9327056196621413\n"
     ]
    },
    {
     "name": "stderr",
     "output_type": "stream",
     "text": [
      "Epoch:   5%|▌         | 1/20 [00:15<04:59, 15.77s/it]"
     ]
    },
    {
     "name": "stdout",
     "output_type": "stream",
     "text": [
      "Model Saved\n",
      "Validation loss: 0.028589572254064922\n",
      "Validation Accuracy: 0.9298141891891891\n",
      "Validation F1_score: 0.9574081821039145\n",
      "Validation AUC: 0.9537980739067695\n"
     ]
    },
    {
     "name": "stderr",
     "output_type": "stream",
     "text": [
      "Epoch:  10%|█         | 2/20 [00:31<04:45, 15.83s/it]"
     ]
    },
    {
     "name": "stdout",
     "output_type": "stream",
     "text": [
      "Model Saved\n"
     ]
    },
    {
     "name": "stderr",
     "output_type": "stream",
     "text": [
      "Epoch:  15%|█▌        | 3/20 [00:47<04:27, 15.75s/it]"
     ]
    },
    {
     "name": "stdout",
     "output_type": "stream",
     "text": [
      "Validation loss: 0.02399088381915479\n",
      "Validation Accuracy: 0.9266891891891891\n",
      "Validation F1_score: 0.9551285943614456\n",
      "Validation AUC: 0.962428006775833\n",
      "Validation loss: 0.0290967457600542\n",
      "Validation Accuracy: 0.9360641891891891\n",
      "Validation F1_score: 0.9610445457402783\n",
      "Validation AUC: 0.9569031894031894\n"
     ]
    },
    {
     "name": "stderr",
     "output_type": "stream",
     "text": [
      "Epoch:  20%|██        | 4/20 [01:03<04:14, 15.93s/it]"
     ]
    },
    {
     "name": "stdout",
     "output_type": "stream",
     "text": [
      "Model Saved\n"
     ]
    },
    {
     "name": "stderr",
     "output_type": "stream",
     "text": [
      "Epoch:  25%|██▌       | 5/20 [01:19<03:58, 15.90s/it]"
     ]
    },
    {
     "name": "stdout",
     "output_type": "stream",
     "text": [
      "Validation loss: 0.030219911723523528\n",
      "Validation Accuracy: 0.9235641891891891\n",
      "Validation F1_score: 0.9523812149618601\n",
      "Validation AUC: 0.9602395752395753\n"
     ]
    },
    {
     "name": "stderr",
     "output_type": "stream",
     "text": [
      "Epoch:  30%|███       | 6/20 [01:35<03:42, 15.92s/it]"
     ]
    },
    {
     "name": "stdout",
     "output_type": "stream",
     "text": [
      "Validation loss: 0.03795374748674599\n",
      "Validation Accuracy: 0.9289695945945946\n",
      "Validation F1_score: 0.9559038732386169\n",
      "Validation AUC: 0.9553011682359509\n",
      "Validation loss: 0.03569601194278614\n",
      "Validation Accuracy: 0.9383445945945945\n",
      "Validation F1_score: 0.9618168834809955\n",
      "Validation AUC: 0.9539724245159029\n"
     ]
    },
    {
     "name": "stderr",
     "output_type": "stream",
     "text": [
      "Epoch:  35%|███▌      | 7/20 [01:51<03:29, 16.10s/it]"
     ]
    },
    {
     "name": "stdout",
     "output_type": "stream",
     "text": [
      "Model Saved\n"
     ]
    },
    {
     "name": "stderr",
     "output_type": "stream",
     "text": [
      "Epoch:  40%|████      | 8/20 [02:07<03:12, 16.08s/it]"
     ]
    },
    {
     "name": "stdout",
     "output_type": "stream",
     "text": [
      "Validation loss: 0.04308277851826436\n",
      "Validation Accuracy: 0.9352195945945946\n",
      "Validation F1_score: 0.9600487433642316\n",
      "Validation AUC: 0.9550717036586602\n"
     ]
    },
    {
     "name": "stderr",
     "output_type": "stream",
     "text": [
      "Epoch:  45%|████▌     | 9/20 [02:23<02:56, 16.08s/it]"
     ]
    },
    {
     "name": "stdout",
     "output_type": "stream",
     "text": [
      "Validation loss: 0.04887426141146067\n",
      "Validation Accuracy: 0.9320945945945945\n",
      "Validation F1_score: 0.9578066934900609\n",
      "Validation AUC: 0.9535545452936759\n"
     ]
    },
    {
     "name": "stderr",
     "output_type": "stream",
     "text": [
      "Epoch:  50%|█████     | 10/20 [02:39<02:40, 16.06s/it]"
     ]
    },
    {
     "name": "stdout",
     "output_type": "stream",
     "text": [
      "Validation loss: 0.052133887200742156\n",
      "Validation Accuracy: 0.9352195945945946\n",
      "Validation F1_score: 0.9600487433642316\n",
      "Validation AUC: 0.954391735478692\n"
     ]
    },
    {
     "name": "stderr",
     "output_type": "stream",
     "text": [
      "Epoch:  55%|█████▌    | 11/20 [02:55<02:24, 16.05s/it]"
     ]
    },
    {
     "name": "stdout",
     "output_type": "stream",
     "text": [
      "Validation loss: 0.054485008120536804\n",
      "Validation Accuracy: 0.9266891891891891\n",
      "Validation F1_score: 0.9537941285767373\n",
      "Validation AUC: 0.9556646292515858\n"
     ]
    },
    {
     "name": "stderr",
     "output_type": "stream",
     "text": [
      "Epoch:  60%|██████    | 12/20 [03:11<02:08, 16.04s/it]"
     ]
    },
    {
     "name": "stdout",
     "output_type": "stream",
     "text": [
      "Validation loss: 0.053975594204825325\n",
      "Validation Accuracy: 0.9329391891891892\n",
      "Validation F1_score: 0.957987738917008\n",
      "Validation AUC: 0.9545905744818789\n"
     ]
    },
    {
     "name": "stderr",
     "output_type": "stream",
     "text": [
      "Epoch:  65%|██████▌   | 13/20 [03:27<01:52, 16.03s/it]"
     ]
    },
    {
     "name": "stdout",
     "output_type": "stream",
     "text": [
      "Validation loss: 0.05550457617721042\n",
      "Validation Accuracy: 0.9329391891891892\n",
      "Validation F1_score: 0.957987738917008\n",
      "Validation AUC: 0.9537217211130254\n"
     ]
    },
    {
     "name": "stderr",
     "output_type": "stream",
     "text": [
      "Epoch:  70%|███████   | 14/20 [03:43<01:36, 16.02s/it]"
     ]
    },
    {
     "name": "stdout",
     "output_type": "stream",
     "text": [
      "Validation loss: 0.05673804718094903\n",
      "Validation Accuracy: 0.9329391891891892\n",
      "Validation F1_score: 0.957987738917008\n",
      "Validation AUC: 0.9529136403049447\n"
     ]
    },
    {
     "name": "stderr",
     "output_type": "stream",
     "text": [
      "Epoch:  75%|███████▌  | 15/20 [03:59<01:20, 16.02s/it]"
     ]
    },
    {
     "name": "stdout",
     "output_type": "stream",
     "text": [
      "Validation loss: 0.05783311378311466\n",
      "Validation Accuracy: 0.9329391891891892\n",
      "Validation F1_score: 0.957987738917008\n",
      "Validation AUC: 0.9521890870803915\n"
     ]
    },
    {
     "name": "stderr",
     "output_type": "stream",
     "text": [
      "Epoch:  80%|████████  | 16/20 [04:15<01:04, 16.01s/it]"
     ]
    },
    {
     "name": "stdout",
     "output_type": "stream",
     "text": [
      "Validation loss: 0.05900175748644648\n",
      "Validation Accuracy: 0.9298141891891891\n",
      "Validation F1_score: 0.9560839659851975\n",
      "Validation AUC: 0.9521890870803915\n"
     ]
    },
    {
     "name": "stderr",
     "output_type": "stream",
     "text": [
      "Epoch:  85%|████████▌ | 17/20 [04:31<00:48, 16.01s/it]"
     ]
    },
    {
     "name": "stdout",
     "output_type": "stream",
     "text": [
      "Validation loss: 0.05884077178465354\n",
      "Validation Accuracy: 0.9320945945945945\n",
      "Validation F1_score: 0.9577038040105101\n",
      "Validation AUC: 0.9505139104052148\n"
     ]
    },
    {
     "name": "stderr",
     "output_type": "stream",
     "text": [
      "Epoch:  90%|█████████ | 18/20 [04:47<00:32, 16.00s/it]"
     ]
    },
    {
     "name": "stdout",
     "output_type": "stream",
     "text": [
      "Validation loss: 0.06121068548511814\n",
      "Validation Accuracy: 0.9235641891891891\n",
      "Validation F1_score: 0.9517835465661552\n",
      "Validation AUC: 0.9539207290294247\n"
     ]
    },
    {
     "name": "stderr",
     "output_type": "stream",
     "text": [
      "Epoch:  95%|█████████▌| 19/20 [05:03<00:16, 16.00s/it]"
     ]
    },
    {
     "name": "stdout",
     "output_type": "stream",
     "text": [
      "Validation loss: 0.06202356920048997\n",
      "Validation Accuracy: 0.9266891891891891\n",
      "Validation F1_score: 0.9540743366549818\n",
      "Validation AUC: 0.9522637467202685\n"
     ]
    },
    {
     "name": "stderr",
     "output_type": "stream",
     "text": [
      "Epoch: 100%|██████████| 20/20 [05:19<00:00, 16.00s/it]"
     ]
    },
    {
     "name": "stdout",
     "output_type": "stream",
     "text": [
      "Validation loss: 0.06499312173675846\n",
      "Validation Accuracy: 0.9204391891891891\n",
      "Validation F1_score: 0.9496924337954308\n",
      "Validation AUC: 0.9510102216623956\n"
     ]
    },
    {
     "name": "stderr",
     "output_type": "stream",
     "text": [
      "\n"
     ]
    }
   ],
   "source": [
    "#prepare clean sets to store performance of each epoches\n",
    "train_loss_set = []\n",
    "val_loss_set = []\n",
    "train_acc_set = []\n",
    "val_acc_set = []\n",
    "val_f1_set = []\n",
    "val_auc_set = []\n",
    "best_val_f1_score = 0.90\n",
    "directory_path = ''\n",
    "\n",
    "\n",
    "#training\n",
    "for _ in trange(epochs, desc=\"Epoch\"):\n",
    "    model.train()\n",
    "    tr_loss, train_accuracy = 0, 0\n",
    "    nb_tr_examples, nb_tr_steps = 0, 0\n",
    "  \n",
    "    for step, batch in enumerate(train_dataloader):\n",
    "        batch = tuple(t.to(device) for t in batch)\n",
    "        b_input_ids, b_input_mask, b_labels = batch\n",
    "        optimizer.zero_grad()\n",
    "        outputs = model(b_input_ids, token_type_ids=None, attention_mask=b_input_mask, labels=b_labels)\n",
    "        loss = outputs[0]\n",
    "        logits = outputs[1].cpu().detach().numpy()\n",
    "        label_ids = b_labels.to('cpu').numpy()\n",
    "        \n",
    "        loss.backward()\n",
    "        optimizer.step()\n",
    "        \n",
    "        tr_loss += loss.item()\n",
    "        nb_tr_examples += b_input_ids.size(0)\n",
    "\n",
    "        tmp_train_accuracy = flat_accuracy(logits, label_ids)\n",
    "        train_accuracy += tmp_train_accuracy\n",
    "        nb_tr_steps += 1\n",
    "        \n",
    "# learning rate scheduler        \n",
    "    #     # warm up \n",
    "    #     scheduler.step()\n",
    "    # after_lr = optimizer.param_groups[0][\"lr\"] \n",
    "    \n",
    "# #     # Exponential    \n",
    "#     before_lr = optimizer.param_groups[0][\"lr\"]\n",
    "#     scheduler.step()\n",
    "#     after_lr = optimizer.param_groups[0][\"lr\"]\n",
    "    \n",
    "#     print(\"Epoch %d: AdamW lr %.6f -> %.6f\" % (_, before_lr, after_lr))\n",
    "    \n",
    "    train_acc_set.append(train_accuracy/nb_tr_steps)\n",
    "    train_loss_set.append(tr_loss/nb_tr_steps)\n",
    "    #print(\"Train loss: {}\".format(tr_loss/nb_tr_steps))\n",
    "    \n",
    "#evaluation\n",
    "    model.eval()\n",
    "\n",
    "    val_loss, eval_accuracy, eval_f1_score, eval_roc_auc = 0, 0, 0, 0\n",
    "    nb_eval_steps, nb_eval_examples = 0, 0\n",
    "\n",
    "    for batch in validation_dataloader:\n",
    "        batch = tuple(t.to(device) for t in batch)\n",
    "        b_input_ids, b_input_mask, b_labels = batch\n",
    "        with torch.no_grad():\n",
    "            outputs = model(b_input_ids, token_type_ids=None, attention_mask=b_input_mask, labels=b_labels)\n",
    "            loss = outputs[0]\n",
    "            logits = outputs[1]\n",
    "            \n",
    "        #move outputs to cpu\n",
    "        logits = logits.detach().cpu().numpy()\n",
    "        label_ids = b_labels.to('cpu').numpy()\n",
    "        \n",
    "        #append loss and calculate accuracy\n",
    "        val_loss += loss.item()\n",
    "        tmp_eval_accuracy = flat_accuracy(logits, label_ids)   \n",
    "        \n",
    "        #calculate f1\n",
    "        tmp_f1 = flat_f1(logits, label_ids)\n",
    "        \n",
    "        #calculate auc_roc_score\n",
    "        probs = softmax(logits)[:,1]\n",
    "        tmp_roc_auc = flat_roc_auc(probs, label_ids)\n",
    "        \n",
    "        #summarize metrics from each batch\n",
    "        eval_accuracy += tmp_eval_accuracy\n",
    "        eval_f1_score += tmp_f1\n",
    "        eval_roc_auc += tmp_roc_auc\n",
    "        nb_eval_steps += 1\n",
    "\n",
    "    val_acc_set.append(eval_accuracy/nb_eval_steps)\n",
    "    val_loss_set.append(val_loss/nb_eval_steps)\n",
    "    val_f1_set.append(eval_f1_score/nb_eval_steps)\n",
    "    val_auc_set.append(eval_roc_auc/nb_eval_steps)\n",
    "    print(\"Validation loss: {}\".format(val_loss/nb_tr_steps))\n",
    "    print(\"Validation Accuracy: {}\".format(eval_accuracy/nb_eval_steps))\n",
    "    print(\"Validation F1_score: {}\".format(eval_f1_score/nb_eval_steps))\n",
    "    print(\"Validation AUC: {}\".format(eval_roc_auc/nb_eval_steps))\n",
    "    Validation_F1_score = (eval_f1_score/nb_eval_steps)\n",
    "    if(Validation_F1_score >= best_val_f1_score):\n",
    "        torch.save(model.state_dict(), 'BERT_base_uncased_best_model.ckpt')\n",
    "        best_val_f1_score = Validation_F1_score\n",
    "        print('Model Saved')"
   ]
  },
  {
   "cell_type": "code",
   "execution_count": 20,
   "id": "e6a5817d-89de-4198-a9b5-118092dc5a21",
   "metadata": {
    "tags": []
   },
   "outputs": [
    {
     "data": {
      "text/plain": [
       "<sklearn.metrics._plot.roc_curve.RocCurveDisplay at 0x7f80456de070>"
      ]
     },
     "execution_count": 20,
     "metadata": {},
     "output_type": "execute_result"
    },
    {
     "data": {
      "image/png": "[encoded data removed]",
      "text/plain": [
       "<Figure size 640x480 with 1 Axes>"
      ]
     },
     "metadata": {},
     "output_type": "display_data"
    }
   ],
   "source": [
    "RocCurveDisplay.from_predictions(label_ids.flatten(), probs, color='#20BEFF')"
   ]
  },
  {
   "cell_type": "markdown",
   "id": "2af2f314-39d3-4fb5-a6b2-e2c20b90719d",
   "metadata": {
    "tags": []
   },
   "source": [
    "# XLNet"
   ]
  },
  {
   "cell_type": "code",
   "execution_count": 12,
   "id": "88910371-46c8-44f8-8d58-42f8f44a0035",
   "metadata": {},
   "outputs": [],
   "source": [
    "tokenizer = XLNetTokenizer.from_pretrained('xlnet-base-cased', do_lower_case=False)"
   ]
  },
  {
   "cell_type": "code",
   "execution_count": 13,
   "id": "868bae8a-c6d5-4194-855a-02f36d9f8339",
   "metadata": {},
   "outputs": [],
   "source": [
    "def Encode_TextWithAttention(sentence,tokenizer,maxlen,padding_type='max_length',attention_mask_flag=True):\n",
    "    encoded_dict = tokenizer.encode_plus(sentence, add_special_tokens=True, max_length=maxlen, truncation=True, padding=padding_type, return_attention_mask=attention_mask_flag)\n",
    "    return encoded_dict['input_ids'],encoded_dict['attention_mask']\n",
    "\n",
    "def Encode_TextWithoutAttention(sentence,tokenizer,maxlen,padding_type='max_length',attention_mask_flag=False):\n",
    "    encoded_dict = tokenizer.encode_plus(sentence, add_special_tokens=True, max_length=maxlen, truncation=True, padding=padding_type, return_attention_mask=attention_mask_flag)\n",
    "    return encoded_dict['input_ids']\n",
    "\n",
    "def get_TokenizedTextWithAttentionMask(sentenceList, tokenizer):\n",
    "    token_ids_list,attention_mask_list = [],[]\n",
    "    for sentence in sentenceList:\n",
    "        token_ids,attention_mask = Encode_TextWithAttention(sentence,tokenizer,MAX_LEN)\n",
    "        token_ids_list.append(token_ids)\n",
    "        attention_mask_list.append(attention_mask)\n",
    "    return token_ids_list,attention_mask_list\n",
    "\n",
    "def get_TokenizedText(sentenceList, tokenizer):\n",
    "    token_ids_list = []\n",
    "    for sentence in sentenceList:\n",
    "        token_ids = Encode_TextWithoutAttention(sentence,tokenizer,MAX_LEN)\n",
    "        token_ids_list.append(token_ids)\n",
    "    return token_ids_list"
   ]
  },
  {
   "cell_type": "code",
   "execution_count": 14,
   "id": "97d60f87-07b9-4b38-8340-8913bfac7dd2",
   "metadata": {},
   "outputs": [],
   "source": [
    "train_token_ids,train_attention_masks = torch.tensor(get_TokenizedTextWithAttentionMask(train_sentences,tokenizer))\n",
    "val_token_ids,val_attention_masks = torch.tensor(get_TokenizedTextWithAttentionMask(val_sentences,tokenizer))\n",
    "test_token_ids,test_attention_masks = torch.tensor(get_TokenizedTextWithAttentionMask(test_sentences,tokenizer))\n",
    "\n",
    "train_labels = torch.tensor(train_labels)\n",
    "val_labels = torch.tensor(val_labels)\n",
    "test_labels = torch.tensor(test_labels)"
   ]
  },
  {
   "cell_type": "code",
   "execution_count": 15,
   "id": "a632a12e-95c0-4593-b1e8-a6b13349b808",
   "metadata": {},
   "outputs": [],
   "source": [
    "batch_size = 64\n",
    "\n",
    "train_data = TensorDataset(train_token_ids, train_attention_masks, train_labels)\n",
    "train_sampler = RandomSampler(train_data)\n",
    "train_dataloader = DataLoader(train_data, sampler=train_sampler, batch_size=batch_size)\n",
    "\n",
    "validation_data = TensorDataset(val_token_ids, val_attention_masks, val_labels)\n",
    "validation_sampler = SequentialSampler(validation_data)\n",
    "validation_dataloader = DataLoader(validation_data, sampler=validation_sampler, batch_size=batch_size)\n",
    "\n",
    "test_data = TensorDataset(test_token_ids, test_attention_masks, test_labels)\n",
    "test_sampler = SequentialSampler(test_data)\n",
    "test_dataloader = DataLoader(test_data, sampler=test_sampler, batch_size=batch_size)\n"
   ]
  },
  {
   "cell_type": "code",
   "execution_count": 8,
   "id": "8e2fbb16-a6e9-4dae-98ff-025e6a786705",
   "metadata": {
    "tags": []
   },
   "outputs": [
    {
     "name": "stderr",
     "output_type": "stream",
     "text": [
      "Some weights of the model checkpoint at xlnet-base-cased were not used when initializing XLNetForSequenceClassification: ['lm_loss.weight', 'lm_loss.bias']\n",
      "- This IS expected if you are initializing XLNetForSequenceClassification from the checkpoint of a model trained on another task or with another architecture (e.g. initializing a BertForSequenceClassification model from a BertForPreTraining model).\n",
      "- This IS NOT expected if you are initializing XLNetForSequenceClassification from the checkpoint of a model that you expect to be exactly identical (initializing a BertForSequenceClassification model from a BertForSequenceClassification model).\n",
      "Some weights of XLNetForSequenceClassification were not initialized from the model checkpoint at xlnet-base-cased and are newly initialized: ['logits_proj.weight', 'logits_proj.bias', 'sequence_summary.summary.bias', 'sequence_summary.summary.weight']\n",
      "You should probably TRAIN this model on a down-stream task to be able to use it for predictions and inference.\n",
      "/usr/local/lib/python3.9/dist-packages/transformers/optimization.py:391: FutureWarning: This implementation of AdamW is deprecated and will be removed in a future version. Use the PyTorch implementation torch.optim.AdamW instead, or set `no_deprecation_warning=True` to disable this warning\n",
      "  warnings.warn(\n"
     ]
    }
   ],
   "source": [
    "model = XLNetForSequenceClassification.from_pretrained(\"xlnet-base-cased\", num_labels=2).cuda()\n",
    "\n",
    "param_optimizer = list(model.named_parameters())\n",
    "no_decay = ['bias', 'gamma', 'beta']\n",
    "optimizer_grouped_parameters = [\n",
    "    {'params': [p for n, p in param_optimizer if not any(nd in n for nd in no_decay)],\n",
    "     'weight_decay_rate': 0.01},\n",
    "    {'params': [p for n, p in param_optimizer if any(nd in n for nd in no_decay)],\n",
    "     'weight_decay_rate': 0.0}\n",
    "]\n",
    "optimizer = AdamW(optimizer_grouped_parameters, lr=2e-5)"
   ]
  },
  {
   "cell_type": "code",
   "execution_count": 9,
   "id": "71004c3e-49bf-4ed5-b1e3-5cc22ea933bf",
   "metadata": {
    "tags": []
   },
   "outputs": [
    {
     "name": "stdout",
     "output_type": "stream",
     "text": [
      "Number of parameter:117310466\n",
      " and each layer is:[768, 24576000, 589824, 589824, 589824, 589824, 589824, 768, 768, 768, 1536, 768, 768, 768, 768, 2359296, 3072, 2359296, 768, 589824, 589824, 589824, 589824, 589824, 768, 768, 768, 1536, 768, 768, 768, 768, 2359296, 3072, 2359296, 768, 589824, 589824, 589824, 589824, 589824, 768, 768, 768, 1536, 768, 768, 768, 768, 2359296, 3072, 2359296, 768, 589824, 589824, 589824, 589824, 589824, 768, 768, 768, 1536, 768, 768, 768, 768, 2359296, 3072, 2359296, 768, 589824, 589824, 589824, 589824, 589824, 768, 768, 768, 1536, 768, 768, 768, 768, 2359296, 3072, 2359296, 768, 589824, 589824, 589824, 589824, 589824, 768, 768, 768, 1536, 768, 768, 768, 768, 2359296, 3072, 2359296, 768, 589824, 589824, 589824, 589824, 589824, 768, 768, 768, 1536, 768, 768, 768, 768, 2359296, 3072, 2359296, 768, 589824, 589824, 589824, 589824, 589824, 768, 768, 768, 1536, 768, 768, 768, 768, 2359296, 3072, 2359296, 768, 589824, 589824, 589824, 589824, 589824, 768, 768, 768, 1536, 768, 768, 768, 768, 2359296, 3072, 2359296, 768, 589824, 589824, 589824, 589824, 589824, 768, 768, 768, 1536, 768, 768, 768, 768, 2359296, 3072, 2359296, 768, 589824, 589824, 589824, 589824, 589824, 768, 768, 768, 1536, 768, 768, 768, 768, 2359296, 3072, 2359296, 768, 589824, 589824, 589824, 589824, 589824, 768, 768, 768, 1536, 768, 768, 768, 768, 2359296, 3072, 2359296, 768, 589824, 768, 1536, 2]\n"
     ]
    }
   ],
   "source": [
    "total = [param.nelement() for param in model.parameters()]\n",
    "print(f\"Number of parameter:{sum(total)}\\n and each layer is:{total}\")"
   ]
  },
  {
   "cell_type": "code",
   "execution_count": 16,
   "id": "fec37449-8dfa-4aa3-a387-9439529e2c8b",
   "metadata": {
    "tags": []
   },
   "outputs": [],
   "source": [
    "#learning rate scheduler(decay)\n",
    "# 指數下降\n",
    "scheduler = torch.optim.lr_scheduler.ExponentialLR(optimizer, gamma=0.9)\n",
    "# decayRate = 0.96\n",
    "# # warm up \n",
    "# # 總訓練步數是批次數乘以Epoch數\n",
    "# total_steps = len(train_dataloader) * epochs\n",
    "# scheduler = get_linear_schedule_with_warmup(optimizer, \n",
    "#                                             num_warmup_steps = total_steps*0.2, # 預熱步數，也可以設定為總步數的一部分，如total_steps*0.1\n",
    "#                                             num_training_steps = total_steps)"
   ]
  },
  {
   "cell_type": "code",
   "execution_count": 32,
   "id": "c92917ed-c338-432b-813a-004680aa4d84",
   "metadata": {
    "tags": []
   },
   "outputs": [],
   "source": [
    "#define accuracy\n",
    "def flat_accuracy(preds, labels):\n",
    "    pred_flat = np.argmax(preds, axis=1).flatten()\n",
    "    labels_flat = labels.flatten()\n",
    "    return np.sum(pred_flat == labels_flat) / len(labels_flat)\n",
    "\n",
    "#define precision_Score\n",
    "def flat_precision(preds, labels):\n",
    "    pred_flat = np.argmax(preds, axis=1).flatten()\n",
    "    labels_flat = labels.flatten()\n",
    "    return precision_score(labels_flat, pred_flat)\n",
    "\n",
    "#define recall_Score\n",
    "def flat_recall(preds, labels):\n",
    "    pred_flat = np.argmax(preds, axis=1).flatten()\n",
    "    labels_flat = labels.flatten()\n",
    "    return recall_score(labels_flat, pred_flat)\n",
    "\n",
    "#define f1_Score\n",
    "def flat_f1(preds, labels):\n",
    "    pred_flat = np.argmax(preds, axis=1).flatten()\n",
    "    labels_flat = labels.flatten()\n",
    "    return f1_score(labels_flat, pred_flat)\n",
    "\n",
    "def softmax(x):\n",
    "    \"\"\"Compute softmax values for each sets of scores in x.\"\"\"\n",
    "    e_x = np.exp(x - np.max(x, axis=1, keepdims=True))\n",
    "    return e_x / e_x.sum(axis=1, keepdims=True)\n",
    "\n",
    "#define roc_auc\n",
    "def flat_roc_auc(preds, labels):\n",
    "    labels_flat = labels.flatten()\n",
    "    fpr, tpr, thresholds = roc_curve(labels_flat, preds)\n",
    "    roc_auc = auc(fpr, tpr)\n",
    "    return roc_auc\n",
    "    #return roc_auc_score(labels_flat, pred_probs)\n",
    "#Confusion matrix\n",
    "def plot_confusion_matrix(preds, labels):\n",
    "    pred_flat = np.argmax(preds, axis=1).flatten()\n",
    "    labels_flat = labels.flatten()\n",
    "    cm = confusion_matrix(labels_flat, pred_flat)\n",
    "    cm_display = ConfusionMatrixDisplay(cm).plot(cmap='YlOrBr_r')"
   ]
  },
  {
   "cell_type": "code",
   "execution_count": 50,
   "id": "34d4cc74-7ca2-4576-9359-7e94cd13ea06",
   "metadata": {
    "tags": []
   },
   "outputs": [
    {
     "name": "stderr",
     "output_type": "stream",
     "text": [
      "Epoch:   0%|          | 0/20 [00:00<?, ?it/s]"
     ]
    },
    {
     "name": "stdout",
     "output_type": "stream",
     "text": [
      "Validation loss: 0.027508145248567737\n",
      "Validation Accuracy: 0.9158783783783784\n",
      "Validation F1_score: 0.9468121024556668\n",
      "Validation AUC: 0.9552513589470111\n"
     ]
    },
    {
     "name": "stderr",
     "output_type": "stream",
     "text": [
      "Epoch:   5%|▌         | 1/20 [00:33<10:37, 33.55s/it]"
     ]
    },
    {
     "name": "stdout",
     "output_type": "stream",
     "text": [
      "Model Saved\n",
      "Validation loss: 0.02233810742964616\n",
      "Validation Accuracy: 0.9360641891891891\n",
      "Validation F1_score: 0.9610436440880005\n",
      "Validation AUC: 0.9680231242187765\n"
     ]
    },
    {
     "name": "stderr",
     "output_type": "stream",
     "text": [
      "Epoch:  10%|█         | 2/20 [01:07<10:06, 33.70s/it]"
     ]
    },
    {
     "name": "stdout",
     "output_type": "stream",
     "text": [
      "Model Saved\n"
     ]
    },
    {
     "name": "stderr",
     "output_type": "stream",
     "text": [
      "Epoch:  15%|█▌        | 3/20 [01:40<09:31, 33.64s/it]"
     ]
    },
    {
     "name": "stdout",
     "output_type": "stream",
     "text": [
      "Validation loss: 0.023726552724838257\n",
      "Validation Accuracy: 0.9360641891891891\n",
      "Validation F1_score: 0.9601118236602109\n",
      "Validation AUC: 0.9699325674325674\n"
     ]
    },
    {
     "name": "stderr",
     "output_type": "stream",
     "text": [
      "Epoch:  20%|██        | 4/20 [02:14<08:58, 33.65s/it]"
     ]
    },
    {
     "name": "stdout",
     "output_type": "stream",
     "text": [
      "Validation loss: 0.027802118024713284\n",
      "Validation Accuracy: 0.9383445945945945\n",
      "Validation F1_score: 0.9608717140499895\n",
      "Validation AUC: 0.9689345075214642\n"
     ]
    },
    {
     "name": "stderr",
     "output_type": "stream",
     "text": [
      "Epoch:  25%|██▌       | 5/20 [02:48<08:25, 33.69s/it]"
     ]
    },
    {
     "name": "stdout",
     "output_type": "stream",
     "text": [
      "Validation loss: 0.034107456134783255\n",
      "Validation Accuracy: 0.9195945945945946\n",
      "Validation F1_score: 0.9485616428845394\n",
      "Validation AUC: 0.96762032653337\n",
      "Validation loss: 0.030520985154686747\n",
      "Validation Accuracy: 0.9445945945945946\n",
      "Validation F1_score: 0.9648655031927801\n",
      "Validation AUC: 0.9652324366454803\n"
     ]
    },
    {
     "name": "stderr",
     "output_type": "stream",
     "text": [
      "Epoch:  30%|███       | 6/20 [03:22<07:54, 33.88s/it]"
     ]
    },
    {
     "name": "stdout",
     "output_type": "stream",
     "text": [
      "Model Saved\n"
     ]
    },
    {
     "name": "stderr",
     "output_type": "stream",
     "text": [
      "Epoch:  35%|███▌      | 7/20 [03:56<07:20, 33.87s/it]"
     ]
    },
    {
     "name": "stdout",
     "output_type": "stream",
     "text": [
      "Validation loss: 0.038975583188034395\n",
      "Validation Accuracy: 0.9320945945945945\n",
      "Validation F1_score: 0.9570303704186875\n",
      "Validation AUC: 0.9704817404817405\n"
     ]
    },
    {
     "name": "stderr",
     "output_type": "stream",
     "text": [
      "Epoch:  40%|████      | 8/20 [04:30<06:46, 33.86s/it]"
     ]
    },
    {
     "name": "stdout",
     "output_type": "stream",
     "text": [
      "Validation loss: 0.02874739415238838\n",
      "Validation Accuracy: 0.9414695945945946\n",
      "Validation F1_score: 0.9629311498505517\n",
      "Validation AUC: 0.9750130907739603\n"
     ]
    },
    {
     "name": "stderr",
     "output_type": "stream",
     "text": [
      "Epoch:  45%|████▌     | 9/20 [05:04<06:12, 33.86s/it]"
     ]
    },
    {
     "name": "stdout",
     "output_type": "stream",
     "text": [
      "Validation loss: 0.03717708124502285\n",
      "Validation Accuracy: 0.9289695945945946\n",
      "Validation F1_score: 0.954834042476865\n",
      "Validation AUC: 0.9716292041292041\n"
     ]
    },
    {
     "name": "stderr",
     "output_type": "stream",
     "text": [
      "Epoch:  50%|█████     | 10/20 [05:38<05:38, 33.87s/it]"
     ]
    },
    {
     "name": "stdout",
     "output_type": "stream",
     "text": [
      "Validation loss: 0.04293109203462262\n",
      "Validation Accuracy: 0.9423141891891891\n",
      "Validation F1_score: 0.9642022169350227\n",
      "Validation AUC: 0.9642954871215741\n"
     ]
    },
    {
     "name": "stderr",
     "output_type": "stream",
     "text": [
      "Epoch:  55%|█████▌    | 11/20 [06:11<05:04, 33.84s/it]"
     ]
    },
    {
     "name": "stdout",
     "output_type": "stream",
     "text": [
      "Validation loss: 0.05555130692349898\n",
      "Validation Accuracy: 0.9110641891891891\n",
      "Validation F1_score: 0.9428405480472442\n",
      "Validation AUC: 0.9646567080262732\n"
     ]
    },
    {
     "name": "stderr",
     "output_type": "stream",
     "text": [
      "Epoch:  60%|██████    | 12/20 [06:45<04:30, 33.82s/it]"
     ]
    },
    {
     "name": "stdout",
     "output_type": "stream",
     "text": [
      "Validation loss: 0.04940435723275752\n",
      "Validation Accuracy: 0.9391891891891891\n",
      "Validation F1_score: 0.9627031413855338\n",
      "Validation AUC: 0.9658510450901755\n",
      "Validation loss: 0.04668396632061214\n",
      "Validation Accuracy: 0.9445945945945946\n",
      "Validation F1_score: 0.9649512890257759\n",
      "Validation AUC: 0.9671191369017457\n"
     ]
    },
    {
     "name": "stderr",
     "output_type": "stream",
     "text": [
      "Epoch:  65%|██████▌   | 13/20 [07:19<03:57, 33.93s/it]"
     ]
    },
    {
     "name": "stdout",
     "output_type": "stream",
     "text": [
      "Model Saved\n"
     ]
    },
    {
     "name": "stderr",
     "output_type": "stream",
     "text": [
      "Epoch:  70%|███████   | 14/20 [07:53<03:23, 33.88s/it]"
     ]
    },
    {
     "name": "stdout",
     "output_type": "stream",
     "text": [
      "Validation loss: 0.057055727452845185\n",
      "Validation Accuracy: 0.9173141891891892\n",
      "Validation F1_score: 0.9472921754983478\n",
      "Validation AUC: 0.9675537023363111\n"
     ]
    },
    {
     "name": "stderr",
     "output_type": "stream",
     "text": [
      "Epoch:  75%|███████▌  | 15/20 [08:27<02:49, 33.85s/it]"
     ]
    },
    {
     "name": "stdout",
     "output_type": "stream",
     "text": [
      "Validation loss: 0.039135282506813876\n",
      "Validation Accuracy: 0.9320945945945945\n",
      "Validation F1_score: 0.9570657559869792\n",
      "Validation AUC: 0.9719358298706124\n"
     ]
    },
    {
     "name": "stderr",
     "output_type": "stream",
     "text": [
      "Epoch:  80%|████████  | 16/20 [09:01<02:15, 33.82s/it]"
     ]
    },
    {
     "name": "stdout",
     "output_type": "stream",
     "text": [
      "Validation loss: 0.03479406873166964\n",
      "Validation Accuracy: 0.9423141891891891\n",
      "Validation F1_score: 0.9639845101135422\n",
      "Validation AUC: 0.9723398220137351\n"
     ]
    },
    {
     "name": "stderr",
     "output_type": "stream",
     "text": [
      "Epoch:  85%|████████▌ | 17/20 [09:34<01:41, 33.81s/it]"
     ]
    },
    {
     "name": "stdout",
     "output_type": "stream",
     "text": [
      "Validation loss: 0.06140979762012894\n",
      "Validation Accuracy: 0.9150337837837839\n",
      "Validation F1_score: 0.9446752324027287\n",
      "Validation AUC: 0.9720236647410561\n"
     ]
    },
    {
     "name": "stderr",
     "output_type": "stream",
     "text": [
      "Epoch:  90%|█████████ | 18/20 [10:08<01:07, 33.79s/it]"
     ]
    },
    {
     "name": "stdout",
     "output_type": "stream",
     "text": [
      "Validation loss: 0.04899356353121835\n",
      "Validation Accuracy: 0.9235641891891891\n",
      "Validation F1_score: 0.9505775903987859\n",
      "Validation AUC: 0.9766919553876076\n"
     ]
    },
    {
     "name": "stderr",
     "output_type": "stream",
     "text": [
      "Epoch:  95%|█████████▌| 19/20 [10:42<00:33, 33.77s/it]"
     ]
    },
    {
     "name": "stdout",
     "output_type": "stream",
     "text": [
      "Validation loss: 0.04222502568862527\n",
      "Validation Accuracy: 0.9391891891891891\n",
      "Validation F1_score: 0.9621953922655185\n",
      "Validation AUC: 0.971038406038406\n"
     ]
    },
    {
     "name": "stderr",
     "output_type": "stream",
     "text": [
      "Epoch: 100%|██████████| 20/20 [11:16<00:00, 33.81s/it]"
     ]
    },
    {
     "name": "stdout",
     "output_type": "stream",
     "text": [
      "Validation loss: 0.04408585320453386\n",
      "Validation Accuracy: 0.9352195945945946\n",
      "Validation F1_score: 0.9585216880897803\n",
      "Validation AUC: 0.9750376917768222\n"
     ]
    },
    {
     "name": "stderr",
     "output_type": "stream",
     "text": [
      "\n"
     ]
    }
   ],
   "source": [
    "#prepare clean sets to store performance of each epoches\n",
    "epochs = 20\n",
    "train_loss_set = []\n",
    "val_loss_set = []\n",
    "train_acc_set = []\n",
    "val_acc_set = []\n",
    "val_f1_set = []\n",
    "val_auc_set = []\n",
    "best_val_f1_score = 0.90\n",
    "directory_path = ''\n",
    "\n",
    "\n",
    "#training\n",
    "for _ in trange(epochs, desc=\"Epoch\"):\n",
    "    model.train()\n",
    "    tr_loss, train_accuracy = 0, 0\n",
    "    nb_tr_examples, nb_tr_steps = 0, 0\n",
    "  \n",
    "    for step, batch in enumerate(train_dataloader):\n",
    "        batch = tuple(t.to(device) for t in batch)\n",
    "        b_input_ids, b_input_mask, b_labels = batch\n",
    "        optimizer.zero_grad()\n",
    "        outputs = model(b_input_ids, token_type_ids=None, attention_mask=b_input_mask, labels=b_labels)\n",
    "        loss = outputs[0]\n",
    "        logits = outputs[1].cpu().detach().numpy()\n",
    "        label_ids = b_labels.to('cpu').numpy()\n",
    "        \n",
    "        loss.backward()\n",
    "        optimizer.step()\n",
    "        \n",
    "        tr_loss += loss.item()\n",
    "        nb_tr_examples += b_input_ids.size(0)\n",
    "\n",
    "        tmp_train_accuracy = flat_accuracy(logits, label_ids)\n",
    "        train_accuracy += tmp_train_accuracy\n",
    "        nb_tr_steps += 1\n",
    "        \n",
    "# learning rate scheduler        \n",
    "    #     # warm up \n",
    "    #     scheduler.step()\n",
    "    # after_lr = optimizer.param_groups[0][\"lr\"] \n",
    "    \n",
    "# #     # Exponential    \n",
    "#     before_lr = optimizer.param_groups[0][\"lr\"]\n",
    "#     scheduler.step()\n",
    "#     after_lr = optimizer.param_groups[0][\"lr\"]\n",
    "    \n",
    "#     print(\"Epoch %d: AdamW lr %.6f -> %.6f\" % (_, before_lr, after_lr))\n",
    "    \n",
    "    train_acc_set.append(train_accuracy/nb_tr_steps)\n",
    "    train_loss_set.append(tr_loss/nb_tr_steps)\n",
    "    #print(\"Train loss: {}\".format(tr_loss/nb_tr_steps))\n",
    "    \n",
    "#evaluation\n",
    "    model.eval()\n",
    "\n",
    "    val_loss, eval_accuracy, eval_f1_score, eval_roc_auc = 0, 0, 0, 0\n",
    "    nb_eval_steps, nb_eval_examples = 0, 0\n",
    "\n",
    "    for batch in validation_dataloader:\n",
    "        batch = tuple(t.to(device) for t in batch)\n",
    "        b_input_ids, b_input_mask, b_labels = batch\n",
    "        with torch.no_grad():\n",
    "            outputs = model(b_input_ids, token_type_ids=None, attention_mask=b_input_mask, labels=b_labels)\n",
    "            loss = outputs[0]\n",
    "            logits = outputs[1]\n",
    "            \n",
    "        #move outputs to cpu\n",
    "        logits = logits.detach().cpu().numpy()\n",
    "        label_ids = b_labels.to('cpu').numpy()\n",
    "        \n",
    "        #append loss and calculate accuracy\n",
    "        val_loss += loss.item()\n",
    "        tmp_eval_accuracy = flat_accuracy(logits, label_ids)   \n",
    "        \n",
    "        #calculate f1\n",
    "        tmp_f1 = flat_f1(logits, label_ids)\n",
    "        \n",
    "        #calculate auc_roc_score\n",
    "        probs = softmax(logits)[:,1]\n",
    "        tmp_roc_auc = flat_roc_auc(probs, label_ids)\n",
    "        \n",
    "        #summarize metrics from each batch\n",
    "        eval_accuracy += tmp_eval_accuracy\n",
    "        eval_f1_score += tmp_f1\n",
    "        eval_roc_auc += tmp_roc_auc\n",
    "        nb_eval_steps += 1\n",
    "\n",
    "    val_acc_set.append(eval_accuracy/nb_eval_steps)\n",
    "    val_loss_set.append(val_loss/nb_eval_steps)\n",
    "    val_f1_set.append(eval_f1_score/nb_eval_steps)\n",
    "    val_auc_set.append(eval_roc_auc/nb_eval_steps)\n",
    "    print(\"Validation loss: {}\".format(val_loss/nb_tr_steps))\n",
    "    print(\"Validation Accuracy: {}\".format(eval_accuracy/nb_eval_steps))\n",
    "    print(\"Validation F1_score: {}\".format(eval_f1_score/nb_eval_steps))\n",
    "    print(\"Validation AUC: {}\".format(eval_roc_auc/nb_eval_steps))\n",
    "    Validation_F1_score = (eval_f1_score/nb_eval_steps)\n",
    "    if(Validation_F1_score >= best_val_f1_score):\n",
    "        torch.save(model.state_dict(), 'XLNET_base_best_model.ckpt')\n",
    "        best_val_f1_score = Validation_F1_score\n",
    "        print('Model Saved')"
   ]
  },
  {
   "cell_type": "markdown",
   "id": "911e2daa-1090-4c03-aae2-bd2bb40e8995",
   "metadata": {
    "tags": []
   },
   "source": [
    "# Visualization"
   ]
  },
  {
   "cell_type": "code",
   "execution_count": 28,
   "id": "3b21651a-0e16-4e07-b111-c74bc69b10d6",
   "metadata": {
    "tags": []
   },
   "outputs": [
    {
     "data": {
      "text/plain": [
       "<matplotlib.legend.Legend at 0x7f988fe069a0>"
      ]
     },
     "execution_count": 28,
     "metadata": {},
     "output_type": "execute_result"
    },
    {
     "data": {
      "image/png": "[encoded data removed]",
      "text/plain": [
       "<Figure size 640x480 with 1 Axes>"
      ]
     },
     "metadata": {},
     "output_type": "display_data"
    },
    {
     "data": {
      "image/png": "[encoded data removed]",
      "text/plain": [
       "<Figure size 640x480 with 1 Axes>"
      ]
     },
     "metadata": {},
     "output_type": "display_data"
    }
   ],
   "source": [
    "# Visualize training process\n",
    "\n",
    "plt.figure('LOSS(train/val)')\n",
    "plt.title('LOSS(train/val)')\n",
    "plt.ylabel(\"Loss (training and validation)\")\n",
    "plt.xlabel(\"Training Steps\")\n",
    "plt.ylim([-0.1,2])\n",
    "plt.plot(train_loss_set, label = 'train')\n",
    "plt.plot(val_loss_set, label = 'val')\n",
    "plt.legend()\n",
    "\n",
    "plt.figure('Accuracy(train/val)')\n",
    "plt.title('Accuracy(train/val)')\n",
    "plt.ylabel(\"Accuracy (training and validation)\")\n",
    "plt.xlabel(\"Training Steps\")\n",
    "plt.ylim([0,1.1])\n",
    "plt.plot(train_acc_set, label = 'train')\n",
    "plt.plot(val_acc_set, label = 'val_acc')\n",
    "plt.plot(val_f1_set, label = 'val_f1')\n",
    "plt.legend()"
   ]
  },
  {
   "cell_type": "markdown",
   "id": "53ff5dbe-26ea-4cd2-a3d4-636171f58221",
   "metadata": {
    "tags": []
   },
   "source": [
    "# Evaluation"
   ]
  },
  {
   "cell_type": "code",
   "execution_count": null,
   "id": "fe50ad71-638d-464f-aa18-0a7b4efb7c08",
   "metadata": {
    "tags": []
   },
   "outputs": [],
   "source": [
    "# 載入Bert模型\n",
    "model = BertForSequenceClassification.from_pretrained('bert-base-uncased')\n",
    "model.load_state_dict(torch.load('BERT_base_uncased_best_model.ckpt'))\n",
    "model.to(device)\n",
    "model.eval()\n",
    "\n",
    "# 預測\n",
    "preds = []\n",
    "labels_list = []\n",
    "probs_list = []  # 用於存儲正類概率\n",
    "\n",
    "for batch in test_dataloader:\n",
    "    input_ids, attention_mask, labels_batch = [b.to(device) for b in batch]\n",
    "    \n",
    "    with torch.no_grad():\n",
    "        outputs = model(input_ids, attention_mask=attention_mask)\n",
    "        preds_batch = torch.argmax(outputs.logits, dim=-1).cpu().numpy()\n",
    "        # 從logits取得正類的概率\n",
    "        probs = torch.nn.functional.softmax(outputs.logits, dim=-1)\n",
    "        pos_probs_batch = probs[:, 1].cpu().numpy()\n",
    "        \n",
    "    preds.append(preds_batch)\n",
    "    labels_list.append(labels_batch.cpu().numpy())\n",
    "    probs_list.append(pos_probs_batch)\n",
    "\n",
    "preds = np.concatenate(preds)\n",
    "labels = np.concatenate(labels_list)\n",
    "pos_probs = np.concatenate(probs_list)\n",
    "\n",
    "# 計算準確度\n",
    "accuracy = accuracy_score(labels, preds)\n",
    "precision = precision_score(labels, preds)\n",
    "recall = recall_score(labels, preds)\n",
    "f1 = f1_score(labels, preds)\n",
    "# 使用正類的概率計算AUC\n",
    "test_auc = roc_auc_score(labels, pos_probs)\n",
    "\n",
    "print(f\"Test Accuracy: {accuracy * 100:.2f}%\")\n",
    "print(f\"Test Precision: {precision * 100:.2f}%\")\n",
    "print(f\"Test Recall: {recall * 100:.2f}%\")\n",
    "print(f\"Test F1-score: {f1 * 100:.2f}%\")\n",
    "print(f\"Test AUC: {test_auc * 100:.2f}%\")\n"
   ]
  },
  {
   "cell_type": "code",
   "execution_count": null,
   "id": "0c93c5cc-6e9c-4a4d-97fb-248907174651",
   "metadata": {
    "tags": []
   },
   "outputs": [],
   "source": [
    "cm = confusion_matrix(labels, preds)\n",
    "cm_display = ConfusionMatrixDisplay(cm).plot(cmap='YlOrBr_r')"
   ]
  },
  {
   "cell_type": "code",
   "execution_count": 25,
   "id": "366a3907-3cf4-4d30-b846-89122028858b",
   "metadata": {
    "tags": []
   },
   "outputs": [
    {
     "name": "stdout",
     "output_type": "stream",
     "text": [
      "acc:92.93, std:0.84\n",
      "precision:95.30, std:1.24\n",
      "recall:95.27, std:0.72\n",
      "f1:95.28, std:0.54\n",
      "auc:96.99, std:0.52\n",
      "time:343.00, std:6.57\n"
     ]
    }
   ],
   "source": [
    "BERT_ACC = [93.06, 94.01, 93.38, 91.48, 92.74]\n",
    "BERT_PRE = [96.14, 96.98, 94.63, 93.39, 95.34]\n",
    "BERT_REC = [94.51, 94.94, 96.62, 95.36, 94.94]\n",
    "BERT_F1  = [95.32, 95.95, 95.62, 94.36, 95.14]\n",
    "BERT_AUC = [97.54, 97.31, 97.33, 96.15, 96.61]\n",
    "BERT_TIME = [330, 348, 345, 346, 346]\n",
    "\n",
    "print(f'acc:{sum(BERT_ACC)/5:.2f}, std:{np.std(BERT_ACC):.2f}')\n",
    "print(f'precision:{sum(BERT_PRE)/5:.2f}, std:{np.std(BERT_PRE):.2f}')\n",
    "print(f'recall:{sum(BERT_REC)/5:.2f}, std:{np.std(BERT_REC):.2f}')\n",
    "print(f'f1:{sum(BERT_F1)/5:.2f}, std:{np.std(BERT_F1):.2f}')\n",
    "print(f'auc:{sum(BERT_AUC)/5:.2f}, std:{np.std(BERT_AUC):.2f}')\n",
    "print(f'time:{sum(BERT_TIME)/5:.2f}, std:{np.std(BERT_TIME):.2f}')"
   ]
  },
  {
   "cell_type": "code",
   "execution_count": null,
   "id": "635599ba-1a59-461f-a0ef-fd1dbe8197ba",
   "metadata": {
    "tags": []
   },
   "outputs": [],
   "source": [
    "RocCurveDisplay.from_predictions(labels, pos_probs, color='#20BEFF')"
   ]
  },
  {
   "cell_type": "code",
   "execution_count": 16,
   "id": "0bdb6af1-090d-4986-a2ca-c285c012ea32",
   "metadata": {
    "tags": []
   },
   "outputs": [
    {
     "name": "stderr",
     "output_type": "stream",
     "text": [
      "Some weights of the model checkpoint at xlnet-base-cased were not used when initializing XLNetForSequenceClassification: ['lm_loss.weight', 'lm_loss.bias']\n",
      "- This IS expected if you are initializing XLNetForSequenceClassification from the checkpoint of a model trained on another task or with another architecture (e.g. initializing a BertForSequenceClassification model from a BertForPreTraining model).\n",
      "- This IS NOT expected if you are initializing XLNetForSequenceClassification from the checkpoint of a model that you expect to be exactly identical (initializing a BertForSequenceClassification model from a BertForSequenceClassification model).\n",
      "Some weights of XLNetForSequenceClassification were not initialized from the model checkpoint at xlnet-base-cased and are newly initialized: ['sequence_summary.summary.weight', 'logits_proj.weight', 'sequence_summary.summary.bias', 'logits_proj.bias']\n",
      "You should probably TRAIN this model on a down-stream task to be able to use it for predictions and inference.\n"
     ]
    },
    {
     "name": "stdout",
     "output_type": "stream",
     "text": [
      "XLNet Test Accuracy: 92.83%\n",
      "XLNet Test Precision: 94.24%\n",
      "XLNet Test Recall: 97.03%\n",
      "XLNet Test F1-score: 95.62%\n",
      "XLNet Test AUC: 96.12%\n"
     ]
    }
   ],
   "source": [
    "# 載入XLNet模型\n",
    "model = XLNetForSequenceClassification.from_pretrained(\"xlnet-base-cased\")\n",
    "model.load_state_dict(torch.load('XLNET_base_best_model.ckpt'))\n",
    "model.to(device)\n",
    "model.eval()\n",
    "\n",
    "# 預測\n",
    "preds = []\n",
    "labels_list = []\n",
    "probs_list = []  # 用於存儲正類概率\n",
    "\n",
    "for batch in test_dataloader:\n",
    "    input_ids, attention_mask, labels_batch = [b.to(device) for b in batch]\n",
    "    \n",
    "    with torch.no_grad():\n",
    "        outputs = model(input_ids, attention_mask=attention_mask)\n",
    "        preds_batch = torch.argmax(outputs.logits, dim=-1).cpu().numpy()\n",
    "        # 從logits取得正類的概率\n",
    "        probs = torch.nn.functional.softmax(outputs.logits, dim=-1)\n",
    "        pos_probs_batch = probs[:, 1].cpu().numpy()\n",
    "        \n",
    "    preds.append(preds_batch)\n",
    "    labels_list.append(labels_batch.cpu().numpy())\n",
    "    probs_list.append(pos_probs_batch)\n",
    "\n",
    "preds = np.concatenate(preds)\n",
    "labels = np.concatenate(labels_list)\n",
    "pos_probs = np.concatenate(probs_list)\n",
    "\n",
    "# 計算準確度\n",
    "accuracy = accuracy_score(labels, preds)\n",
    "precision = precision_score(labels, preds)\n",
    "recall = recall_score(labels, preds)\n",
    "f1 = f1_score(labels, preds)\n",
    "# 使用正類的概率計算AUC\n",
    "test_auc = roc_auc_score(labels, pos_probs)\n",
    "\n",
    "print(f\"XLNet Test Accuracy: {accuracy * 100:.2f}%\")\n",
    "print(f\"XLNet Test Precision: {precision * 100:.2f}%\")\n",
    "print(f\"XLNet Test Recall: {recall * 100:.2f}%\")\n",
    "print(f\"XLNet Test F1-score: {f1 * 100:.2f}%\")\n",
    "print(f\"XLNet Test AUC: {test_auc * 100:.2f}%\")\n"
   ]
  },
  {
   "cell_type": "code",
   "execution_count": 17,
   "id": "6e54d4f8-f8dc-456f-b82a-6df36bfed43e",
   "metadata": {},
   "outputs": [
    {
     "data": {
      "image/png": "[encoded data removed]",
      "text/plain": [
       "<Figure size 640x480 with 2 Axes>"
      ]
     },
     "metadata": {},
     "output_type": "display_data"
    }
   ],
   "source": [
    "cm = confusion_matrix(labels, preds)\n",
    "cm_display = ConfusionMatrixDisplay(cm).plot(cmap='YlOrBr_r')"
   ]
  },
  {
   "cell_type": "code",
   "execution_count": null,
   "id": "bff7d2d6-3207-42d3-a38c-c5a1425df761",
   "metadata": {
    "tags": []
   },
   "outputs": [],
   "source": [
    "RocCurveDisplay.from_predictions(labels, pos_probs, color='#20BEFF')"
   ]
  },
  {
   "cell_type": "code",
   "execution_count": 27,
   "id": "a953f9a3-045c-46ac-a489-e28ecda2b5bc",
   "metadata": {
    "tags": []
   },
   "outputs": [
    {
     "name": "stdout",
     "output_type": "stream",
     "text": [
      "acc:93.37, std:0.56\n",
      "precision:94.67, std:1.25\n",
      "recall:96.62, std:1.81\n",
      "f1:96.02, std:1.02\n",
      "auc:98.10, std:0.13\n",
      "time:734.80, std:3.43\n"
     ]
    }
   ],
   "source": [
    "XLNet_ACC = [93.06, 93.06, 94.32, 93.69, 92.74]\n",
    "XLNet_PRE = [92.83, 95.36, 94.69, 93.93, 96.52]\n",
    "XLNet_REC = [98.31, 95.36, 97.89, 97.89, 93.67]\n",
    "XLNet_F1  = [95.49, 95.36, 96.27, 97.89, 95.07]\n",
    "XLNet_AUC = [97.99, 98.13, 98.25, 98.22, 97.90]\n",
    "XLNet_TIME = [741, 733, 736, 732, 732]\n",
    "\n",
    "print(f'acc:{sum(XLNet_ACC)/5:.2f}, std:{np.std(XLNet_ACC):.2f}')\n",
    "print(f'precision:{sum(XLNet_PRE)/5:.2f}, std:{np.std(XLNet_PRE):.2f}')\n",
    "print(f'recall:{sum(XLNet_REC)/5:.2f}, std:{np.std(XLNet_REC):.2f}')\n",
    "print(f'f1:{sum(XLNet_F1)/5:.2f}, std:{np.std(XLNet_F1):.2f}')\n",
    "print(f'auc:{sum(XLNet_AUC)/5:.2f}, std:{np.std(XLNet_AUC):.2f}')\n",
    "print(f'time:{sum(XLNet_TIME)/5:.2f}, std:{np.std(XLNet_TIME):.2f}')"
   ]
  },
  {
   "cell_type": "code",
   "execution_count": null,
   "id": "b77ec4e5-2b80-4b1e-b9c2-3e7f7d04b75e",
   "metadata": {},
   "outputs": [],
   "source": []
  },
  {
   "cell_type": "code",
   "execution_count": null,
   "id": "8731458e-62e8-4dcc-a8bb-18ed9bba5fdf",
   "metadata": {},
   "outputs": [],
   "source": [
    "XLNet_ACC = [93.06, 93.06, 94.32, 93.69, 92.74]\n",
    "XLNet_PRE = [92.83, 95.36, 94.69, 93.93, 96.52]\n",
    "XLNet_REC = [98.31, 95.36, 97.89, 97.89, 93.67]\n",
    "XLNet_F1  = [95.49, 95.36, 96.27, 97.89, 95.07]\n",
    "XLNet_AUC = [97.99, 98.13, 98.25, 98.22, 97.90]\n",
    "XLNet_TIME = [741, 733, 736, 732, 732]\n",
    "\n",
    "print(f'acc:{sum(XLNet_ACC)/5:.2f}, std:{np.std(XLNet_ACC):.2f}')\n",
    "print(f'precision:{sum(XLNet_PRE)/5:.2f}, std:{np.std(XLNet_PRE):.2f}')\n",
    "print(f'recall:{sum(XLNet_REC)/5:.2f}, std:{np.std(XLNet_REC):.2f}')\n",
    "print(f'f1:{sum(XLNet_F1)/5:.2f}, std:{np.std(XLNet_F1):.2f}')\n",
    "print(f'auc:{sum(XLNet_AUC)/5:.2f}, std:{np.std(XLNet_AUC):.2f}')\n",
    "print(f'time:{sum(XLNet_TIME)/5:.2f}, std:{np.std(XLNet_TIME):.2f}')"
   ]
  },
  {
   "cell_type": "code",
   "execution_count": 53,
   "id": "62c32b3b-e517-4dee-9c50-7ef3f29ec911",
   "metadata": {
    "tags": []
   },
   "outputs": [
    {
     "name": "stdout",
     "output_type": "stream",
     "text": [
      "[0 1 1 1 1 1 1 1 1 1 0 1 1 1 1 0 0 0 1 0 1 0 1 1 0 1 0 0 1 0 1 0 1 1 0 1 1\n",
      " 0 0 1 1 1 1 1 0 1 1 0 1 1 1 0 1 0 1 0 1 1 0 1 0 0 1 0 1 1 1 0 1 1 1 1 0 1\n",
      " 1 1 1 1 1 1 1 0 1 1 1 1 0 1 1 0 0 0 1 1 1 0 1 1 0 1 1 1 1 0 1 1 1 1 0 1 0\n",
      " 1 1 0 1 1 1 1 0 0 1 1 1 1 1 0 0 1 0 1 0 0 1 1 1 1 0 0 1 1 1 0 1 1 0 1 1 1\n",
      " 0 1 1 1 1 1 1 1 1 1 1 1 1 1 1 1 1 1 1 1 1 1 0 1 1 1 1 0 1 1 0 1 1 1 1 1 1\n",
      " 1 1 1 0 1 1 1 1 0 1 1 1 1 1 1 0 1 1 0 1 1 1 0 1 1 1 1 1 1 1 0 1 1 1 1 1 0\n",
      " 1 1 0 1 1 1 0 1 1 0 0 1 0 0 0 1 1 1 1 1 1 1 1 0 1 1 1 1 1 0 0 1 1 1 0 1 1\n",
      " 0 1 0 1 1 1 1 1 1 1 0 0 1 1 1 1 1 1 1 1 1 1 0 0 1 1 1 1 1 1 1 0 1 0 1 0 1\n",
      " 1 0 1 1 1 1 1 1 1 1 1 1 1 1 1 1 1 1 1 1 1]\n"
     ]
    }
   ],
   "source": [
    "print(labels)"
   ]
  },
  {
   "cell_type": "code",
   "execution_count": 54,
   "id": "5bfa5d20-b721-4966-9289-838ac86a27ad",
   "metadata": {
    "tags": []
   },
   "outputs": [
    {
     "name": "stdout",
     "output_type": "stream",
     "text": [
      "[1 1 1 1 1 1 1 1 1 1 0 1 1 1 1 0 0 0 1 0 1 0 1 1 0 0 0 1 1 1 1 0 1 1 0 1 1\n",
      " 0 1 1 1 1 1 1 0 1 1 0 1 1 1 0 1 0 1 0 1 1 0 1 0 0 1 0 1 1 1 0 1 1 1 1 0 1\n",
      " 1 1 1 1 1 1 1 0 1 1 1 1 0 1 0 0 0 0 1 1 1 0 1 1 0 1 1 1 1 0 1 1 1 0 0 1 0\n",
      " 1 1 0 1 1 1 1 0 0 1 1 1 0 1 0 0 1 0 0 0 0 1 1 1 0 0 1 1 1 1 0 1 1 0 1 1 1\n",
      " 0 1 1 1 1 1 1 1 1 0 1 1 1 1 1 1 1 0 1 1 1 1 0 1 1 1 1 1 1 1 0 1 1 1 1 1 1\n",
      " 1 1 1 0 1 1 1 1 0 1 1 1 1 1 1 1 1 1 1 1 1 1 0 1 1 1 1 1 1 1 0 0 1 1 1 1 0\n",
      " 1 1 1 1 1 1 0 1 1 0 1 1 0 0 0 1 1 1 1 1 0 1 1 0 1 1 1 1 1 0 1 1 1 1 0 1 1\n",
      " 0 1 1 1 1 0 1 1 1 1 0 0 1 1 1 1 1 1 1 1 1 1 0 1 1 1 1 1 1 0 1 1 1 0 1 0 1\n",
      " 1 0 1 1 1 1 1 1 1 1 1 1 1 1 1 1 1 1 1 1 1]\n"
     ]
    }
   ],
   "source": [
    "print(preds)"
   ]
  },
  {
   "cell_type": "code",
   "execution_count": 55,
   "id": "54c6df70-59ba-457d-8ae3-c1b09d8168b4",
   "metadata": {
    "tags": []
   },
   "outputs": [
    {
     "data": {
      "text/plain": [
       "0.917981072555205"
      ]
     },
     "execution_count": 55,
     "metadata": {},
     "output_type": "execute_result"
    }
   ],
   "source": [
    "accuracy_score(labels,preds)"
   ]
  },
  {
   "cell_type": "code",
   "execution_count": 67,
   "id": "1379994d-6dcb-4490-b6b6-4975f3c04461",
   "metadata": {
    "tags": []
   },
   "outputs": [
    {
     "name": "stdout",
     "output_type": "stream",
     "text": [
      "pos_label = 1: 0.9453781512605042\n",
      "pos_label = 0: 0.8354430379746836\n",
      "weighted: 0.9176342740905811\n"
     ]
    }
   ],
   "source": [
    "print('pos_label = 1:',f1_score(labels,preds, average='binary',pos_label=1))\n",
    "print('pos_label = 0:',f1_score(labels,preds, average='binary',pos_label=0))\n",
    "print('weighted:',f1_score(labels,preds, average='weighted'))"
   ]
  },
  {
   "cell_type": "code",
   "execution_count": 75,
   "id": "67d1d57a-a5cf-48f7-ae2f-71903b8ce563",
   "metadata": {
    "tags": []
   },
   "outputs": [
    {
     "name": "stderr",
     "output_type": "stream",
     "text": [
      "Some weights of the model checkpoint at xlnet-base-cased were not used when initializing XLNetForSequenceClassification: ['lm_loss.bias', 'lm_loss.weight']\n",
      "- This IS expected if you are initializing XLNetForSequenceClassification from the checkpoint of a model trained on another task or with another architecture (e.g. initializing a BertForSequenceClassification model from a BertForPreTraining model).\n",
      "- This IS NOT expected if you are initializing XLNetForSequenceClassification from the checkpoint of a model that you expect to be exactly identical (initializing a BertForSequenceClassification model from a BertForSequenceClassification model).\n",
      "Some weights of XLNetForSequenceClassification were not initialized from the model checkpoint at xlnet-base-cased and are newly initialized: ['sequence_summary.summary.bias', 'sequence_summary.summary.weight', 'logits_proj.bias', 'logits_proj.weight']\n",
      "You should probably TRAIN this model on a down-stream task to be able to use it for predictions and inference.\n"
     ]
    },
    {
     "name": "stdout",
     "output_type": "stream",
     "text": [
      "Test Accuracy: 94.95%\n",
      "Test F1-score: 96.72%\n",
      "Test AUC: 97.77%\n"
     ]
    }
   ],
   "source": [
    "# 載入Bert模型 跑valid\n",
    "model = XLNetForSequenceClassification.from_pretrained(\"xlnet-base-cased\")\n",
    "model.load_state_dict(torch.load('XLNET_base_uncased_best_model.ckpt'))\n",
    "model.to(device)\n",
    "model.eval()\n",
    "\n",
    "# 預測\n",
    "preds = []\n",
    "labels_list = []\n",
    "probs_list = []  # 用於存儲正類概率\n",
    "\n",
    "for batch in validation_dataloader:\n",
    "    input_ids, attention_mask, labels_batch = [b.to(device) for b in batch]\n",
    "    \n",
    "    with torch.no_grad():\n",
    "        outputs = model(input_ids, attention_mask=attention_mask)\n",
    "        preds_batch = torch.argmax(outputs.logits, dim=-1).cpu().numpy()\n",
    "        # 從logits取得正類的概率\n",
    "        probs = torch.nn.functional.softmax(outputs.logits, dim=-1)\n",
    "        pos_probs_batch = probs[:, 1].cpu().numpy()\n",
    "        \n",
    "    preds.append(preds_batch)\n",
    "    labels_list.append(labels_batch.cpu().numpy())\n",
    "    probs_list.append(pos_probs_batch)\n",
    "\n",
    "preds = np.concatenate(preds)\n",
    "labels = np.concatenate(labels_list)\n",
    "pos_probs = np.concatenate(probs_list)\n",
    "\n",
    "# 計算準確度\n",
    "accuracy = accuracy_score(labels, preds)\n",
    "f1 = f1_score(labels, preds)\n",
    "# 使用正類的概率計算AUC\n",
    "test_auc = roc_auc_score(labels, pos_probs)\n",
    "\n",
    "print(f\"Test Accuracy: {accuracy * 100:.2f}%\")\n",
    "print(f\"Test F1-score: {f1 * 100:.2f}%\")\n",
    "print(f\"Test AUC: {test_auc * 100:.2f}%\")\n"
   ]
  },
  {
   "cell_type": "code",
   "execution_count": 76,
   "id": "73352dd9-1595-436b-9305-8cc32074e3e0",
   "metadata": {
    "tags": []
   },
   "outputs": [
    {
     "data": {
      "text/plain": [
       "<sklearn.metrics._plot.roc_curve.RocCurveDisplay at 0x7fcf4bceba90>"
      ]
     },
     "execution_count": 76,
     "metadata": {},
     "output_type": "execute_result"
    },
    {
     "data": {
      "image/png": "[encoded data removed]",
      "text/plain": [
       "<Figure size 640x480 with 1 Axes>"
      ]
     },
     "metadata": {},
     "output_type": "display_data"
    }
   ],
   "source": [
    "RocCurveDisplay.from_predictions(labels, pos_probs, color='#20BEFF')"
   ]
  },
  {
   "cell_type": "code",
   "execution_count": null,
   "id": "caaaa6fe-28b9-4dc7-b86a-edb0bfe28236",
   "metadata": {},
   "outputs": [],
   "source": []
  },
  {
   "cell_type": "markdown",
   "id": "49d3ad94-9326-4ff6-8aac-5dbecbe355f1",
   "metadata": {
    "tags": []
   },
   "source": [
    "# Inference(XLNet)\n"
   ]
  },
  {
   "cell_type": "code",
   "execution_count": 5,
   "id": "6d36faa3-70ff-410f-99d5-3a5b74ddddb5",
   "metadata": {
    "tags": []
   },
   "outputs": [
    {
     "name": "stdout",
     "output_type": "stream",
     "text": [
      "Total shape : (4, 4)\n"
     ]
    }
   ],
   "source": [
    "test_df = pd.read_csv('Real_case_inference0319.csv', encoding= 'unicode_escape')\n",
    "print(f'Total shape : {test_df.shape}')"
   ]
  },
  {
   "cell_type": "code",
   "execution_count": 6,
   "id": "be603f07-ceff-424f-9167-a41fae8f5f29",
   "metadata": {
    "tags": []
   },
   "outputs": [],
   "source": [
    "test_sentences = test_df.tweet.values\n",
    "\n",
    "test_labels = test_df.ground_truth.values\n",
    "#print(test_sentences)"
   ]
  },
  {
   "cell_type": "code",
   "execution_count": 7,
   "id": "d760d01c-422f-4894-b1bc-02c6bc2dd4ed",
   "metadata": {
    "tags": []
   },
   "outputs": [],
   "source": [
    "tokenizer = XLNetTokenizer.from_pretrained('xlnet-base-cased', do_lower_case=False)"
   ]
  },
  {
   "cell_type": "code",
   "execution_count": 8,
   "id": "8946beb0-7d73-4a82-828a-7bdaf8432834",
   "metadata": {
    "tags": []
   },
   "outputs": [],
   "source": [
    "def Encode_TextWithAttention(sentence,tokenizer,maxlen,padding_type='max_length',attention_mask_flag=True):\n",
    "    encoded_dict = tokenizer.encode_plus(sentence, add_special_tokens=True, max_length=maxlen, truncation=True, padding=padding_type, return_attention_mask=attention_mask_flag)\n",
    "    return encoded_dict['input_ids'],encoded_dict['attention_mask']\n",
    "\n",
    "def Encode_TextWithoutAttention(sentence,tokenizer,maxlen,padding_type='max_length',attention_mask_flag=False):\n",
    "    encoded_dict = tokenizer.encode_plus(sentence, add_special_tokens=True, max_length=maxlen, truncation=True, padding=padding_type, return_attention_mask=attention_mask_flag)\n",
    "    return encoded_dict['input_ids']\n",
    "\n",
    "def get_TokenizedTextWithAttentionMask(sentenceList, tokenizer):\n",
    "    token_ids_list,attention_mask_list = [],[]\n",
    "    for sentence in sentenceList:\n",
    "        token_ids,attention_mask = Encode_TextWithAttention(sentence,tokenizer,MAX_LEN)\n",
    "        token_ids_list.append(token_ids)\n",
    "        attention_mask_list.append(attention_mask)\n",
    "    return token_ids_list,attention_mask_list\n",
    "\n",
    "def get_TokenizedText(sentenceList, tokenizer):\n",
    "    token_ids_list = []\n",
    "    for sentence in sentenceList:\n",
    "        token_ids = Encode_TextWithoutAttention(sentence,tokenizer,MAX_LEN)\n",
    "        token_ids_list.append(token_ids)\n",
    "    return token_ids_list"
   ]
  },
  {
   "cell_type": "code",
   "execution_count": 9,
   "id": "0395287a-dc06-4eb1-b382-f565ff28e6e5",
   "metadata": {
    "tags": []
   },
   "outputs": [],
   "source": [
    "test_token_ids,test_attention_masks = torch.tensor(get_TokenizedTextWithAttentionMask(test_sentences,tokenizer))\n",
    "test_labels = torch.tensor(test_labels)"
   ]
  },
  {
   "cell_type": "code",
   "execution_count": 10,
   "id": "8cb9fae5-686a-47bb-99be-6b303335ccae",
   "metadata": {
    "tags": []
   },
   "outputs": [],
   "source": [
    "batch_size = 1\n",
    "\n",
    "test_data = TensorDataset(test_token_ids, test_attention_masks, test_labels)\n",
    "test_sampler = SequentialSampler(test_data)\n",
    "test_dataloader = DataLoader(test_data, sampler=test_sampler, batch_size=batch_size)"
   ]
  },
  {
   "cell_type": "code",
   "execution_count": 11,
   "id": "d531202d-46e9-466a-b248-b2f3fb0b0209",
   "metadata": {
    "tags": []
   },
   "outputs": [
    {
     "name": "stderr",
     "output_type": "stream",
     "text": [
      "Some weights of the model checkpoint at xlnet-base-cased were not used when initializing XLNetForSequenceClassification: ['lm_loss.bias', 'lm_loss.weight']\n",
      "- This IS expected if you are initializing XLNetForSequenceClassification from the checkpoint of a model trained on another task or with another architecture (e.g. initializing a BertForSequenceClassification model from a BertForPreTraining model).\n",
      "- This IS NOT expected if you are initializing XLNetForSequenceClassification from the checkpoint of a model that you expect to be exactly identical (initializing a BertForSequenceClassification model from a BertForSequenceClassification model).\n",
      "Some weights of XLNetForSequenceClassification were not initialized from the model checkpoint at xlnet-base-cased and are newly initialized: ['logits_proj.weight', 'sequence_summary.summary.weight', 'logits_proj.bias', 'sequence_summary.summary.bias']\n",
      "You should probably TRAIN this model on a down-stream task to be able to use it for predictions and inference.\n"
     ]
    },
    {
     "name": "stdout",
     "output_type": "stream",
     "text": [
      "XLNet Test Accuracy: 75.00%\n",
      "XLNet Test Precision: 66.67%\n",
      "XLNet Test Recall: 100.00%\n",
      "XLNet Test F1-score: 80.00%\n",
      "XLNet Test AUC: 100.00%\n"
     ]
    }
   ],
   "source": [
    "# 載入XLNet模型\n",
    "model = XLNetForSequenceClassification.from_pretrained(\"xlnet-base-cased\")\n",
    "model.load_state_dict(torch.load('XLNET_base_best_model.ckpt'))\n",
    "model.to(device)\n",
    "model.eval()\n",
    "\n",
    "# 預測\n",
    "preds = []\n",
    "labels_list = []\n",
    "probs_list = []  # 用於存儲正類概率\n",
    "\n",
    "for batch in test_dataloader:\n",
    "    input_ids, attention_mask, labels_batch = [b.to(device) for b in batch]\n",
    "    \n",
    "    with torch.no_grad():\n",
    "        outputs = model(input_ids, attention_mask=attention_mask)\n",
    "        preds_batch = torch.argmax(outputs.logits, dim=-1).cpu().numpy()\n",
    "        # 從logits取得正類的概率\n",
    "        probs = torch.nn.functional.softmax(outputs.logits, dim=-1)\n",
    "        pos_probs_batch = probs[:, 1].cpu().numpy()\n",
    "        \n",
    "    preds.append(preds_batch)\n",
    "    labels_list.append(labels_batch.cpu().numpy())\n",
    "    probs_list.append(pos_probs_batch)\n",
    "\n",
    "preds = np.concatenate(preds)\n",
    "labels = np.concatenate(labels_list)\n",
    "pos_probs = np.concatenate(probs_list)\n",
    "\n",
    "# 計算準確度\n",
    "accuracy = accuracy_score(labels, preds)\n",
    "precision = precision_score(labels, preds)\n",
    "recall = recall_score(labels, preds)\n",
    "f1 = f1_score(labels, preds)\n",
    "# 使用正類的概率計算AUC\n",
    "test_auc = roc_auc_score(labels, pos_probs)\n",
    "\n",
    "print(f\"XLNet Test Accuracy: {accuracy * 100:.2f}%\")\n",
    "print(f\"XLNet Test Precision: {precision * 100:.2f}%\")\n",
    "print(f\"XLNet Test Recall: {recall * 100:.2f}%\")\n",
    "print(f\"XLNet Test F1-score: {f1 * 100:.2f}%\")\n",
    "print(f\"XLNet Test AUC: {test_auc * 100:.2f}%\")\n"
   ]
  },
  {
   "cell_type": "code",
   "execution_count": 12,
   "id": "31091c79-b398-476a-a9d3-9c92160ca824",
   "metadata": {},
   "outputs": [
    {
     "data": {
      "image/png": "[encoded data removed]",
      "text/plain": [
       "<Figure size 640x480 with 2 Axes>"
      ]
     },
     "metadata": {},
     "output_type": "display_data"
    }
   ],
   "source": [
    "cm = confusion_matrix(labels, preds)\n",
    "cm_display = ConfusionMatrixDisplay(cm).plot(cmap='YlOrBr_r')"
   ]
  },
  {
   "cell_type": "code",
   "execution_count": 13,
   "id": "a07479b0-5e36-4131-b5c3-3d3d026403a9",
   "metadata": {
    "tags": []
   },
   "outputs": [
    {
     "data": {
      "text/plain": [
       "array([1, 0, 1, 1])"
      ]
     },
     "execution_count": 13,
     "metadata": {},
     "output_type": "execute_result"
    }
   ],
   "source": [
    "preds"
   ]
  },
  {
   "cell_type": "code",
   "execution_count": 2,
   "id": "70ceaea9-9bdd-4b4d-9510-aa286363b131",
   "metadata": {
    "tags": []
   },
   "outputs": [
    {
     "name": "stdout",
     "output_type": "stream",
     "text": [
      "Mon Dec 11 11:43:02 2023       \n",
      "+---------------------------------------------------------------------------------------+\n",
      "| NVIDIA-SMI 535.113.01             Driver Version: 535.113.01   CUDA Version: 12.2     |\n",
      "|-----------------------------------------+----------------------+----------------------+\n",
      "| GPU  Name                 Persistence-M | Bus-Id        Disp.A | Volatile Uncorr. ECC |\n",
      "| Fan  Temp   Perf          Pwr:Usage/Cap |         Memory-Usage | GPU-Util  Compute M. |\n",
      "|                                         |                      |               MIG M. |\n",
      "|=========================================+======================+======================|\n",
      "|   0  NVIDIA RTX A5000               On  | 00000000:65:00.0 Off |                  Off |\n",
      "| 30%   35C    P8              18W / 230W |  22490MiB / 24564MiB |      0%   E. Process |\n",
      "|                                         |                      |                  N/A |\n",
      "+-----------------------------------------+----------------------+----------------------+\n",
      "                                                                                         \n",
      "+---------------------------------------------------------------------------------------+\n",
      "| Processes:                                                                            |\n",
      "|  GPU   GI   CI        PID   Type   Process name                            GPU Memory |\n",
      "|        ID   ID                                                             Usage      |\n",
      "|=======================================================================================|\n",
      "+---------------------------------------------------------------------------------------+\n"
     ]
    }
   ],
   "source": [
    "!nvidia-smi"
   ]
  },
  {
   "cell_type": "code",
   "execution_count": null,
   "id": "3225f018-02f4-4366-be75-40922fd6a9e9",
   "metadata": {},
   "outputs": [],
   "source": []
  }
 ],
 "metadata": {
  "kernelspec": {
   "display_name": "Python 3 (ipykernel)",
   "language": "python",
   "name": "python3"
  },
  "language_info": {
   "codemirror_mode": {
    "name": "ipython",
    "version": 3
   },
   "file_extension": ".py",
   "mimetype": "text/x-python",
   "name": "python",
   "nbconvert_exporter": "python",
   "pygments_lexer": "ipython3",
   "version": "3.9.18"
  }
 },
 "nbformat": 4,
 "nbformat_minor": 5
}
